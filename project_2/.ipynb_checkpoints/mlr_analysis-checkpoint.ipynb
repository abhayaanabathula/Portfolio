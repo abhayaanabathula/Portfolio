{
 "cells": [
  {
   "cell_type": "code",
   "execution_count": 1,
   "id": "ea0cd983-a6ea-4aa4-8c18-2f77404705cc",
   "metadata": {
    "tags": []
   },
   "outputs": [],
   "source": [
    "# import packages\n",
    "\n",
    "# standard imports\n",
    "import pandas as pd \n",
    "import numpy as np \n",
    "import matplotlib.pyplot as plt\n",
    "import seaborn as sns \n",
    "import os\n",
    "# modeling imports\n",
    "from sklearn.linear_model import LinearRegression\n",
    "from sklearn import metrics\n",
    "from sklearn.model_selection import train_test_split, cross_val_score, cross_val_predict"
   ]
  },
  {
   "cell_type": "code",
   "execution_count": 2,
   "id": "77372e7e-d237-49c2-a194-85bf800332c7",
   "metadata": {},
   "outputs": [],
   "source": [
    "pd.set_option(\"display.max_rows\", 101) # in order to display all rows "
   ]
  },
  {
   "cell_type": "code",
   "execution_count": 3,
   "id": "35638081-70c9-43fc-9d7d-dc1864019afe",
   "metadata": {},
   "outputs": [],
   "source": [
    "# read in the filtered train data \n",
    "train= pd.read_csv('datasets/train_filtered.csv') "
   ]
  },
  {
   "cell_type": "code",
   "execution_count": 4,
   "id": "0ede5eec-eaa4-49d8-a812-b228b9600e81",
   "metadata": {},
   "outputs": [
    {
     "data": {
      "text/html": [
       "<div>\n",
       "<style scoped>\n",
       "    .dataframe tbody tr th:only-of-type {\n",
       "        vertical-align: middle;\n",
       "    }\n",
       "\n",
       "    .dataframe tbody tr th {\n",
       "        vertical-align: top;\n",
       "    }\n",
       "\n",
       "    .dataframe thead th {\n",
       "        text-align: right;\n",
       "    }\n",
       "</style>\n",
       "<table border=\"1\" class=\"dataframe\">\n",
       "  <thead>\n",
       "    <tr style=\"text-align: right;\">\n",
       "      <th></th>\n",
       "      <th>Id</th>\n",
       "      <th>PID</th>\n",
       "      <th>MS SubClass</th>\n",
       "      <th>MS Zoning</th>\n",
       "      <th>Lot Frontage</th>\n",
       "      <th>Lot Area</th>\n",
       "      <th>Street</th>\n",
       "      <th>Alley</th>\n",
       "      <th>Lot Shape</th>\n",
       "      <th>Land Contour</th>\n",
       "      <th>...</th>\n",
       "      <th>Screen Porch</th>\n",
       "      <th>Pool Area</th>\n",
       "      <th>Pool QC</th>\n",
       "      <th>Fence</th>\n",
       "      <th>Misc Feature</th>\n",
       "      <th>Misc Val</th>\n",
       "      <th>Mo Sold</th>\n",
       "      <th>Yr Sold</th>\n",
       "      <th>Sale Type</th>\n",
       "      <th>SalePrice</th>\n",
       "    </tr>\n",
       "  </thead>\n",
       "  <tbody>\n",
       "    <tr>\n",
       "      <th>0</th>\n",
       "      <td>109</td>\n",
       "      <td>533352170</td>\n",
       "      <td>60</td>\n",
       "      <td>RL</td>\n",
       "      <td>0.0</td>\n",
       "      <td>13517.0</td>\n",
       "      <td>Pave</td>\n",
       "      <td>0</td>\n",
       "      <td>IR1</td>\n",
       "      <td>Lvl</td>\n",
       "      <td>...</td>\n",
       "      <td>0.0</td>\n",
       "      <td>0.0</td>\n",
       "      <td>0</td>\n",
       "      <td>0</td>\n",
       "      <td>0</td>\n",
       "      <td>0.0</td>\n",
       "      <td>3</td>\n",
       "      <td>2010</td>\n",
       "      <td>WD</td>\n",
       "      <td>130500</td>\n",
       "    </tr>\n",
       "    <tr>\n",
       "      <th>1</th>\n",
       "      <td>544</td>\n",
       "      <td>531379050</td>\n",
       "      <td>60</td>\n",
       "      <td>RL</td>\n",
       "      <td>43.0</td>\n",
       "      <td>11492.0</td>\n",
       "      <td>Pave</td>\n",
       "      <td>0</td>\n",
       "      <td>IR1</td>\n",
       "      <td>Lvl</td>\n",
       "      <td>...</td>\n",
       "      <td>0.0</td>\n",
       "      <td>0.0</td>\n",
       "      <td>0</td>\n",
       "      <td>0</td>\n",
       "      <td>0</td>\n",
       "      <td>0.0</td>\n",
       "      <td>4</td>\n",
       "      <td>2009</td>\n",
       "      <td>WD</td>\n",
       "      <td>220000</td>\n",
       "    </tr>\n",
       "    <tr>\n",
       "      <th>2</th>\n",
       "      <td>153</td>\n",
       "      <td>535304180</td>\n",
       "      <td>20</td>\n",
       "      <td>RL</td>\n",
       "      <td>68.0</td>\n",
       "      <td>7922.0</td>\n",
       "      <td>Pave</td>\n",
       "      <td>0</td>\n",
       "      <td>Reg</td>\n",
       "      <td>Lvl</td>\n",
       "      <td>...</td>\n",
       "      <td>0.0</td>\n",
       "      <td>0.0</td>\n",
       "      <td>0</td>\n",
       "      <td>0</td>\n",
       "      <td>0</td>\n",
       "      <td>0.0</td>\n",
       "      <td>1</td>\n",
       "      <td>2010</td>\n",
       "      <td>WD</td>\n",
       "      <td>109000</td>\n",
       "    </tr>\n",
       "    <tr>\n",
       "      <th>3</th>\n",
       "      <td>318</td>\n",
       "      <td>916386060</td>\n",
       "      <td>60</td>\n",
       "      <td>RL</td>\n",
       "      <td>73.0</td>\n",
       "      <td>9802.0</td>\n",
       "      <td>Pave</td>\n",
       "      <td>0</td>\n",
       "      <td>Reg</td>\n",
       "      <td>Lvl</td>\n",
       "      <td>...</td>\n",
       "      <td>0.0</td>\n",
       "      <td>0.0</td>\n",
       "      <td>0</td>\n",
       "      <td>0</td>\n",
       "      <td>0</td>\n",
       "      <td>0.0</td>\n",
       "      <td>4</td>\n",
       "      <td>2010</td>\n",
       "      <td>WD</td>\n",
       "      <td>174000</td>\n",
       "    </tr>\n",
       "    <tr>\n",
       "      <th>4</th>\n",
       "      <td>255</td>\n",
       "      <td>906425045</td>\n",
       "      <td>50</td>\n",
       "      <td>RL</td>\n",
       "      <td>82.0</td>\n",
       "      <td>14235.0</td>\n",
       "      <td>Pave</td>\n",
       "      <td>0</td>\n",
       "      <td>IR1</td>\n",
       "      <td>Lvl</td>\n",
       "      <td>...</td>\n",
       "      <td>0.0</td>\n",
       "      <td>0.0</td>\n",
       "      <td>0</td>\n",
       "      <td>0</td>\n",
       "      <td>0</td>\n",
       "      <td>0.0</td>\n",
       "      <td>3</td>\n",
       "      <td>2010</td>\n",
       "      <td>WD</td>\n",
       "      <td>138500</td>\n",
       "    </tr>\n",
       "  </tbody>\n",
       "</table>\n",
       "<p>5 rows × 81 columns</p>\n",
       "</div>"
      ],
      "text/plain": [
       "    Id        PID  MS SubClass MS Zoning  Lot Frontage  Lot Area Street Alley  \\\n",
       "0  109  533352170           60        RL           0.0   13517.0   Pave     0   \n",
       "1  544  531379050           60        RL          43.0   11492.0   Pave     0   \n",
       "2  153  535304180           20        RL          68.0    7922.0   Pave     0   \n",
       "3  318  916386060           60        RL          73.0    9802.0   Pave     0   \n",
       "4  255  906425045           50        RL          82.0   14235.0   Pave     0   \n",
       "\n",
       "  Lot Shape Land Contour  ... Screen Porch Pool Area Pool QC Fence  \\\n",
       "0       IR1          Lvl  ...          0.0       0.0       0     0   \n",
       "1       IR1          Lvl  ...          0.0       0.0       0     0   \n",
       "2       Reg          Lvl  ...          0.0       0.0       0     0   \n",
       "3       Reg          Lvl  ...          0.0       0.0       0     0   \n",
       "4       IR1          Lvl  ...          0.0       0.0       0     0   \n",
       "\n",
       "  Misc Feature Misc Val Mo Sold Yr Sold  Sale Type  SalePrice  \n",
       "0            0      0.0       3    2010        WD      130500  \n",
       "1            0      0.0       4    2009        WD      220000  \n",
       "2            0      0.0       1    2010        WD      109000  \n",
       "3            0      0.0       4    2010        WD      174000  \n",
       "4            0      0.0       3    2010        WD      138500  \n",
       "\n",
       "[5 rows x 81 columns]"
      ]
     },
     "execution_count": 4,
     "metadata": {},
     "output_type": "execute_result"
    }
   ],
   "source": [
    "train.head()"
   ]
  },
  {
   "cell_type": "code",
   "execution_count": 5,
   "id": "63d24cec-f7f0-4afe-a1c1-0772bfaa2881",
   "metadata": {},
   "outputs": [
    {
     "data": {
      "text/html": [
       "<div>\n",
       "<style scoped>\n",
       "    .dataframe tbody tr th:only-of-type {\n",
       "        vertical-align: middle;\n",
       "    }\n",
       "\n",
       "    .dataframe tbody tr th {\n",
       "        vertical-align: top;\n",
       "    }\n",
       "\n",
       "    .dataframe thead th {\n",
       "        text-align: right;\n",
       "    }\n",
       "</style>\n",
       "<table border=\"1\" class=\"dataframe\">\n",
       "  <thead>\n",
       "    <tr style=\"text-align: right;\">\n",
       "      <th></th>\n",
       "      <th>Id</th>\n",
       "      <th>PID</th>\n",
       "      <th>MS SubClass</th>\n",
       "      <th>Lot Frontage</th>\n",
       "      <th>Lot Area</th>\n",
       "      <th>Overall Qual</th>\n",
       "      <th>Overall Cond</th>\n",
       "      <th>Year Built</th>\n",
       "      <th>Year Remod/Add</th>\n",
       "      <th>Mas Vnr Area</th>\n",
       "      <th>...</th>\n",
       "      <th>Wood Deck SF</th>\n",
       "      <th>Open Porch SF</th>\n",
       "      <th>Enclosed Porch</th>\n",
       "      <th>3Ssn Porch</th>\n",
       "      <th>Screen Porch</th>\n",
       "      <th>Pool Area</th>\n",
       "      <th>Misc Val</th>\n",
       "      <th>Mo Sold</th>\n",
       "      <th>Yr Sold</th>\n",
       "      <th>SalePrice</th>\n",
       "    </tr>\n",
       "  </thead>\n",
       "  <tbody>\n",
       "    <tr>\n",
       "      <th>Id</th>\n",
       "      <td>1.000000</td>\n",
       "      <td>0.175793</td>\n",
       "      <td>0.026543</td>\n",
       "      <td>-0.013538</td>\n",
       "      <td>0.032872</td>\n",
       "      <td>-0.061483</td>\n",
       "      <td>-0.026096</td>\n",
       "      <td>-0.064444</td>\n",
       "      <td>-0.090040</td>\n",
       "      <td>-0.035808</td>\n",
       "      <td>...</td>\n",
       "      <td>-0.009045</td>\n",
       "      <td>0.001382</td>\n",
       "      <td>0.033747</td>\n",
       "      <td>-0.022791</td>\n",
       "      <td>0.009758</td>\n",
       "      <td>0.055696</td>\n",
       "      <td>-0.012683</td>\n",
       "      <td>0.127723</td>\n",
       "      <td>-0.975747</td>\n",
       "      <td>-0.051398</td>\n",
       "    </tr>\n",
       "    <tr>\n",
       "      <th>PID</th>\n",
       "      <td>0.175793</td>\n",
       "      <td>1.000000</td>\n",
       "      <td>-0.003632</td>\n",
       "      <td>-0.038402</td>\n",
       "      <td>0.024135</td>\n",
       "      <td>-0.265863</td>\n",
       "      <td>0.106861</td>\n",
       "      <td>-0.347039</td>\n",
       "      <td>-0.176666</td>\n",
       "      <td>-0.242482</td>\n",
       "      <td>...</td>\n",
       "      <td>-0.041221</td>\n",
       "      <td>-0.081129</td>\n",
       "      <td>0.150179</td>\n",
       "      <td>-0.024679</td>\n",
       "      <td>-0.042030</td>\n",
       "      <td>0.005825</td>\n",
       "      <td>0.004223</td>\n",
       "      <td>-0.032735</td>\n",
       "      <td>0.008476</td>\n",
       "      <td>-0.255052</td>\n",
       "    </tr>\n",
       "    <tr>\n",
       "      <th>MS SubClass</th>\n",
       "      <td>0.026543</td>\n",
       "      <td>-0.003632</td>\n",
       "      <td>1.000000</td>\n",
       "      <td>-0.216259</td>\n",
       "      <td>-0.245484</td>\n",
       "      <td>0.035763</td>\n",
       "      <td>-0.070141</td>\n",
       "      <td>0.035983</td>\n",
       "      <td>0.044836</td>\n",
       "      <td>-0.002763</td>\n",
       "      <td>...</td>\n",
       "      <td>0.001622</td>\n",
       "      <td>-0.020289</td>\n",
       "      <td>-0.039842</td>\n",
       "      <td>-0.030088</td>\n",
       "      <td>-0.038819</td>\n",
       "      <td>-0.004585</td>\n",
       "      <td>-0.027485</td>\n",
       "      <td>0.013027</td>\n",
       "      <td>-0.032870</td>\n",
       "      <td>-0.087335</td>\n",
       "    </tr>\n",
       "    <tr>\n",
       "      <th>Lot Frontage</th>\n",
       "      <td>-0.013538</td>\n",
       "      <td>-0.038402</td>\n",
       "      <td>-0.216259</td>\n",
       "      <td>1.000000</td>\n",
       "      <td>0.135586</td>\n",
       "      <td>0.114469</td>\n",
       "      <td>-0.032452</td>\n",
       "      <td>0.020571</td>\n",
       "      <td>0.058942</td>\n",
       "      <td>0.101672</td>\n",
       "      <td>...</td>\n",
       "      <td>0.011388</td>\n",
       "      <td>0.095295</td>\n",
       "      <td>0.009207</td>\n",
       "      <td>0.008076</td>\n",
       "      <td>0.036598</td>\n",
       "      <td>0.092288</td>\n",
       "      <td>0.026066</td>\n",
       "      <td>-0.006382</td>\n",
       "      <td>0.007713</td>\n",
       "      <td>0.181456</td>\n",
       "    </tr>\n",
       "    <tr>\n",
       "      <th>Lot Area</th>\n",
       "      <td>0.032872</td>\n",
       "      <td>0.024135</td>\n",
       "      <td>-0.245484</td>\n",
       "      <td>0.135586</td>\n",
       "      <td>1.000000</td>\n",
       "      <td>0.105824</td>\n",
       "      <td>-0.019185</td>\n",
       "      <td>0.036002</td>\n",
       "      <td>0.050771</td>\n",
       "      <td>0.167520</td>\n",
       "      <td>...</td>\n",
       "      <td>0.155623</td>\n",
       "      <td>0.140864</td>\n",
       "      <td>0.014139</td>\n",
       "      <td>0.019553</td>\n",
       "      <td>0.067714</td>\n",
       "      <td>0.115102</td>\n",
       "      <td>0.093922</td>\n",
       "      <td>0.003197</td>\n",
       "      <td>-0.029454</td>\n",
       "      <td>0.296566</td>\n",
       "    </tr>\n",
       "    <tr>\n",
       "      <th>Overall Qual</th>\n",
       "      <td>-0.061483</td>\n",
       "      <td>-0.265863</td>\n",
       "      <td>0.035763</td>\n",
       "      <td>0.114469</td>\n",
       "      <td>0.105824</td>\n",
       "      <td>1.000000</td>\n",
       "      <td>-0.082770</td>\n",
       "      <td>0.602964</td>\n",
       "      <td>0.584654</td>\n",
       "      <td>0.430041</td>\n",
       "      <td>...</td>\n",
       "      <td>0.257081</td>\n",
       "      <td>0.308855</td>\n",
       "      <td>-0.154554</td>\n",
       "      <td>0.031938</td>\n",
       "      <td>0.048752</td>\n",
       "      <td>0.006558</td>\n",
       "      <td>0.022099</td>\n",
       "      <td>0.019242</td>\n",
       "      <td>-0.011578</td>\n",
       "      <td>0.800207</td>\n",
       "    </tr>\n",
       "    <tr>\n",
       "      <th>Overall Cond</th>\n",
       "      <td>-0.026096</td>\n",
       "      <td>0.106861</td>\n",
       "      <td>-0.070141</td>\n",
       "      <td>-0.032452</td>\n",
       "      <td>-0.019185</td>\n",
       "      <td>-0.082770</td>\n",
       "      <td>1.000000</td>\n",
       "      <td>-0.370988</td>\n",
       "      <td>0.042614</td>\n",
       "      <td>-0.131908</td>\n",
       "      <td>...</td>\n",
       "      <td>0.011034</td>\n",
       "      <td>-0.052266</td>\n",
       "      <td>0.108320</td>\n",
       "      <td>0.026907</td>\n",
       "      <td>0.047359</td>\n",
       "      <td>-0.005806</td>\n",
       "      <td>0.014269</td>\n",
       "      <td>-0.003144</td>\n",
       "      <td>0.047664</td>\n",
       "      <td>-0.097019</td>\n",
       "    </tr>\n",
       "    <tr>\n",
       "      <th>Year Built</th>\n",
       "      <td>-0.064444</td>\n",
       "      <td>-0.347039</td>\n",
       "      <td>0.035983</td>\n",
       "      <td>0.020571</td>\n",
       "      <td>0.036002</td>\n",
       "      <td>0.602964</td>\n",
       "      <td>-0.370988</td>\n",
       "      <td>1.000000</td>\n",
       "      <td>0.629116</td>\n",
       "      <td>0.320780</td>\n",
       "      <td>...</td>\n",
       "      <td>0.216339</td>\n",
       "      <td>0.207798</td>\n",
       "      <td>-0.380082</td>\n",
       "      <td>0.016104</td>\n",
       "      <td>-0.037866</td>\n",
       "      <td>0.003728</td>\n",
       "      <td>0.000626</td>\n",
       "      <td>-0.007083</td>\n",
       "      <td>-0.003559</td>\n",
       "      <td>0.571849</td>\n",
       "    </tr>\n",
       "    <tr>\n",
       "      <th>Year Remod/Add</th>\n",
       "      <td>-0.090040</td>\n",
       "      <td>-0.176666</td>\n",
       "      <td>0.044836</td>\n",
       "      <td>0.058942</td>\n",
       "      <td>0.050771</td>\n",
       "      <td>0.584654</td>\n",
       "      <td>0.042614</td>\n",
       "      <td>0.629116</td>\n",
       "      <td>1.000000</td>\n",
       "      <td>0.204234</td>\n",
       "      <td>...</td>\n",
       "      <td>0.216271</td>\n",
       "      <td>0.264476</td>\n",
       "      <td>-0.237523</td>\n",
       "      <td>0.040416</td>\n",
       "      <td>-0.041211</td>\n",
       "      <td>-0.022382</td>\n",
       "      <td>-0.001704</td>\n",
       "      <td>0.011568</td>\n",
       "      <td>0.042744</td>\n",
       "      <td>0.550370</td>\n",
       "    </tr>\n",
       "    <tr>\n",
       "      <th>Mas Vnr Area</th>\n",
       "      <td>-0.035808</td>\n",
       "      <td>-0.242482</td>\n",
       "      <td>-0.002763</td>\n",
       "      <td>0.101672</td>\n",
       "      <td>0.167520</td>\n",
       "      <td>0.430041</td>\n",
       "      <td>-0.131908</td>\n",
       "      <td>0.320780</td>\n",
       "      <td>0.204234</td>\n",
       "      <td>1.000000</td>\n",
       "      <td>...</td>\n",
       "      <td>0.164006</td>\n",
       "      <td>0.157836</td>\n",
       "      <td>-0.105934</td>\n",
       "      <td>0.011771</td>\n",
       "      <td>0.088207</td>\n",
       "      <td>0.012789</td>\n",
       "      <td>0.079630</td>\n",
       "      <td>-0.003915</td>\n",
       "      <td>-0.017324</td>\n",
       "      <td>0.503579</td>\n",
       "    </tr>\n",
       "    <tr>\n",
       "      <th>BsmtFin SF 1</th>\n",
       "      <td>-0.045794</td>\n",
       "      <td>-0.086951</td>\n",
       "      <td>-0.060425</td>\n",
       "      <td>0.056742</td>\n",
       "      <td>0.215648</td>\n",
       "      <td>0.279223</td>\n",
       "      <td>-0.046348</td>\n",
       "      <td>0.275728</td>\n",
       "      <td>0.167296</td>\n",
       "      <td>0.318761</td>\n",
       "      <td>...</td>\n",
       "      <td>0.214540</td>\n",
       "      <td>0.140570</td>\n",
       "      <td>-0.076766</td>\n",
       "      <td>0.047756</td>\n",
       "      <td>0.093338</td>\n",
       "      <td>0.075938</td>\n",
       "      <td>0.130054</td>\n",
       "      <td>-0.010151</td>\n",
       "      <td>0.037890</td>\n",
       "      <td>0.423856</td>\n",
       "    </tr>\n",
       "    <tr>\n",
       "      <th>BsmtFin SF 2</th>\n",
       "      <td>0.000745</td>\n",
       "      <td>-0.013283</td>\n",
       "      <td>-0.068129</td>\n",
       "      <td>0.001322</td>\n",
       "      <td>0.041799</td>\n",
       "      <td>-0.027973</td>\n",
       "      <td>0.047605</td>\n",
       "      <td>-0.020906</td>\n",
       "      <td>-0.056894</td>\n",
       "      <td>-0.015346</td>\n",
       "      <td>...</td>\n",
       "      <td>0.105924</td>\n",
       "      <td>-0.004280</td>\n",
       "      <td>0.004594</td>\n",
       "      <td>-0.024210</td>\n",
       "      <td>0.096442</td>\n",
       "      <td>0.061033</td>\n",
       "      <td>-0.005502</td>\n",
       "      <td>-0.013828</td>\n",
       "      <td>-0.000037</td>\n",
       "      <td>0.016432</td>\n",
       "    </tr>\n",
       "    <tr>\n",
       "      <th>Bsmt Unf SF</th>\n",
       "      <td>0.008649</td>\n",
       "      <td>-0.111835</td>\n",
       "      <td>-0.139292</td>\n",
       "      <td>0.147324</td>\n",
       "      <td>0.041544</td>\n",
       "      <td>0.276437</td>\n",
       "      <td>-0.131225</td>\n",
       "      <td>0.137114</td>\n",
       "      <td>0.160910</td>\n",
       "      <td>0.083393</td>\n",
       "      <td>...</td>\n",
       "      <td>-0.033965</td>\n",
       "      <td>0.116402</td>\n",
       "      <td>-0.010608</td>\n",
       "      <td>0.020464</td>\n",
       "      <td>-0.055356</td>\n",
       "      <td>-0.039154</td>\n",
       "      <td>-0.005829</td>\n",
       "      <td>0.020536</td>\n",
       "      <td>-0.043772</td>\n",
       "      <td>0.190861</td>\n",
       "    </tr>\n",
       "    <tr>\n",
       "      <th>Total Bsmt SF</th>\n",
       "      <td>-0.038115</td>\n",
       "      <td>-0.204623</td>\n",
       "      <td>-0.224700</td>\n",
       "      <td>0.204375</td>\n",
       "      <td>0.277478</td>\n",
       "      <td>0.549407</td>\n",
       "      <td>-0.159856</td>\n",
       "      <td>0.410605</td>\n",
       "      <td>0.309795</td>\n",
       "      <td>0.403618</td>\n",
       "      <td>...</td>\n",
       "      <td>0.225164</td>\n",
       "      <td>0.257666</td>\n",
       "      <td>-0.087500</td>\n",
       "      <td>0.060320</td>\n",
       "      <td>0.076286</td>\n",
       "      <td>0.061493</td>\n",
       "      <td>0.125534</td>\n",
       "      <td>0.004837</td>\n",
       "      <td>-0.004470</td>\n",
       "      <td>0.629303</td>\n",
       "    </tr>\n",
       "    <tr>\n",
       "      <th>1st Flr SF</th>\n",
       "      <td>-0.022650</td>\n",
       "      <td>-0.145862</td>\n",
       "      <td>-0.246212</td>\n",
       "      <td>0.230839</td>\n",
       "      <td>0.381593</td>\n",
       "      <td>0.477136</td>\n",
       "      <td>-0.150938</td>\n",
       "      <td>0.323315</td>\n",
       "      <td>0.244190</td>\n",
       "      <td>0.386482</td>\n",
       "      <td>...</td>\n",
       "      <td>0.226243</td>\n",
       "      <td>0.259072</td>\n",
       "      <td>-0.044032</td>\n",
       "      <td>0.066991</td>\n",
       "      <td>0.089140</td>\n",
       "      <td>0.129995</td>\n",
       "      <td>0.139496</td>\n",
       "      <td>0.027038</td>\n",
       "      <td>-0.007432</td>\n",
       "      <td>0.618486</td>\n",
       "    </tr>\n",
       "    <tr>\n",
       "      <th>2nd Flr SF</th>\n",
       "      <td>-0.008388</td>\n",
       "      <td>-0.005598</td>\n",
       "      <td>0.305771</td>\n",
       "      <td>-0.014954</td>\n",
       "      <td>0.029398</td>\n",
       "      <td>0.228152</td>\n",
       "      <td>0.010912</td>\n",
       "      <td>0.022313</td>\n",
       "      <td>0.159605</td>\n",
       "      <td>0.098692</td>\n",
       "      <td>...</td>\n",
       "      <td>0.109070</td>\n",
       "      <td>0.165080</td>\n",
       "      <td>0.021083</td>\n",
       "      <td>-0.033167</td>\n",
       "      <td>0.035105</td>\n",
       "      <td>0.012642</td>\n",
       "      <td>0.004413</td>\n",
       "      <td>0.030248</td>\n",
       "      <td>-0.011915</td>\n",
       "      <td>0.248452</td>\n",
       "    </tr>\n",
       "    <tr>\n",
       "      <th>Low Qual Fin SF</th>\n",
       "      <td>0.011719</td>\n",
       "      <td>0.072268</td>\n",
       "      <td>0.031091</td>\n",
       "      <td>0.011487</td>\n",
       "      <td>0.001273</td>\n",
       "      <td>-0.052338</td>\n",
       "      <td>0.004753</td>\n",
       "      <td>-0.159403</td>\n",
       "      <td>-0.066577</td>\n",
       "      <td>-0.061104</td>\n",
       "      <td>...</td>\n",
       "      <td>-0.017246</td>\n",
       "      <td>-0.006253</td>\n",
       "      <td>0.089883</td>\n",
       "      <td>-0.003461</td>\n",
       "      <td>0.014218</td>\n",
       "      <td>-0.006854</td>\n",
       "      <td>-0.005756</td>\n",
       "      <td>0.024471</td>\n",
       "      <td>0.001288</td>\n",
       "      <td>-0.041594</td>\n",
       "    </tr>\n",
       "    <tr>\n",
       "      <th>Gr Liv Area</th>\n",
       "      <td>-0.023881</td>\n",
       "      <td>-0.112936</td>\n",
       "      <td>0.068210</td>\n",
       "      <td>0.171320</td>\n",
       "      <td>0.327427</td>\n",
       "      <td>0.566701</td>\n",
       "      <td>-0.109804</td>\n",
       "      <td>0.258838</td>\n",
       "      <td>0.322407</td>\n",
       "      <td>0.383875</td>\n",
       "      <td>...</td>\n",
       "      <td>0.270239</td>\n",
       "      <td>0.345008</td>\n",
       "      <td>-0.007777</td>\n",
       "      <td>0.024504</td>\n",
       "      <td>0.101926</td>\n",
       "      <td>0.113034</td>\n",
       "      <td>0.113673</td>\n",
       "      <td>0.049644</td>\n",
       "      <td>-0.015891</td>\n",
       "      <td>0.697038</td>\n",
       "    </tr>\n",
       "    <tr>\n",
       "      <th>Bsmt Full Bath</th>\n",
       "      <td>-0.033323</td>\n",
       "      <td>-0.031341</td>\n",
       "      <td>0.025727</td>\n",
       "      <td>0.009850</td>\n",
       "      <td>0.113283</td>\n",
       "      <td>0.175896</td>\n",
       "      <td>-0.040107</td>\n",
       "      <td>0.215590</td>\n",
       "      <td>0.153771</td>\n",
       "      <td>0.147129</td>\n",
       "      <td>...</td>\n",
       "      <td>0.197353</td>\n",
       "      <td>0.087953</td>\n",
       "      <td>-0.073028</td>\n",
       "      <td>0.023047</td>\n",
       "      <td>0.055608</td>\n",
       "      <td>0.043741</td>\n",
       "      <td>-0.003442</td>\n",
       "      <td>-0.009395</td>\n",
       "      <td>0.035196</td>\n",
       "      <td>0.283332</td>\n",
       "    </tr>\n",
       "    <tr>\n",
       "      <th>Bsmt Half Bath</th>\n",
       "      <td>0.014396</td>\n",
       "      <td>-0.002195</td>\n",
       "      <td>-0.017030</td>\n",
       "      <td>-0.018886</td>\n",
       "      <td>0.029157</td>\n",
       "      <td>-0.047006</td>\n",
       "      <td>0.099918</td>\n",
       "      <td>-0.031299</td>\n",
       "      <td>-0.037763</td>\n",
       "      <td>0.011885</td>\n",
       "      <td>...</td>\n",
       "      <td>0.031924</td>\n",
       "      <td>-0.032952</td>\n",
       "      <td>-0.011999</td>\n",
       "      <td>0.030595</td>\n",
       "      <td>0.037663</td>\n",
       "      <td>0.066111</td>\n",
       "      <td>0.050232</td>\n",
       "      <td>0.026429</td>\n",
       "      <td>-0.010113</td>\n",
       "      <td>-0.045290</td>\n",
       "    </tr>\n",
       "    <tr>\n",
       "      <th>Full Bath</th>\n",
       "      <td>-0.059086</td>\n",
       "      <td>-0.179370</td>\n",
       "      <td>0.142087</td>\n",
       "      <td>0.055042</td>\n",
       "      <td>0.125601</td>\n",
       "      <td>0.515080</td>\n",
       "      <td>-0.219189</td>\n",
       "      <td>0.480169</td>\n",
       "      <td>0.471555</td>\n",
       "      <td>0.232474</td>\n",
       "      <td>...</td>\n",
       "      <td>0.175502</td>\n",
       "      <td>0.244452</td>\n",
       "      <td>-0.125383</td>\n",
       "      <td>0.027870</td>\n",
       "      <td>-0.014296</td>\n",
       "      <td>0.010458</td>\n",
       "      <td>0.003293</td>\n",
       "      <td>0.049390</td>\n",
       "      <td>0.007140</td>\n",
       "      <td>0.537969</td>\n",
       "    </tr>\n",
       "    <tr>\n",
       "      <th>Half Bath</th>\n",
       "      <td>-0.042054</td>\n",
       "      <td>-0.163975</td>\n",
       "      <td>0.179404</td>\n",
       "      <td>-0.031017</td>\n",
       "      <td>0.049995</td>\n",
       "      <td>0.274859</td>\n",
       "      <td>-0.093266</td>\n",
       "      <td>0.283207</td>\n",
       "      <td>0.224106</td>\n",
       "      <td>0.186871</td>\n",
       "      <td>...</td>\n",
       "      <td>0.125241</td>\n",
       "      <td>0.181469</td>\n",
       "      <td>-0.100591</td>\n",
       "      <td>-0.027131</td>\n",
       "      <td>0.046712</td>\n",
       "      <td>0.001294</td>\n",
       "      <td>0.055789</td>\n",
       "      <td>0.010521</td>\n",
       "      <td>0.001987</td>\n",
       "      <td>0.283001</td>\n",
       "    </tr>\n",
       "    <tr>\n",
       "      <th>Bedroom AbvGr</th>\n",
       "      <td>0.010605</td>\n",
       "      <td>0.009122</td>\n",
       "      <td>-0.003516</td>\n",
       "      <td>0.097450</td>\n",
       "      <td>0.139060</td>\n",
       "      <td>0.053373</td>\n",
       "      <td>-0.009908</td>\n",
       "      <td>-0.042149</td>\n",
       "      <td>-0.019748</td>\n",
       "      <td>0.054786</td>\n",
       "      <td>...</td>\n",
       "      <td>0.034758</td>\n",
       "      <td>0.053433</td>\n",
       "      <td>0.033030</td>\n",
       "      <td>-0.033802</td>\n",
       "      <td>0.019606</td>\n",
       "      <td>0.027438</td>\n",
       "      <td>0.012274</td>\n",
       "      <td>0.068281</td>\n",
       "      <td>-0.011692</td>\n",
       "      <td>0.137067</td>\n",
       "    </tr>\n",
       "    <tr>\n",
       "      <th>Kitchen AbvGr</th>\n",
       "      <td>-0.002400</td>\n",
       "      <td>0.068416</td>\n",
       "      <td>0.252111</td>\n",
       "      <td>0.015079</td>\n",
       "      <td>-0.013484</td>\n",
       "      <td>-0.170964</td>\n",
       "      <td>-0.095725</td>\n",
       "      <td>-0.127162</td>\n",
       "      <td>-0.135926</td>\n",
       "      <td>-0.070255</td>\n",
       "      <td>...</td>\n",
       "      <td>-0.090013</td>\n",
       "      <td>-0.083502</td>\n",
       "      <td>0.016189</td>\n",
       "      <td>-0.021017</td>\n",
       "      <td>-0.058886</td>\n",
       "      <td>-0.012986</td>\n",
       "      <td>0.031474</td>\n",
       "      <td>0.047143</td>\n",
       "      <td>0.020800</td>\n",
       "      <td>-0.125444</td>\n",
       "    </tr>\n",
       "    <tr>\n",
       "      <th>TotRms AbvGrd</th>\n",
       "      <td>-0.009092</td>\n",
       "      <td>-0.084999</td>\n",
       "      <td>0.034490</td>\n",
       "      <td>0.185083</td>\n",
       "      <td>0.238724</td>\n",
       "      <td>0.382025</td>\n",
       "      <td>-0.093576</td>\n",
       "      <td>0.137783</td>\n",
       "      <td>0.202397</td>\n",
       "      <td>0.271657</td>\n",
       "      <td>...</td>\n",
       "      <td>0.182835</td>\n",
       "      <td>0.226346</td>\n",
       "      <td>0.005521</td>\n",
       "      <td>-0.008101</td>\n",
       "      <td>0.046329</td>\n",
       "      <td>0.072500</td>\n",
       "      <td>0.100175</td>\n",
       "      <td>0.054154</td>\n",
       "      <td>-0.022041</td>\n",
       "      <td>0.504014</td>\n",
       "    </tr>\n",
       "    <tr>\n",
       "      <th>Fireplaces</th>\n",
       "      <td>-0.037560</td>\n",
       "      <td>-0.120710</td>\n",
       "      <td>-0.055118</td>\n",
       "      <td>0.038556</td>\n",
       "      <td>0.289467</td>\n",
       "      <td>0.388920</td>\n",
       "      <td>-0.006463</td>\n",
       "      <td>0.168848</td>\n",
       "      <td>0.138858</td>\n",
       "      <td>0.265911</td>\n",
       "      <td>...</td>\n",
       "      <td>0.238887</td>\n",
       "      <td>0.169169</td>\n",
       "      <td>0.009368</td>\n",
       "      <td>0.026411</td>\n",
       "      <td>0.167071</td>\n",
       "      <td>0.107769</td>\n",
       "      <td>0.023372</td>\n",
       "      <td>0.018228</td>\n",
       "      <td>0.006887</td>\n",
       "      <td>0.471093</td>\n",
       "    </tr>\n",
       "    <tr>\n",
       "      <th>Garage Yr Blt</th>\n",
       "      <td>-0.038814</td>\n",
       "      <td>-0.153230</td>\n",
       "      <td>-0.110858</td>\n",
       "      <td>0.002571</td>\n",
       "      <td>0.086080</td>\n",
       "      <td>0.276780</td>\n",
       "      <td>0.016008</td>\n",
       "      <td>0.274974</td>\n",
       "      <td>0.164414</td>\n",
       "      <td>0.127206</td>\n",
       "      <td>...</td>\n",
       "      <td>0.114435</td>\n",
       "      <td>0.061256</td>\n",
       "      <td>-0.086459</td>\n",
       "      <td>0.011406</td>\n",
       "      <td>0.060558</td>\n",
       "      <td>0.014646</td>\n",
       "      <td>0.005925</td>\n",
       "      <td>-0.002331</td>\n",
       "      <td>0.006897</td>\n",
       "      <td>0.258645</td>\n",
       "    </tr>\n",
       "    <tr>\n",
       "      <th>Garage Cars</th>\n",
       "      <td>-0.049616</td>\n",
       "      <td>-0.229187</td>\n",
       "      <td>-0.049426</td>\n",
       "      <td>0.118258</td>\n",
       "      <td>0.214839</td>\n",
       "      <td>0.587447</td>\n",
       "      <td>-0.168733</td>\n",
       "      <td>0.543313</td>\n",
       "      <td>0.440365</td>\n",
       "      <td>0.356690</td>\n",
       "      <td>...</td>\n",
       "      <td>0.239675</td>\n",
       "      <td>0.215861</td>\n",
       "      <td>-0.142668</td>\n",
       "      <td>0.028472</td>\n",
       "      <td>0.053836</td>\n",
       "      <td>0.021609</td>\n",
       "      <td>0.003150</td>\n",
       "      <td>0.022095</td>\n",
       "      <td>-0.009312</td>\n",
       "      <td>0.647781</td>\n",
       "    </tr>\n",
       "    <tr>\n",
       "      <th>Garage Area</th>\n",
       "      <td>-0.046105</td>\n",
       "      <td>-0.201717</td>\n",
       "      <td>-0.108423</td>\n",
       "      <td>0.173790</td>\n",
       "      <td>0.263145</td>\n",
       "      <td>0.563904</td>\n",
       "      <td>-0.138174</td>\n",
       "      <td>0.488023</td>\n",
       "      <td>0.397731</td>\n",
       "      <td>0.380563</td>\n",
       "      <td>...</td>\n",
       "      <td>0.244536</td>\n",
       "      <td>0.247664</td>\n",
       "      <td>-0.115331</td>\n",
       "      <td>0.043976</td>\n",
       "      <td>0.071290</td>\n",
       "      <td>0.045890</td>\n",
       "      <td>0.033698</td>\n",
       "      <td>0.011203</td>\n",
       "      <td>-0.002952</td>\n",
       "      <td>0.649897</td>\n",
       "    </tr>\n",
       "    <tr>\n",
       "      <th>Wood Deck SF</th>\n",
       "      <td>-0.009045</td>\n",
       "      <td>-0.041221</td>\n",
       "      <td>0.001622</td>\n",
       "      <td>0.011388</td>\n",
       "      <td>0.155623</td>\n",
       "      <td>0.257081</td>\n",
       "      <td>0.011034</td>\n",
       "      <td>0.216339</td>\n",
       "      <td>0.216271</td>\n",
       "      <td>0.164006</td>\n",
       "      <td>...</td>\n",
       "      <td>1.000000</td>\n",
       "      <td>0.047630</td>\n",
       "      <td>-0.114079</td>\n",
       "      <td>-0.010851</td>\n",
       "      <td>-0.067770</td>\n",
       "      <td>0.128373</td>\n",
       "      <td>0.085091</td>\n",
       "      <td>0.018500</td>\n",
       "      <td>-0.000912</td>\n",
       "      <td>0.326490</td>\n",
       "    </tr>\n",
       "    <tr>\n",
       "      <th>Open Porch SF</th>\n",
       "      <td>0.001382</td>\n",
       "      <td>-0.081129</td>\n",
       "      <td>-0.020289</td>\n",
       "      <td>0.095295</td>\n",
       "      <td>0.140864</td>\n",
       "      <td>0.308855</td>\n",
       "      <td>-0.052266</td>\n",
       "      <td>0.207798</td>\n",
       "      <td>0.264476</td>\n",
       "      <td>0.157836</td>\n",
       "      <td>...</td>\n",
       "      <td>0.047630</td>\n",
       "      <td>1.000000</td>\n",
       "      <td>-0.077019</td>\n",
       "      <td>-0.007336</td>\n",
       "      <td>0.059027</td>\n",
       "      <td>0.073965</td>\n",
       "      <td>0.109919</td>\n",
       "      <td>0.043632</td>\n",
       "      <td>-0.025895</td>\n",
       "      <td>0.333476</td>\n",
       "    </tr>\n",
       "    <tr>\n",
       "      <th>Enclosed Porch</th>\n",
       "      <td>0.033747</td>\n",
       "      <td>0.150179</td>\n",
       "      <td>-0.039842</td>\n",
       "      <td>0.009207</td>\n",
       "      <td>0.014139</td>\n",
       "      <td>-0.154554</td>\n",
       "      <td>0.108320</td>\n",
       "      <td>-0.380082</td>\n",
       "      <td>-0.237523</td>\n",
       "      <td>-0.105934</td>\n",
       "      <td>...</td>\n",
       "      <td>-0.114079</td>\n",
       "      <td>-0.077019</td>\n",
       "      <td>1.000000</td>\n",
       "      <td>-0.032145</td>\n",
       "      <td>-0.069049</td>\n",
       "      <td>-0.015636</td>\n",
       "      <td>0.015049</td>\n",
       "      <td>0.004455</td>\n",
       "      <td>-0.006256</td>\n",
       "      <td>-0.135656</td>\n",
       "    </tr>\n",
       "    <tr>\n",
       "      <th>3Ssn Porch</th>\n",
       "      <td>-0.022791</td>\n",
       "      <td>-0.024679</td>\n",
       "      <td>-0.030088</td>\n",
       "      <td>0.008076</td>\n",
       "      <td>0.019553</td>\n",
       "      <td>0.031938</td>\n",
       "      <td>0.026907</td>\n",
       "      <td>0.016104</td>\n",
       "      <td>0.040416</td>\n",
       "      <td>0.011771</td>\n",
       "      <td>...</td>\n",
       "      <td>-0.010851</td>\n",
       "      <td>-0.007336</td>\n",
       "      <td>-0.032145</td>\n",
       "      <td>1.000000</td>\n",
       "      <td>-0.029574</td>\n",
       "      <td>-0.006522</td>\n",
       "      <td>-0.004887</td>\n",
       "      <td>0.020036</td>\n",
       "      <td>0.019424</td>\n",
       "      <td>0.048732</td>\n",
       "    </tr>\n",
       "    <tr>\n",
       "      <th>Screen Porch</th>\n",
       "      <td>0.009758</td>\n",
       "      <td>-0.042030</td>\n",
       "      <td>-0.038819</td>\n",
       "      <td>0.036598</td>\n",
       "      <td>0.067714</td>\n",
       "      <td>0.048752</td>\n",
       "      <td>0.047359</td>\n",
       "      <td>-0.037866</td>\n",
       "      <td>-0.041211</td>\n",
       "      <td>0.088207</td>\n",
       "      <td>...</td>\n",
       "      <td>-0.067770</td>\n",
       "      <td>0.059027</td>\n",
       "      <td>-0.069049</td>\n",
       "      <td>-0.029574</td>\n",
       "      <td>1.000000</td>\n",
       "      <td>0.033114</td>\n",
       "      <td>0.007122</td>\n",
       "      <td>0.029329</td>\n",
       "      <td>-0.017624</td>\n",
       "      <td>0.134581</td>\n",
       "    </tr>\n",
       "    <tr>\n",
       "      <th>Pool Area</th>\n",
       "      <td>0.055696</td>\n",
       "      <td>0.005825</td>\n",
       "      <td>-0.004585</td>\n",
       "      <td>0.092288</td>\n",
       "      <td>0.115102</td>\n",
       "      <td>0.006558</td>\n",
       "      <td>-0.005806</td>\n",
       "      <td>0.003728</td>\n",
       "      <td>-0.022382</td>\n",
       "      <td>0.012789</td>\n",
       "      <td>...</td>\n",
       "      <td>0.128373</td>\n",
       "      <td>0.073965</td>\n",
       "      <td>-0.015636</td>\n",
       "      <td>-0.006522</td>\n",
       "      <td>0.033114</td>\n",
       "      <td>1.000000</td>\n",
       "      <td>0.017661</td>\n",
       "      <td>-0.043118</td>\n",
       "      <td>-0.053768</td>\n",
       "      <td>0.023106</td>\n",
       "    </tr>\n",
       "    <tr>\n",
       "      <th>Misc Val</th>\n",
       "      <td>-0.012683</td>\n",
       "      <td>0.004223</td>\n",
       "      <td>-0.027485</td>\n",
       "      <td>0.026066</td>\n",
       "      <td>0.093922</td>\n",
       "      <td>0.022099</td>\n",
       "      <td>0.014269</td>\n",
       "      <td>0.000626</td>\n",
       "      <td>-0.001704</td>\n",
       "      <td>0.079630</td>\n",
       "      <td>...</td>\n",
       "      <td>0.085091</td>\n",
       "      <td>0.109919</td>\n",
       "      <td>0.015049</td>\n",
       "      <td>-0.004887</td>\n",
       "      <td>0.007122</td>\n",
       "      <td>0.017661</td>\n",
       "      <td>1.000000</td>\n",
       "      <td>0.019483</td>\n",
       "      <td>0.017269</td>\n",
       "      <td>-0.007375</td>\n",
       "    </tr>\n",
       "    <tr>\n",
       "      <th>Mo Sold</th>\n",
       "      <td>0.127723</td>\n",
       "      <td>-0.032735</td>\n",
       "      <td>0.013027</td>\n",
       "      <td>-0.006382</td>\n",
       "      <td>0.003197</td>\n",
       "      <td>0.019242</td>\n",
       "      <td>-0.003144</td>\n",
       "      <td>-0.007083</td>\n",
       "      <td>0.011568</td>\n",
       "      <td>-0.003915</td>\n",
       "      <td>...</td>\n",
       "      <td>0.018500</td>\n",
       "      <td>0.043632</td>\n",
       "      <td>0.004455</td>\n",
       "      <td>0.020036</td>\n",
       "      <td>0.029329</td>\n",
       "      <td>-0.043118</td>\n",
       "      <td>0.019483</td>\n",
       "      <td>1.000000</td>\n",
       "      <td>-0.147494</td>\n",
       "      <td>0.032735</td>\n",
       "    </tr>\n",
       "    <tr>\n",
       "      <th>Yr Sold</th>\n",
       "      <td>-0.975747</td>\n",
       "      <td>0.008476</td>\n",
       "      <td>-0.032870</td>\n",
       "      <td>0.007713</td>\n",
       "      <td>-0.029454</td>\n",
       "      <td>-0.011578</td>\n",
       "      <td>0.047664</td>\n",
       "      <td>-0.003559</td>\n",
       "      <td>0.042744</td>\n",
       "      <td>-0.017324</td>\n",
       "      <td>...</td>\n",
       "      <td>-0.000912</td>\n",
       "      <td>-0.025895</td>\n",
       "      <td>-0.006256</td>\n",
       "      <td>0.019424</td>\n",
       "      <td>-0.017624</td>\n",
       "      <td>-0.053768</td>\n",
       "      <td>0.017269</td>\n",
       "      <td>-0.147494</td>\n",
       "      <td>1.000000</td>\n",
       "      <td>-0.015203</td>\n",
       "    </tr>\n",
       "    <tr>\n",
       "      <th>SalePrice</th>\n",
       "      <td>-0.051398</td>\n",
       "      <td>-0.255052</td>\n",
       "      <td>-0.087335</td>\n",
       "      <td>0.181456</td>\n",
       "      <td>0.296566</td>\n",
       "      <td>0.800207</td>\n",
       "      <td>-0.097019</td>\n",
       "      <td>0.571849</td>\n",
       "      <td>0.550370</td>\n",
       "      <td>0.503579</td>\n",
       "      <td>...</td>\n",
       "      <td>0.326490</td>\n",
       "      <td>0.333476</td>\n",
       "      <td>-0.135656</td>\n",
       "      <td>0.048732</td>\n",
       "      <td>0.134581</td>\n",
       "      <td>0.023106</td>\n",
       "      <td>-0.007375</td>\n",
       "      <td>0.032735</td>\n",
       "      <td>-0.015203</td>\n",
       "      <td>1.000000</td>\n",
       "    </tr>\n",
       "  </tbody>\n",
       "</table>\n",
       "<p>39 rows × 39 columns</p>\n",
       "</div>"
      ],
      "text/plain": [
       "                       Id       PID  MS SubClass  Lot Frontage  Lot Area  \\\n",
       "Id               1.000000  0.175793     0.026543     -0.013538  0.032872   \n",
       "PID              0.175793  1.000000    -0.003632     -0.038402  0.024135   \n",
       "MS SubClass      0.026543 -0.003632     1.000000     -0.216259 -0.245484   \n",
       "Lot Frontage    -0.013538 -0.038402    -0.216259      1.000000  0.135586   \n",
       "Lot Area         0.032872  0.024135    -0.245484      0.135586  1.000000   \n",
       "Overall Qual    -0.061483 -0.265863     0.035763      0.114469  0.105824   \n",
       "Overall Cond    -0.026096  0.106861    -0.070141     -0.032452 -0.019185   \n",
       "Year Built      -0.064444 -0.347039     0.035983      0.020571  0.036002   \n",
       "Year Remod/Add  -0.090040 -0.176666     0.044836      0.058942  0.050771   \n",
       "Mas Vnr Area    -0.035808 -0.242482    -0.002763      0.101672  0.167520   \n",
       "BsmtFin SF 1    -0.045794 -0.086951    -0.060425      0.056742  0.215648   \n",
       "BsmtFin SF 2     0.000745 -0.013283    -0.068129      0.001322  0.041799   \n",
       "Bsmt Unf SF      0.008649 -0.111835    -0.139292      0.147324  0.041544   \n",
       "Total Bsmt SF   -0.038115 -0.204623    -0.224700      0.204375  0.277478   \n",
       "1st Flr SF      -0.022650 -0.145862    -0.246212      0.230839  0.381593   \n",
       "2nd Flr SF      -0.008388 -0.005598     0.305771     -0.014954  0.029398   \n",
       "Low Qual Fin SF  0.011719  0.072268     0.031091      0.011487  0.001273   \n",
       "Gr Liv Area     -0.023881 -0.112936     0.068210      0.171320  0.327427   \n",
       "Bsmt Full Bath  -0.033323 -0.031341     0.025727      0.009850  0.113283   \n",
       "Bsmt Half Bath   0.014396 -0.002195    -0.017030     -0.018886  0.029157   \n",
       "Full Bath       -0.059086 -0.179370     0.142087      0.055042  0.125601   \n",
       "Half Bath       -0.042054 -0.163975     0.179404     -0.031017  0.049995   \n",
       "Bedroom AbvGr    0.010605  0.009122    -0.003516      0.097450  0.139060   \n",
       "Kitchen AbvGr   -0.002400  0.068416     0.252111      0.015079 -0.013484   \n",
       "TotRms AbvGrd   -0.009092 -0.084999     0.034490      0.185083  0.238724   \n",
       "Fireplaces      -0.037560 -0.120710    -0.055118      0.038556  0.289467   \n",
       "Garage Yr Blt   -0.038814 -0.153230    -0.110858      0.002571  0.086080   \n",
       "Garage Cars     -0.049616 -0.229187    -0.049426      0.118258  0.214839   \n",
       "Garage Area     -0.046105 -0.201717    -0.108423      0.173790  0.263145   \n",
       "Wood Deck SF    -0.009045 -0.041221     0.001622      0.011388  0.155623   \n",
       "Open Porch SF    0.001382 -0.081129    -0.020289      0.095295  0.140864   \n",
       "Enclosed Porch   0.033747  0.150179    -0.039842      0.009207  0.014139   \n",
       "3Ssn Porch      -0.022791 -0.024679    -0.030088      0.008076  0.019553   \n",
       "Screen Porch     0.009758 -0.042030    -0.038819      0.036598  0.067714   \n",
       "Pool Area        0.055696  0.005825    -0.004585      0.092288  0.115102   \n",
       "Misc Val        -0.012683  0.004223    -0.027485      0.026066  0.093922   \n",
       "Mo Sold          0.127723 -0.032735     0.013027     -0.006382  0.003197   \n",
       "Yr Sold         -0.975747  0.008476    -0.032870      0.007713 -0.029454   \n",
       "SalePrice       -0.051398 -0.255052    -0.087335      0.181456  0.296566   \n",
       "\n",
       "                 Overall Qual  Overall Cond  Year Built  Year Remod/Add  \\\n",
       "Id                  -0.061483     -0.026096   -0.064444       -0.090040   \n",
       "PID                 -0.265863      0.106861   -0.347039       -0.176666   \n",
       "MS SubClass          0.035763     -0.070141    0.035983        0.044836   \n",
       "Lot Frontage         0.114469     -0.032452    0.020571        0.058942   \n",
       "Lot Area             0.105824     -0.019185    0.036002        0.050771   \n",
       "Overall Qual         1.000000     -0.082770    0.602964        0.584654   \n",
       "Overall Cond        -0.082770      1.000000   -0.370988        0.042614   \n",
       "Year Built           0.602964     -0.370988    1.000000        0.629116   \n",
       "Year Remod/Add       0.584654      0.042614    0.629116        1.000000   \n",
       "Mas Vnr Area         0.430041     -0.131908    0.320780        0.204234   \n",
       "BsmtFin SF 1         0.279223     -0.046348    0.275728        0.167296   \n",
       "BsmtFin SF 2        -0.027973      0.047605   -0.020906       -0.056894   \n",
       "Bsmt Unf SF          0.276437     -0.131225    0.137114        0.160910   \n",
       "Total Bsmt SF        0.549407     -0.159856    0.410605        0.309795   \n",
       "1st Flr SF           0.477136     -0.150938    0.323315        0.244190   \n",
       "2nd Flr SF           0.228152      0.010912    0.022313        0.159605   \n",
       "Low Qual Fin SF     -0.052338      0.004753   -0.159403       -0.066577   \n",
       "Gr Liv Area          0.566701     -0.109804    0.258838        0.322407   \n",
       "Bsmt Full Bath       0.175896     -0.040107    0.215590        0.153771   \n",
       "Bsmt Half Bath      -0.047006      0.099918   -0.031299       -0.037763   \n",
       "Full Bath            0.515080     -0.219189    0.480169        0.471555   \n",
       "Half Bath            0.274859     -0.093266    0.283207        0.224106   \n",
       "Bedroom AbvGr        0.053373     -0.009908   -0.042149       -0.019748   \n",
       "Kitchen AbvGr       -0.170964     -0.095725   -0.127162       -0.135926   \n",
       "TotRms AbvGrd        0.382025     -0.093576    0.137783        0.202397   \n",
       "Fireplaces           0.388920     -0.006463    0.168848        0.138858   \n",
       "Garage Yr Blt        0.276780      0.016008    0.274974        0.164414   \n",
       "Garage Cars          0.587447     -0.168733    0.543313        0.440365   \n",
       "Garage Area          0.563904     -0.138174    0.488023        0.397731   \n",
       "Wood Deck SF         0.257081      0.011034    0.216339        0.216271   \n",
       "Open Porch SF        0.308855     -0.052266    0.207798        0.264476   \n",
       "Enclosed Porch      -0.154554      0.108320   -0.380082       -0.237523   \n",
       "3Ssn Porch           0.031938      0.026907    0.016104        0.040416   \n",
       "Screen Porch         0.048752      0.047359   -0.037866       -0.041211   \n",
       "Pool Area            0.006558     -0.005806    0.003728       -0.022382   \n",
       "Misc Val             0.022099      0.014269    0.000626       -0.001704   \n",
       "Mo Sold              0.019242     -0.003144   -0.007083        0.011568   \n",
       "Yr Sold             -0.011578      0.047664   -0.003559        0.042744   \n",
       "SalePrice            0.800207     -0.097019    0.571849        0.550370   \n",
       "\n",
       "                 Mas Vnr Area  ...  Wood Deck SF  Open Porch SF  \\\n",
       "Id                  -0.035808  ...     -0.009045       0.001382   \n",
       "PID                 -0.242482  ...     -0.041221      -0.081129   \n",
       "MS SubClass         -0.002763  ...      0.001622      -0.020289   \n",
       "Lot Frontage         0.101672  ...      0.011388       0.095295   \n",
       "Lot Area             0.167520  ...      0.155623       0.140864   \n",
       "Overall Qual         0.430041  ...      0.257081       0.308855   \n",
       "Overall Cond        -0.131908  ...      0.011034      -0.052266   \n",
       "Year Built           0.320780  ...      0.216339       0.207798   \n",
       "Year Remod/Add       0.204234  ...      0.216271       0.264476   \n",
       "Mas Vnr Area         1.000000  ...      0.164006       0.157836   \n",
       "BsmtFin SF 1         0.318761  ...      0.214540       0.140570   \n",
       "BsmtFin SF 2        -0.015346  ...      0.105924      -0.004280   \n",
       "Bsmt Unf SF          0.083393  ...     -0.033965       0.116402   \n",
       "Total Bsmt SF        0.403618  ...      0.225164       0.257666   \n",
       "1st Flr SF           0.386482  ...      0.226243       0.259072   \n",
       "2nd Flr SF           0.098692  ...      0.109070       0.165080   \n",
       "Low Qual Fin SF     -0.061104  ...     -0.017246      -0.006253   \n",
       "Gr Liv Area          0.383875  ...      0.270239       0.345008   \n",
       "Bsmt Full Bath       0.147129  ...      0.197353       0.087953   \n",
       "Bsmt Half Bath       0.011885  ...      0.031924      -0.032952   \n",
       "Full Bath            0.232474  ...      0.175502       0.244452   \n",
       "Half Bath            0.186871  ...      0.125241       0.181469   \n",
       "Bedroom AbvGr        0.054786  ...      0.034758       0.053433   \n",
       "Kitchen AbvGr       -0.070255  ...     -0.090013      -0.083502   \n",
       "TotRms AbvGrd        0.271657  ...      0.182835       0.226346   \n",
       "Fireplaces           0.265911  ...      0.238887       0.169169   \n",
       "Garage Yr Blt        0.127206  ...      0.114435       0.061256   \n",
       "Garage Cars          0.356690  ...      0.239675       0.215861   \n",
       "Garage Area          0.380563  ...      0.244536       0.247664   \n",
       "Wood Deck SF         0.164006  ...      1.000000       0.047630   \n",
       "Open Porch SF        0.157836  ...      0.047630       1.000000   \n",
       "Enclosed Porch      -0.105934  ...     -0.114079      -0.077019   \n",
       "3Ssn Porch           0.011771  ...     -0.010851      -0.007336   \n",
       "Screen Porch         0.088207  ...     -0.067770       0.059027   \n",
       "Pool Area            0.012789  ...      0.128373       0.073965   \n",
       "Misc Val             0.079630  ...      0.085091       0.109919   \n",
       "Mo Sold             -0.003915  ...      0.018500       0.043632   \n",
       "Yr Sold             -0.017324  ...     -0.000912      -0.025895   \n",
       "SalePrice            0.503579  ...      0.326490       0.333476   \n",
       "\n",
       "                 Enclosed Porch  3Ssn Porch  Screen Porch  Pool Area  \\\n",
       "Id                     0.033747   -0.022791      0.009758   0.055696   \n",
       "PID                    0.150179   -0.024679     -0.042030   0.005825   \n",
       "MS SubClass           -0.039842   -0.030088     -0.038819  -0.004585   \n",
       "Lot Frontage           0.009207    0.008076      0.036598   0.092288   \n",
       "Lot Area               0.014139    0.019553      0.067714   0.115102   \n",
       "Overall Qual          -0.154554    0.031938      0.048752   0.006558   \n",
       "Overall Cond           0.108320    0.026907      0.047359  -0.005806   \n",
       "Year Built            -0.380082    0.016104     -0.037866   0.003728   \n",
       "Year Remod/Add        -0.237523    0.040416     -0.041211  -0.022382   \n",
       "Mas Vnr Area          -0.105934    0.011771      0.088207   0.012789   \n",
       "BsmtFin SF 1          -0.076766    0.047756      0.093338   0.075938   \n",
       "BsmtFin SF 2           0.004594   -0.024210      0.096442   0.061033   \n",
       "Bsmt Unf SF           -0.010608    0.020464     -0.055356  -0.039154   \n",
       "Total Bsmt SF         -0.087500    0.060320      0.076286   0.061493   \n",
       "1st Flr SF            -0.044032    0.066991      0.089140   0.129995   \n",
       "2nd Flr SF             0.021083   -0.033167      0.035105   0.012642   \n",
       "Low Qual Fin SF        0.089883   -0.003461      0.014218  -0.006854   \n",
       "Gr Liv Area           -0.007777    0.024504      0.101926   0.113034   \n",
       "Bsmt Full Bath        -0.073028    0.023047      0.055608   0.043741   \n",
       "Bsmt Half Bath        -0.011999    0.030595      0.037663   0.066111   \n",
       "Full Bath             -0.125383    0.027870     -0.014296   0.010458   \n",
       "Half Bath             -0.100591   -0.027131      0.046712   0.001294   \n",
       "Bedroom AbvGr          0.033030   -0.033802      0.019606   0.027438   \n",
       "Kitchen AbvGr          0.016189   -0.021017     -0.058886  -0.012986   \n",
       "TotRms AbvGrd          0.005521   -0.008101      0.046329   0.072500   \n",
       "Fireplaces             0.009368    0.026411      0.167071   0.107769   \n",
       "Garage Yr Blt         -0.086459    0.011406      0.060558   0.014646   \n",
       "Garage Cars           -0.142668    0.028472      0.053836   0.021609   \n",
       "Garage Area           -0.115331    0.043976      0.071290   0.045890   \n",
       "Wood Deck SF          -0.114079   -0.010851     -0.067770   0.128373   \n",
       "Open Porch SF         -0.077019   -0.007336      0.059027   0.073965   \n",
       "Enclosed Porch         1.000000   -0.032145     -0.069049  -0.015636   \n",
       "3Ssn Porch            -0.032145    1.000000     -0.029574  -0.006522   \n",
       "Screen Porch          -0.069049   -0.029574      1.000000   0.033114   \n",
       "Pool Area             -0.015636   -0.006522      0.033114   1.000000   \n",
       "Misc Val               0.015049   -0.004887      0.007122   0.017661   \n",
       "Mo Sold                0.004455    0.020036      0.029329  -0.043118   \n",
       "Yr Sold               -0.006256    0.019424     -0.017624  -0.053768   \n",
       "SalePrice             -0.135656    0.048732      0.134581   0.023106   \n",
       "\n",
       "                 Misc Val   Mo Sold   Yr Sold  SalePrice  \n",
       "Id              -0.012683  0.127723 -0.975747  -0.051398  \n",
       "PID              0.004223 -0.032735  0.008476  -0.255052  \n",
       "MS SubClass     -0.027485  0.013027 -0.032870  -0.087335  \n",
       "Lot Frontage     0.026066 -0.006382  0.007713   0.181456  \n",
       "Lot Area         0.093922  0.003197 -0.029454   0.296566  \n",
       "Overall Qual     0.022099  0.019242 -0.011578   0.800207  \n",
       "Overall Cond     0.014269 -0.003144  0.047664  -0.097019  \n",
       "Year Built       0.000626 -0.007083 -0.003559   0.571849  \n",
       "Year Remod/Add  -0.001704  0.011568  0.042744   0.550370  \n",
       "Mas Vnr Area     0.079630 -0.003915 -0.017324   0.503579  \n",
       "BsmtFin SF 1     0.130054 -0.010151  0.037890   0.423856  \n",
       "BsmtFin SF 2    -0.005502 -0.013828 -0.000037   0.016432  \n",
       "Bsmt Unf SF     -0.005829  0.020536 -0.043772   0.190861  \n",
       "Total Bsmt SF    0.125534  0.004837 -0.004470   0.629303  \n",
       "1st Flr SF       0.139496  0.027038 -0.007432   0.618486  \n",
       "2nd Flr SF       0.004413  0.030248 -0.011915   0.248452  \n",
       "Low Qual Fin SF -0.005756  0.024471  0.001288  -0.041594  \n",
       "Gr Liv Area      0.113673  0.049644 -0.015891   0.697038  \n",
       "Bsmt Full Bath  -0.003442 -0.009395  0.035196   0.283332  \n",
       "Bsmt Half Bath   0.050232  0.026429 -0.010113  -0.045290  \n",
       "Full Bath        0.003293  0.049390  0.007140   0.537969  \n",
       "Half Bath        0.055789  0.010521  0.001987   0.283001  \n",
       "Bedroom AbvGr    0.012274  0.068281 -0.011692   0.137067  \n",
       "Kitchen AbvGr    0.031474  0.047143  0.020800  -0.125444  \n",
       "TotRms AbvGrd    0.100175  0.054154 -0.022041   0.504014  \n",
       "Fireplaces       0.023372  0.018228  0.006887   0.471093  \n",
       "Garage Yr Blt    0.005925 -0.002331  0.006897   0.258645  \n",
       "Garage Cars      0.003150  0.022095 -0.009312   0.647781  \n",
       "Garage Area      0.033698  0.011203 -0.002952   0.649897  \n",
       "Wood Deck SF     0.085091  0.018500 -0.000912   0.326490  \n",
       "Open Porch SF    0.109919  0.043632 -0.025895   0.333476  \n",
       "Enclosed Porch   0.015049  0.004455 -0.006256  -0.135656  \n",
       "3Ssn Porch      -0.004887  0.020036  0.019424   0.048732  \n",
       "Screen Porch     0.007122  0.029329 -0.017624   0.134581  \n",
       "Pool Area        0.017661 -0.043118 -0.053768   0.023106  \n",
       "Misc Val         1.000000  0.019483  0.017269  -0.007375  \n",
       "Mo Sold          0.019483  1.000000 -0.147494   0.032735  \n",
       "Yr Sold          0.017269 -0.147494  1.000000  -0.015203  \n",
       "SalePrice       -0.007375  0.032735 -0.015203   1.000000  \n",
       "\n",
       "[39 rows x 39 columns]"
      ]
     },
     "execution_count": 5,
     "metadata": {},
     "output_type": "execute_result"
    }
   ],
   "source": [
    "train.corr()"
   ]
  },
  {
   "cell_type": "code",
   "execution_count": 6,
   "id": "b99372cf-2b1e-4652-b087-99372f29bab3",
   "metadata": {},
   "outputs": [],
   "source": [
    "train_corrs = train.corr()\n",
    "sales_corrs = train_corrs['SalePrice']"
   ]
  },
  {
   "cell_type": "code",
   "execution_count": 7,
   "id": "d740fd8d-45bc-4ce4-bb71-9581db174df3",
   "metadata": {},
   "outputs": [
    {
     "data": {
      "text/plain": [
       "SalePrice          1.000000\n",
       "Overall Qual       0.800207\n",
       "Gr Liv Area        0.697038\n",
       "Garage Area        0.649897\n",
       "Garage Cars        0.647781\n",
       "Total Bsmt SF      0.629303\n",
       "1st Flr SF         0.618486\n",
       "Year Built         0.571849\n",
       "Year Remod/Add     0.550370\n",
       "Full Bath          0.537969\n",
       "TotRms AbvGrd      0.504014\n",
       "Mas Vnr Area       0.503579\n",
       "Fireplaces         0.471093\n",
       "BsmtFin SF 1       0.423856\n",
       "Open Porch SF      0.333476\n",
       "Wood Deck SF       0.326490\n",
       "Lot Area           0.296566\n",
       "Bsmt Full Bath     0.283332\n",
       "Half Bath          0.283001\n",
       "Garage Yr Blt      0.258645\n",
       "2nd Flr SF         0.248452\n",
       "Bsmt Unf SF        0.190861\n",
       "Lot Frontage       0.181456\n",
       "Bedroom AbvGr      0.137067\n",
       "Screen Porch       0.134581\n",
       "3Ssn Porch         0.048732\n",
       "Mo Sold            0.032735\n",
       "Pool Area          0.023106\n",
       "BsmtFin SF 2       0.016432\n",
       "Misc Val          -0.007375\n",
       "Yr Sold           -0.015203\n",
       "Low Qual Fin SF   -0.041594\n",
       "Bsmt Half Bath    -0.045290\n",
       "Id                -0.051398\n",
       "MS SubClass       -0.087335\n",
       "Overall Cond      -0.097019\n",
       "Kitchen AbvGr     -0.125444\n",
       "Enclosed Porch    -0.135656\n",
       "PID               -0.255052\n",
       "Name: SalePrice, dtype: float64"
      ]
     },
     "execution_count": 7,
     "metadata": {},
     "output_type": "execute_result"
    }
   ],
   "source": [
    "sales_corrs.sort_values(ascending = False) # I have all the correlation values for each variable with the sale price of the home. "
   ]
  },
  {
   "cell_type": "markdown",
   "id": "44ad40b1-8f1d-4c92-84aa-e43e84ed576d",
   "metadata": {},
   "source": [
    "The corr() function utilizes the Pearson correlation method. The Pearson correlation coefficient ranges from -1 to 1, with 1 being a strong positive correlation and -1 being a strong negative correlation. In this scenario, I will say that above 0.5 is considered a relatively strong association. Based on the correlation matrix above, sale price has the highest correlations with overall quality (Overall Qual), above grade ground living area in square feet (Gr Liv Area), the size of the garage in square feet (Garage Area), the size of the garage in car capacity (Garage Cars), total square feet of the basement area (Total Bsmt SF), size of the first floor in square feet (1st Flr SF), the year built (Year Built), the remodel date (Year Remod/Add), the number of full bathrooms above grade (Full Bath), the total number of rooms above grade (TotRms AbvGrd), and the masonry veneer area (Mas Vnr Area).  "
   ]
  },
  {
   "cell_type": "markdown",
   "id": "134d52b1-1c83-4e90-9674-b0c1b92d942c",
   "metadata": {},
   "source": [
    "### Multiple Linear Regression Model "
   ]
  },
  {
   "cell_type": "code",
   "execution_count": 8,
   "id": "6c82b9c7-25cf-4562-bc13-d06e766069e2",
   "metadata": {
    "tags": []
   },
   "outputs": [
    {
     "name": "stdout",
     "output_type": "stream",
     "text": [
      "Features Matrix (X): (2051, 3)\n",
      "Target Vector (y): (2051,)\n",
      "Full Dataset: (2051, 81)\n"
     ]
    }
   ],
   "source": [
    "# create feature matrix X and target vector y\n",
    "X = train[['Overall Qual', 'Gr Liv Area', 'Garage Area']]\n",
    "y = train['SalePrice']\n",
    "\n",
    "# look at the shapes of the dataframes \n",
    "print(f\"Features Matrix (X): {X.shape}\")\n",
    "print(f\"Target Vector (y): {y.shape}\")\n",
    "print(f\"Full Dataset: {train.shape}\")"
   ]
  },
  {
   "cell_type": "code",
   "execution_count": 9,
   "id": "e419f763-44e3-43fe-8617-0fb1ff4ef87f",
   "metadata": {},
   "outputs": [
    {
     "data": {
      "text/html": [
       "<div>\n",
       "<style scoped>\n",
       "    .dataframe tbody tr th:only-of-type {\n",
       "        vertical-align: middle;\n",
       "    }\n",
       "\n",
       "    .dataframe tbody tr th {\n",
       "        vertical-align: top;\n",
       "    }\n",
       "\n",
       "    .dataframe thead th {\n",
       "        text-align: right;\n",
       "    }\n",
       "</style>\n",
       "<table border=\"1\" class=\"dataframe\">\n",
       "  <thead>\n",
       "    <tr style=\"text-align: right;\">\n",
       "      <th></th>\n",
       "      <th>Overall Qual</th>\n",
       "      <th>Gr Liv Area</th>\n",
       "      <th>Garage Area</th>\n",
       "    </tr>\n",
       "  </thead>\n",
       "  <tbody>\n",
       "    <tr>\n",
       "      <th>1448</th>\n",
       "      <td>6</td>\n",
       "      <td>1358.0</td>\n",
       "      <td>484.0</td>\n",
       "    </tr>\n",
       "    <tr>\n",
       "      <th>1771</th>\n",
       "      <td>8</td>\n",
       "      <td>1973.0</td>\n",
       "      <td>895.0</td>\n",
       "    </tr>\n",
       "    <tr>\n",
       "      <th>966</th>\n",
       "      <td>6</td>\n",
       "      <td>1356.0</td>\n",
       "      <td>528.0</td>\n",
       "    </tr>\n",
       "    <tr>\n",
       "      <th>1604</th>\n",
       "      <td>8</td>\n",
       "      <td>2263.0</td>\n",
       "      <td>420.0</td>\n",
       "    </tr>\n",
       "    <tr>\n",
       "      <th>1827</th>\n",
       "      <td>6</td>\n",
       "      <td>1855.0</td>\n",
       "      <td>512.0</td>\n",
       "    </tr>\n",
       "  </tbody>\n",
       "</table>\n",
       "</div>"
      ],
      "text/plain": [
       "      Overall Qual  Gr Liv Area  Garage Area\n",
       "1448             6       1358.0        484.0\n",
       "1771             8       1973.0        895.0\n",
       "966              6       1356.0        528.0\n",
       "1604             8       2263.0        420.0\n",
       "1827             6       1855.0        512.0"
      ]
     },
     "execution_count": 9,
     "metadata": {},
     "output_type": "execute_result"
    }
   ],
   "source": [
    "# split the train data into train and test data \n",
    "X_train, X_test, y_train, y_test = train_test_split(X, y, test_size=0.2, random_state=42)\n",
    "X_train.head()"
   ]
  },
  {
   "cell_type": "code",
   "execution_count": 10,
   "id": "e82cd374-0091-4c9b-8db1-9640ac60c73a",
   "metadata": {},
   "outputs": [
    {
     "name": "stdout",
     "output_type": "stream",
     "text": [
      "Shape of original data frame: (2051, 81)\n",
      " \n",
      "shape of X_train: (1640, 3)\n",
      "Shape of y_train: (1640,)\n",
      " \n",
      "Shape of X_test: (411, 3)\n",
      "Shape of y_test: (411,)\n"
     ]
    }
   ],
   "source": [
    "# check out the shapes of the train and test datatypes created \n",
    "print(f'Shape of original data frame: {train.shape}')\n",
    "print(\" \")\n",
    "print(f'shape of X_train: {X_train.shape}')\n",
    "print(f\"Shape of y_train: {y_train.shape}\")\n",
    "print(\" \")\n",
    "print(f\"Shape of X_test: {X_test.shape}\")\n",
    "print(f\"Shape of y_test: {y_test.shape}\")"
   ]
  },
  {
   "cell_type": "code",
   "execution_count": 11,
   "id": "918863cc-ff92-4058-be46-9b36edb9ee8f",
   "metadata": {},
   "outputs": [],
   "source": [
    "# instantiate a linear regression model \n",
    "linreg = LinearRegression()"
   ]
  },
  {
   "cell_type": "code",
   "execution_count": 12,
   "id": "77929d36-875b-425f-8ffc-206c439587e1",
   "metadata": {},
   "outputs": [
    {
     "data": {
      "text/plain": [
       "LinearRegression()"
      ]
     },
     "execution_count": 12,
     "metadata": {},
     "output_type": "execute_result"
    }
   ],
   "source": [
    "# fit the train datasets to the linear regression model \n",
    "linreg.fit(X_train, y_train)"
   ]
  },
  {
   "cell_type": "code",
   "execution_count": 13,
   "id": "be04d346-e47a-4961-9e6f-223e8add1e6d",
   "metadata": {},
   "outputs": [
    {
     "data": {
      "text/plain": [
       "-98416.28427339139"
      ]
     },
     "execution_count": 13,
     "metadata": {},
     "output_type": "execute_result"
    }
   ],
   "source": [
    "# check out the intercept\n",
    "linreg.intercept_"
   ]
  },
  {
   "cell_type": "code",
   "execution_count": 14,
   "id": "5e3eaede-6e6e-4048-ae68-6bd0e4df3d34",
   "metadata": {},
   "outputs": [
    {
     "data": {
      "text/plain": [
       "array([27875.34958954,    48.88446323,    76.77528478])"
      ]
     },
     "execution_count": 14,
     "metadata": {},
     "output_type": "execute_result"
    }
   ],
   "source": [
    "# check out the slopes for each linear model of each variable \n",
    "linreg.coef_"
   ]
  },
  {
   "cell_type": "code",
   "execution_count": 15,
   "id": "d9d349ae-0722-4da0-8414-c0b5192828ee",
   "metadata": {},
   "outputs": [
    {
     "data": {
      "text/html": [
       "<div>\n",
       "<style scoped>\n",
       "    .dataframe tbody tr th:only-of-type {\n",
       "        vertical-align: middle;\n",
       "    }\n",
       "\n",
       "    .dataframe tbody tr th {\n",
       "        vertical-align: top;\n",
       "    }\n",
       "\n",
       "    .dataframe thead th {\n",
       "        text-align: right;\n",
       "    }\n",
       "</style>\n",
       "<table border=\"1\" class=\"dataframe\">\n",
       "  <thead>\n",
       "    <tr style=\"text-align: right;\">\n",
       "      <th></th>\n",
       "      <th>Coefficient</th>\n",
       "    </tr>\n",
       "  </thead>\n",
       "  <tbody>\n",
       "    <tr>\n",
       "      <th>Overall Qual</th>\n",
       "      <td>27875.349590</td>\n",
       "    </tr>\n",
       "    <tr>\n",
       "      <th>Gr Liv Area</th>\n",
       "      <td>48.884463</td>\n",
       "    </tr>\n",
       "    <tr>\n",
       "      <th>Garage Area</th>\n",
       "      <td>76.775285</td>\n",
       "    </tr>\n",
       "  </tbody>\n",
       "</table>\n",
       "</div>"
      ],
      "text/plain": [
       "               Coefficient\n",
       "Overall Qual  27875.349590\n",
       "Gr Liv Area      48.884463\n",
       "Garage Area      76.775285"
      ]
     },
     "execution_count": 15,
     "metadata": {},
     "output_type": "execute_result"
    }
   ],
   "source": [
    "# display it better \n",
    "pd.DataFrame(linreg.coef_,index=['Overall Qual', 'Gr Liv Area', 'Garage Area'], columns=['Coefficient'])"
   ]
  },
  {
   "cell_type": "code",
   "execution_count": 16,
   "id": "ce7a313f-eeaa-41a3-9730-070cd465a74f",
   "metadata": {},
   "outputs": [
    {
     "data": {
      "text/plain": [
       "0.7484589019904788"
      ]
     },
     "execution_count": 16,
     "metadata": {},
     "output_type": "execute_result"
    }
   ],
   "source": [
    "# evaluate the model with the R^2 value \n",
    "linreg.score(X=X_train, y=y_train)\n",
    "\n",
    "# this the R^2 value for the train data\n",
    "\n",
    "# Interpretation:\n",
    "#      For the train data, 0.74 of the variance/variability in our y variable (SalePrice) is explained by the features \n",
    "#      in our model (the Overall Qual, the Gr Liv Area, and the Garage Area)"
   ]
  },
  {
   "cell_type": "code",
   "execution_count": 17,
   "id": "9f3ee207-f0e3-4577-810f-b622c649692b",
   "metadata": {},
   "outputs": [
    {
     "data": {
      "text/plain": [
       "0.7949604444846784"
      ]
     },
     "execution_count": 17,
     "metadata": {},
     "output_type": "execute_result"
    }
   ],
   "source": [
    "# evaluate the model with the R^2 value \n",
    "linreg.score(X=X_test, y=y_test)\n",
    "\n",
    "# this the R^2 value for the test data\n",
    "\n",
    "# Interpretation:\n",
    "#      For the test data, 0.79 of the variance/variability in our y variable (SalePrice) is explained by the features \n",
    "#      in our model (the Overall Qual, the Gr Liv Area, and the Garage Area)"
   ]
  },
  {
   "cell_type": "code",
   "execution_count": 18,
   "id": "6f685d05-a8a8-429b-92fa-0af7232f3428",
   "metadata": {},
   "outputs": [],
   "source": [
    "# make predictions from the train data \n",
    "train_preds = linreg.predict(X_train)"
   ]
  },
  {
   "cell_type": "code",
   "execution_count": 19,
   "id": "abe50840-fb1b-49d6-838f-47d122c11a2f",
   "metadata": {},
   "outputs": [
    {
     "data": {
      "text/plain": [
       "array([172380.1521615 , 289749.43827094, 175660.49576544, 267457.67233568,\n",
       "       198825.43835958])"
      ]
     },
     "execution_count": 19,
     "metadata": {},
     "output_type": "execute_result"
    }
   ],
   "source": [
    "train_preds[0:5]"
   ]
  },
  {
   "cell_type": "code",
   "execution_count": 20,
   "id": "e780808f-dcff-4ca7-b38b-4c5b9d8a0445",
   "metadata": {},
   "outputs": [],
   "source": [
    "# make predictions from the test data \n",
    "test_preds = linreg.predict(X_test)"
   ]
  },
  {
   "cell_type": "code",
   "execution_count": 21,
   "id": "b7c23a9b-69a5-4bbc-84b0-067ed1e47138",
   "metadata": {},
   "outputs": [
    {
     "data": {
      "text/plain": [
       "array([131818.80562786, 239544.51372437, 277021.8584793 , 165931.98571283,\n",
       "       225999.59008384])"
      ]
     },
     "execution_count": 21,
     "metadata": {},
     "output_type": "execute_result"
    }
   ],
   "source": [
    "test_preds[0:5]"
   ]
  },
  {
   "cell_type": "code",
   "execution_count": 22,
   "id": "e7d381d5-e65d-40d9-886c-32c5689ea274",
   "metadata": {},
   "outputs": [
    {
     "data": {
      "text/plain": [
       "1448     40619.847838\n",
       "1771    105250.561729\n",
       "966      12339.504235\n",
       "1604     -9457.672336\n",
       "1827    -11825.438360\n",
       "Name: SalePrice, dtype: float64"
      ]
     },
     "execution_count": 22,
     "metadata": {},
     "output_type": "execute_result"
    }
   ],
   "source": [
    "# get the train residuals \n",
    "train_residuals = y_train - train_preds\n",
    "train_residuals[0:5]"
   ]
  },
  {
   "cell_type": "code",
   "execution_count": 23,
   "id": "06e871ab-09d1-42b7-96d7-d99513f7f880",
   "metadata": {},
   "outputs": [
    {
     "data": {
      "text/plain": [
       "1124      681.194372\n",
       "188    -13544.513724\n",
       "1727   -27021.858479\n",
       "1658   -37931.985713\n",
       "1424   -22839.590084\n",
       "Name: SalePrice, dtype: float64"
      ]
     },
     "execution_count": 23,
     "metadata": {},
     "output_type": "execute_result"
    }
   ],
   "source": [
    "# get the test residuals \n",
    "test_residuals = y_test - test_preds\n",
    "test_residuals[0:5]"
   ]
  },
  {
   "cell_type": "code",
   "execution_count": 24,
   "id": "5bfde9e8-fb0f-46df-a052-dad74ccaff6f",
   "metadata": {},
   "outputs": [
    {
     "data": {
      "image/png": "[encoded data removed]",
      "text/plain": [
       "<Figure size 432x288 with 1 Axes>"
      ]
     },
     "metadata": {
      "needs_background": "light"
     },
     "output_type": "display_data"
    }
   ],
   "source": [
    "# plot the train residuals \n",
    "# kinda looks nonlinear\n",
    "plt.hist(train_residuals, bins=20);\n",
    "plt.savefig('data_visualization/train_residuals_mlr.jpeg')"
   ]
  },
  {
   "cell_type": "code",
   "execution_count": 25,
   "id": "ec25f81c-bb5b-4c71-8804-2c1b392f8359",
   "metadata": {},
   "outputs": [
    {
     "data": {
      "image/png": "[encoded data removed]",
      "text/plain": [
       "<Figure size 432x288 with 1 Axes>"
      ]
     },
     "metadata": {
      "needs_background": "light"
     },
     "output_type": "display_data"
    }
   ],
   "source": [
    "# plot the test residuals \n",
    "# looks pretty similar to the train data \n",
    "# again the graph looks nonlinear\n",
    "\n",
    "plt.hist(test_residuals, bins=20);\n",
    "plt.savefig('data_visualization/test_residuals_mlr.jpeg')"
   ]
  },
  {
   "cell_type": "code",
   "execution_count": 26,
   "id": "d8249c56-4295-4153-b1f9-bb4a7d158dd5",
   "metadata": {},
   "outputs": [
    {
     "data": {
      "image/png": "[encoded data removed]",
      "text/plain": [
       "<Figure size 432x288 with 1 Axes>"
      ]
     },
     "metadata": {
      "needs_background": "light"
     },
     "output_type": "display_data"
    }
   ],
   "source": [
    "# this is a scatterplot for the train data predictions vs. baseline residuals for the train data \n",
    "e_fake_train = np.random.randn(X_train.shape[0])\n",
    "plt.scatter(train_preds, e_fake_train)\n",
    "plt.axhline(0, color='orange');"
   ]
  },
  {
   "cell_type": "code",
   "execution_count": 27,
   "id": "87032cff-50f7-410f-b81e-074cb5a6db98",
   "metadata": {},
   "outputs": [
    {
     "data": {
      "image/png": "[encoded data removed]",
      "text/plain": [
       "<Figure size 432x288 with 1 Axes>"
      ]
     },
     "metadata": {
      "needs_background": "light"
     },
     "output_type": "display_data"
    }
   ],
   "source": [
    "# this is a scatterplot for the test dat predictions vs. baseline residuals for the test data \n",
    "e_fake_test = np.random.randn(X_test.shape[0])\n",
    "plt.scatter(test_preds, e_fake_test)\n",
    "plt.axhline(0, color='orange');"
   ]
  },
  {
   "cell_type": "code",
   "execution_count": 28,
   "id": "24df22cb-bf37-463e-b8a2-853802a92f6b",
   "metadata": {},
   "outputs": [
    {
     "data": {
      "image/png": "[encoded data removed]",
      "text/plain": [
       "<Figure size 432x288 with 1 Axes>"
      ]
     },
     "metadata": {
      "needs_background": "light"
     },
     "output_type": "display_data"
    }
   ],
   "source": [
    "# the scatterplot for the train predictions vs train residuals\n",
    "# does not look the same \n",
    "plt.scatter(train_preds, train_residuals)\n",
    "plt.axhline(0, color='red');"
   ]
  },
  {
   "cell_type": "code",
   "execution_count": 29,
   "id": "c7170803-2b9c-4272-bf92-0a9db89304c0",
   "metadata": {},
   "outputs": [
    {
     "data": {
      "image/png": "[encoded data removed]",
      "text/plain": [
       "<Figure size 432x288 with 1 Axes>"
      ]
     },
     "metadata": {
      "needs_background": "light"
     },
     "output_type": "display_data"
    }
   ],
   "source": [
    "# the scatterplot for the test predictions vs test residuals\n",
    "# does not look the same \n",
    "plt.scatter(test_preds, test_residuals)\n",
    "plt.axhline(0, color='red');"
   ]
  },
  {
   "cell_type": "code",
   "execution_count": 30,
   "id": "1668ff57-9908-4101-8794-6983df147c64",
   "metadata": {},
   "outputs": [
    {
     "data": {
      "text/plain": [
       "array([0.80008638, 0.72934328, 0.7840845 , 0.75069968, 0.63091672])"
      ]
     },
     "execution_count": 30,
     "metadata": {},
     "output_type": "execute_result"
    }
   ],
   "source": [
    "cross_val_score(estimator=LinearRegression(), X=X_train, y=y_train)"
   ]
  },
  {
   "cell_type": "code",
   "execution_count": 31,
   "id": "8735438e-5bf4-42c5-9801-8db1138a0169",
   "metadata": {},
   "outputs": [
    {
     "data": {
      "text/plain": [
       "0.7390261146442694"
      ]
     },
     "execution_count": 31,
     "metadata": {},
     "output_type": "execute_result"
    }
   ],
   "source": [
    "cross_val_score (estimator=LinearRegression(), X=X_train, y=y_train).mean()"
   ]
  },
  {
   "cell_type": "code",
   "execution_count": 32,
   "id": "ec2cd8ff-f633-427e-8817-47eeeef43377",
   "metadata": {},
   "outputs": [
    {
     "data": {
      "text/plain": [
       "0.05945802723444401"
      ]
     },
     "execution_count": 32,
     "metadata": {},
     "output_type": "execute_result"
    }
   ],
   "source": [
    "cross_val_score (estimator=LinearRegression(), X=X_train, y=y_train).std()"
   ]
  },
  {
   "cell_type": "code",
   "execution_count": 33,
   "id": "5c2abc7f-5317-4f3c-9475-7d25c3870bbf",
   "metadata": {},
   "outputs": [
    {
     "data": {
      "text/plain": [
       "array([0.76248544, 0.78530582, 0.72026629, 0.79280991, 0.72505863])"
      ]
     },
     "execution_count": 33,
     "metadata": {},
     "output_type": "execute_result"
    }
   ],
   "source": [
    "cross_val_score(estimator=LinearRegression(), X=X, y=y)"
   ]
  },
  {
   "cell_type": "code",
   "execution_count": 34,
   "id": "39f5a330-9a67-4970-993b-314978b317f7",
   "metadata": {},
   "outputs": [
    {
     "data": {
      "text/plain": [
       "0.7571852173681434"
      ]
     },
     "execution_count": 34,
     "metadata": {},
     "output_type": "execute_result"
    }
   ],
   "source": [
    "cross_val_score(estimator=LinearRegression(), X=X, y=y).mean()"
   ]
  },
  {
   "cell_type": "code",
   "execution_count": 35,
   "id": "e8850521-266e-487d-ad7d-84b16fe32fa6",
   "metadata": {},
   "outputs": [
    {
     "data": {
      "text/plain": [
       "0.029943629367981152"
      ]
     },
     "execution_count": 35,
     "metadata": {},
     "output_type": "execute_result"
    }
   ],
   "source": [
    "cross_val_score(estimator=LinearRegression(), X=X, y=y).std()"
   ]
  },
  {
   "cell_type": "code",
   "execution_count": 36,
   "id": "f0113b84-b88f-4349-8361-6147e40374e0",
   "metadata": {},
   "outputs": [
    {
     "data": {
      "text/plain": [
       "array([177875.02092323, 243132.07050621, 111996.12317993, 142205.93826711,\n",
       "       176949.60664174, 205217.29721988, 162367.30791741, 140090.08117062,\n",
       "       119025.62601241, 180413.94263593])"
      ]
     },
     "execution_count": 36,
     "metadata": {},
     "output_type": "execute_result"
    }
   ],
   "source": [
    "cross_val_predict(estimator=LinearRegression(), X=X, y=y)[0:10]"
   ]
  },
  {
   "cell_type": "code",
   "execution_count": 37,
   "id": "e68af189-8d0f-4056-8147-3cbd88bebe35",
   "metadata": {},
   "outputs": [
    {
     "data": {
      "text/plain": [
       "1600583207.0951397"
      ]
     },
     "execution_count": 37,
     "metadata": {},
     "output_type": "execute_result"
    }
   ],
   "source": [
    "metrics.mean_squared_error(y_true=y_train, y_pred=train_preds) # MSE"
   ]
  },
  {
   "cell_type": "code",
   "execution_count": 38,
   "id": "97887c6e-fc6e-46b4-9158-c49714006941",
   "metadata": {},
   "outputs": [
    {
     "data": {
      "text/plain": [
       "1218245695.9495564"
      ]
     },
     "execution_count": 38,
     "metadata": {},
     "output_type": "execute_result"
    }
   ],
   "source": [
    "metrics.mean_squared_error(y_true=y_test, y_pred=test_preds)"
   ]
  },
  {
   "cell_type": "code",
   "execution_count": 39,
   "id": "1a59cf6b-74d2-4eff-b84a-c32b654194da",
   "metadata": {},
   "outputs": [
    {
     "data": {
      "text/plain": [
       "40007.289424492876"
      ]
     },
     "execution_count": 39,
     "metadata": {},
     "output_type": "execute_result"
    }
   ],
   "source": [
    "metrics.mean_squared_error(y_true=y_train, y_pred=train_preds, squared=False) # RMSE"
   ]
  },
  {
   "cell_type": "code",
   "execution_count": 40,
   "id": "50df3918-fb91-42db-8ad4-94e3d6875c0b",
   "metadata": {},
   "outputs": [
    {
     "data": {
      "text/plain": [
       "34903.376569460386"
      ]
     },
     "execution_count": 40,
     "metadata": {},
     "output_type": "execute_result"
    }
   ],
   "source": [
    "metrics.mean_squared_error(y_true=y_test, y_pred=test_preds, squared=False)"
   ]
  },
  {
   "cell_type": "code",
   "execution_count": 41,
   "id": "a03e60be-163e-4e6a-a8c1-59a38f4e3368",
   "metadata": {},
   "outputs": [],
   "source": [
    "test = pd.read_csv('datasets/test.csv') "
   ]
  },
  {
   "cell_type": "code",
   "execution_count": 42,
   "id": "e9b07537-7a2b-444f-8925-763bab667d6e",
   "metadata": {},
   "outputs": [],
   "source": [
    "lr = LinearRegression()"
   ]
  },
  {
   "cell_type": "code",
   "execution_count": 43,
   "id": "8e90ac66-0440-4a10-9827-38b9bd68bde0",
   "metadata": {},
   "outputs": [
    {
     "data": {
      "text/plain": [
       "LinearRegression()"
      ]
     },
     "execution_count": 43,
     "metadata": {},
     "output_type": "execute_result"
    }
   ],
   "source": [
    "lr.fit(X, y)"
   ]
  },
  {
   "cell_type": "code",
   "execution_count": 44,
   "id": "c0c9eb82-eb37-495f-850a-16d764615208",
   "metadata": {},
   "outputs": [],
   "source": [
    "X_test_data = test[['Overall Qual', 'Gr Liv Area', 'Garage Area']]"
   ]
  },
  {
   "cell_type": "code",
   "execution_count": 45,
   "id": "56af1048-df33-409d-97a1-bcbd499ac375",
   "metadata": {},
   "outputs": [],
   "source": [
    "y_test_preds = lr.predict(X_test_data)"
   ]
  },
  {
   "cell_type": "code",
   "execution_count": 46,
   "id": "7767f01c-11ca-47e0-aab4-9bbc03aeb9a1",
   "metadata": {},
   "outputs": [],
   "source": [
    "predicted=pd.DataFrame({'Id':test['Id'], 'SalePrice':y_test_preds})"
   ]
  },
  {
   "cell_type": "code",
   "execution_count": 47,
   "id": "f49fac8d-534e-4e4f-af13-c1cf553b3e18",
   "metadata": {},
   "outputs": [
    {
     "data": {
      "text/html": [
       "<div>\n",
       "<style scoped>\n",
       "    .dataframe tbody tr th:only-of-type {\n",
       "        vertical-align: middle;\n",
       "    }\n",
       "\n",
       "    .dataframe tbody tr th {\n",
       "        vertical-align: top;\n",
       "    }\n",
       "\n",
       "    .dataframe thead th {\n",
       "        text-align: right;\n",
       "    }\n",
       "</style>\n",
       "<table border=\"1\" class=\"dataframe\">\n",
       "  <thead>\n",
       "    <tr style=\"text-align: right;\">\n",
       "      <th></th>\n",
       "      <th>Id</th>\n",
       "      <th>SalePrice</th>\n",
       "    </tr>\n",
       "  </thead>\n",
       "  <tbody>\n",
       "    <tr>\n",
       "      <th>0</th>\n",
       "      <td>2658</td>\n",
       "      <td>196373.414170</td>\n",
       "    </tr>\n",
       "    <tr>\n",
       "      <th>1</th>\n",
       "      <td>2718</td>\n",
       "      <td>181186.324302</td>\n",
       "    </tr>\n",
       "    <tr>\n",
       "      <th>2</th>\n",
       "      <td>2414</td>\n",
       "      <td>202532.061135</td>\n",
       "    </tr>\n",
       "    <tr>\n",
       "      <th>3</th>\n",
       "      <td>1989</td>\n",
       "      <td>125058.453434</td>\n",
       "    </tr>\n",
       "    <tr>\n",
       "      <th>4</th>\n",
       "      <td>625</td>\n",
       "      <td>176432.306950</td>\n",
       "    </tr>\n",
       "  </tbody>\n",
       "</table>\n",
       "</div>"
      ],
      "text/plain": [
       "     Id      SalePrice\n",
       "0  2658  196373.414170\n",
       "1  2718  181186.324302\n",
       "2  2414  202532.061135\n",
       "3  1989  125058.453434\n",
       "4   625  176432.306950"
      ]
     },
     "execution_count": 47,
     "metadata": {},
     "output_type": "execute_result"
    }
   ],
   "source": [
    "predicted.head()"
   ]
  },
  {
   "cell_type": "code",
   "execution_count": 48,
   "id": "78ac8ada-0bb5-4743-aabb-ebc14f7a5359",
   "metadata": {},
   "outputs": [],
   "source": [
    "predicted.to_csv('datasets/first_predictions.csv', index=False)"
   ]
  },
  {
   "cell_type": "code",
   "execution_count": 49,
   "id": "57bf0672-5ecd-4e48-b64e-3c845d26cf6d",
   "metadata": {},
   "outputs": [
    {
     "data": {
      "image/png": "[encoded data removed]",
      "text/plain": [
       "<Figure size 432x288 with 1 Axes>"
      ]
     },
     "metadata": {
      "needs_background": "light"
     },
     "output_type": "display_data"
    }
   ],
   "source": [
    "sns.scatterplot(x=predicted['SalePrice'], y=train['SalePrice'])\n",
    "plt.savefig('data_visualization/predicted_vs_actual_mlr.jpeg')"
   ]
  },
  {
   "cell_type": "code",
   "execution_count": null,
   "id": "6677a8e5-e226-457b-89e9-80239caf1c31",
   "metadata": {},
   "outputs": [],
   "source": []
  }
 ],
 "metadata": {
  "kernelspec": {
   "display_name": "Python 3",
   "language": "python",
   "name": "python3"
  },
  "language_info": {
   "codemirror_mode": {
    "name": "ipython",
    "version": 3
   },
   "file_extension": ".py",
   "mimetype": "text/x-python",
   "name": "python",
   "nbconvert_exporter": "python",
   "pygments_lexer": "ipython3",
   "version": "3.8.8"
  }
 },
 "nbformat": 4,
 "nbformat_minor": 5
}
