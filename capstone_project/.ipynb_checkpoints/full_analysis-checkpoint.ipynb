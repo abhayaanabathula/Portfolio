{
 "cells": [
  {
   "cell_type": "code",
   "execution_count": 2,
   "id": "3676623c-aa31-461a-abc4-5aaf9dc25ee1",
   "metadata": {},
   "outputs": [],
   "source": [
    "# imports\n",
    "import pandas as pd\n",
    "import matplotlib.pyplot as plt\n",
    "import seaborn as sns\n",
    "from sklearn.model_selection import train_test_split, GridSearchCV\n",
    "from sklearn.pipeline import Pipeline\n",
    "\n",
    "from sklearn.metrics import confusion_matrix, plot_confusion_matrix\n",
    "from sklearn.metrics import classification_report\n",
    "from sklearn.neighbors import KNeighborsRegressor\n",
    "from sklearn.preprocessing import StandardScaler\n",
    "from sklearn.linear_model import LinearRegression, Lasso, LassoCV\n",
    "\n",
    "from sklearn.ensemble import RandomForestRegressor\n",
    "\n",
    "from sklearn.ensemble import AdaBoostRegressor\n",
    "\n",
    "from sklearn.feature_extraction.text import CountVectorizer"
   ]
  },
  {
   "cell_type": "code",
   "execution_count": 3,
   "id": "c194e0f0-ee6c-4b50-8aa0-9c07fd88e466",
   "metadata": {},
   "outputs": [],
   "source": [
    "train = pd.read_csv('datasets/quantified_data.csv')"
   ]
  },
  {
   "cell_type": "code",
   "execution_count": 4,
   "id": "43c8159b-13e6-4a83-9cd4-d77dbf8b4cfe",
   "metadata": {},
   "outputs": [
    {
     "data": {
      "text/html": [
       "<div>\n",
       "<style scoped>\n",
       "    .dataframe tbody tr th:only-of-type {\n",
       "        vertical-align: middle;\n",
       "    }\n",
       "\n",
       "    .dataframe tbody tr th {\n",
       "        vertical-align: top;\n",
       "    }\n",
       "\n",
       "    .dataframe thead th {\n",
       "        text-align: right;\n",
       "    }\n",
       "</style>\n",
       "<table border=\"1\" class=\"dataframe\">\n",
       "  <thead>\n",
       "    <tr style=\"text-align: right;\">\n",
       "      <th></th>\n",
       "      <th>00</th>\n",
       "      <th>000</th>\n",
       "      <th>0001pt</th>\n",
       "      <th>000search</th>\n",
       "      <th>01</th>\n",
       "      <th>02</th>\n",
       "      <th>02nd</th>\n",
       "      <th>03</th>\n",
       "      <th>03rd</th>\n",
       "      <th>04</th>\n",
       "      <th>...</th>\n",
       "      <th>zotdevelopment</th>\n",
       "      <th>zsbusiness</th>\n",
       "      <th>zslearning</th>\n",
       "      <th>ztpurgent</th>\n",
       "      <th>zuan</th>\n",
       "      <th>zutshi</th>\n",
       "      <th>zycus</th>\n",
       "      <th>max_experience</th>\n",
       "      <th>min_experience</th>\n",
       "      <th>average_salary</th>\n",
       "    </tr>\n",
       "  </thead>\n",
       "  <tbody>\n",
       "    <tr>\n",
       "      <th>0</th>\n",
       "      <td>0</td>\n",
       "      <td>0</td>\n",
       "      <td>0</td>\n",
       "      <td>0</td>\n",
       "      <td>0</td>\n",
       "      <td>0</td>\n",
       "      <td>0</td>\n",
       "      <td>0</td>\n",
       "      <td>0</td>\n",
       "      <td>0</td>\n",
       "      <td>...</td>\n",
       "      <td>0</td>\n",
       "      <td>0</td>\n",
       "      <td>0</td>\n",
       "      <td>0</td>\n",
       "      <td>0</td>\n",
       "      <td>0</td>\n",
       "      <td>0</td>\n",
       "      <td>7</td>\n",
       "      <td>5</td>\n",
       "      <td>11.0</td>\n",
       "    </tr>\n",
       "    <tr>\n",
       "      <th>1</th>\n",
       "      <td>0</td>\n",
       "      <td>0</td>\n",
       "      <td>0</td>\n",
       "      <td>0</td>\n",
       "      <td>0</td>\n",
       "      <td>0</td>\n",
       "      <td>0</td>\n",
       "      <td>0</td>\n",
       "      <td>0</td>\n",
       "      <td>0</td>\n",
       "      <td>...</td>\n",
       "      <td>0</td>\n",
       "      <td>0</td>\n",
       "      <td>0</td>\n",
       "      <td>0</td>\n",
       "      <td>0</td>\n",
       "      <td>0</td>\n",
       "      <td>0</td>\n",
       "      <td>17</td>\n",
       "      <td>10</td>\n",
       "      <td>17.5</td>\n",
       "    </tr>\n",
       "    <tr>\n",
       "      <th>2</th>\n",
       "      <td>0</td>\n",
       "      <td>0</td>\n",
       "      <td>0</td>\n",
       "      <td>0</td>\n",
       "      <td>0</td>\n",
       "      <td>0</td>\n",
       "      <td>0</td>\n",
       "      <td>0</td>\n",
       "      <td>0</td>\n",
       "      <td>0</td>\n",
       "      <td>...</td>\n",
       "      <td>0</td>\n",
       "      <td>0</td>\n",
       "      <td>0</td>\n",
       "      <td>0</td>\n",
       "      <td>0</td>\n",
       "      <td>0</td>\n",
       "      <td>0</td>\n",
       "      <td>9</td>\n",
       "      <td>5</td>\n",
       "      <td>27.5</td>\n",
       "    </tr>\n",
       "    <tr>\n",
       "      <th>3</th>\n",
       "      <td>0</td>\n",
       "      <td>0</td>\n",
       "      <td>0</td>\n",
       "      <td>0</td>\n",
       "      <td>0</td>\n",
       "      <td>0</td>\n",
       "      <td>0</td>\n",
       "      <td>0</td>\n",
       "      <td>0</td>\n",
       "      <td>0</td>\n",
       "      <td>...</td>\n",
       "      <td>0</td>\n",
       "      <td>0</td>\n",
       "      <td>0</td>\n",
       "      <td>0</td>\n",
       "      <td>0</td>\n",
       "      <td>0</td>\n",
       "      <td>0</td>\n",
       "      <td>10</td>\n",
       "      <td>7</td>\n",
       "      <td>17.5</td>\n",
       "    </tr>\n",
       "    <tr>\n",
       "      <th>4</th>\n",
       "      <td>0</td>\n",
       "      <td>0</td>\n",
       "      <td>0</td>\n",
       "      <td>0</td>\n",
       "      <td>0</td>\n",
       "      <td>0</td>\n",
       "      <td>0</td>\n",
       "      <td>0</td>\n",
       "      <td>0</td>\n",
       "      <td>0</td>\n",
       "      <td>...</td>\n",
       "      <td>0</td>\n",
       "      <td>0</td>\n",
       "      <td>0</td>\n",
       "      <td>0</td>\n",
       "      <td>0</td>\n",
       "      <td>0</td>\n",
       "      <td>0</td>\n",
       "      <td>3</td>\n",
       "      <td>1</td>\n",
       "      <td>6.0</td>\n",
       "    </tr>\n",
       "  </tbody>\n",
       "</table>\n",
       "<p>5 rows × 24950 columns</p>\n",
       "</div>"
      ],
      "text/plain": [
       "   00  000  0001pt  000search  01  02  02nd  03  03rd  04  ...  \\\n",
       "0   0    0       0          0   0   0     0   0     0   0  ...   \n",
       "1   0    0       0          0   0   0     0   0     0   0  ...   \n",
       "2   0    0       0          0   0   0     0   0     0   0  ...   \n",
       "3   0    0       0          0   0   0     0   0     0   0  ...   \n",
       "4   0    0       0          0   0   0     0   0     0   0  ...   \n",
       "\n",
       "   zotdevelopment  zsbusiness  zslearning  ztpurgent  zuan  zutshi  zycus  \\\n",
       "0               0           0           0          0     0       0      0   \n",
       "1               0           0           0          0     0       0      0   \n",
       "2               0           0           0          0     0       0      0   \n",
       "3               0           0           0          0     0       0      0   \n",
       "4               0           0           0          0     0       0      0   \n",
       "\n",
       "   max_experience  min_experience  average_salary  \n",
       "0               7               5            11.0  \n",
       "1              17              10            17.5  \n",
       "2               9               5            27.5  \n",
       "3              10               7            17.5  \n",
       "4               3               1             6.0  \n",
       "\n",
       "[5 rows x 24950 columns]"
      ]
     },
     "execution_count": 4,
     "metadata": {},
     "output_type": "execute_result"
    }
   ],
   "source": [
    "train.head()"
   ]
  },
  {
   "cell_type": "code",
   "execution_count": 5,
   "id": "981be468-2077-4496-ad60-c20949eed316",
   "metadata": {},
   "outputs": [],
   "source": [
    "X = train.drop(columns='average_salary')\n",
    "y = train['average_salary']"
   ]
  },
  {
   "cell_type": "code",
   "execution_count": 6,
   "id": "21c7a2a4-025c-4225-b424-e57065e0d068",
   "metadata": {},
   "outputs": [
    {
     "data": {
      "text/plain": [
       "17.5    0.227261\n",
       "27.5    0.208323\n",
       "11.0    0.178375\n",
       "1.5     0.163881\n",
       "6.0     0.142619\n",
       "50.0    0.079541\n",
       "Name: average_salary, dtype: float64"
      ]
     },
     "execution_count": 6,
     "metadata": {},
     "output_type": "execute_result"
    }
   ],
   "source": [
    "y.value_counts(normalize=True)"
   ]
  },
  {
   "cell_type": "code",
   "execution_count": 7,
   "id": "e4be874c-5152-43c2-8812-f528dbd01f49",
   "metadata": {},
   "outputs": [],
   "source": [
    "X_train, X_test, y_train, y_test = train_test_split(X,\n",
    "                                                    y,\n",
    "                                                    test_size=0.33,\n",
    "                                                    stratify=y,\n",
    "                                                    random_state=42)"
   ]
  },
  {
   "cell_type": "code",
   "execution_count": 8,
   "id": "692ba566-b602-4a5d-ab0f-2178fe3e2d10",
   "metadata": {},
   "outputs": [],
   "source": [
    "pipe = Pipeline([\n",
    "    ('ss', StandardScaler()), \n",
    "    ('lin', LinearRegression())\n",
    "])"
   ]
  },
  {
   "cell_type": "code",
   "execution_count": null,
   "id": "b1e6cf4c-7693-48cf-b79c-5d4be96fb39d",
   "metadata": {},
   "outputs": [],
   "source": [
    "pipe.fit(X_train, y_train)\n",
    "pipe.score(X_train, y_train), pipe.score(X_test, y_test)"
   ]
  },
  {
   "cell_type": "code",
   "execution_count": null,
   "id": "02a1ca90-09d8-4618-8b6a-ae9db721d1c7",
   "metadata": {},
   "outputs": [],
   "source": [
    "pipe2 = Pipeline([\n",
    "    ('ss', StandardScaler()), \n",
    "    ('knn', KNeighborsRegressor())\n",
    "])"
   ]
  },
  {
   "cell_type": "code",
   "execution_count": null,
   "id": "d213d280-30e5-496b-a163-ff2b4f938e5f",
   "metadata": {},
   "outputs": [],
   "source": [
    "pipe2.fit(X_train, y_train)\n",
    "pipe2.score(X_train, y_train), pipe2.score(X_test, y_test)"
   ]
  },
  {
   "cell_type": "code",
   "execution_count": null,
   "id": "83fb69dd-5cfd-40fc-aac6-922fbbc6b0d1",
   "metadata": {},
   "outputs": [],
   "source": [
    "pipe3 = Pipeline([\n",
    "    ('ss', StandardScaler()), \n",
    "    ('lassoCV', LassoCV())\n",
    "])"
   ]
  },
  {
   "cell_type": "code",
   "execution_count": null,
   "id": "c884fd44-1a84-49f0-a9e0-2a45a3f1effc",
   "metadata": {},
   "outputs": [],
   "source": [
    "pipe3.fit(X_train, y_train)\n",
    "pipe3.score(X_train, y_train), pipe3.score(X_test, y_test)"
   ]
  },
  {
   "cell_type": "code",
   "execution_count": null,
   "id": "eb10d3d2-bb83-432c-a3d7-d01219f2a22d",
   "metadata": {},
   "outputs": [],
   "source": [
    "pipe4 = Pipeline([\n",
    "    ('ss', StandardScaler()), \n",
    "    ('rfr', RandomForestRegressor())\n",
    "])"
   ]
  },
  {
   "cell_type": "code",
   "execution_count": null,
   "id": "4e6bcce6-9fa2-487c-9680-2d88e7d0cfdb",
   "metadata": {},
   "outputs": [],
   "source": [
    "pipe4.fit(X_train, y_train)\n",
    "pipe4.score(X_train, y_train), pipe4.score(X_test, y_test)"
   ]
  },
  {
   "cell_type": "code",
   "execution_count": null,
   "id": "353eb31a-8ed7-4938-8326-7ad322e698b1",
   "metadata": {},
   "outputs": [],
   "source": [
    "pipe5 = Pipeline([\n",
    "    ('ss',StandardScalerdScaler()), \n",
    "    ('abr', AdaBoostRegressor())\n",
    "])"
   ]
  },
  {
   "cell_type": "code",
   "execution_count": null,
   "id": "345a0d97-bf3b-42bb-8ba5-cc56aaa477e8",
   "metadata": {},
   "outputs": [],
   "source": [
    "pipe5.fit(X_train, y_train)\n",
    "pipe5.score(X_train, y_train), pipe5.score(X_test, y_test)"
   ]
  },
  {
   "cell_type": "code",
   "execution_count": null,
   "id": "70d46a1d-c031-4f00-afe9-f844e3ba7407",
   "metadata": {},
   "outputs": [],
   "source": [
    "results = {'Model': ['LinearRegression',\n",
    "                     'KNeighborsRegressor',\n",
    "                     'LassoCV',\n",
    "                     'RandomForestRegressor',\n",
    "                     'AdaBoostRegressor'],\n",
    "           'train_score': [pipe.score(X_train, y_train),\n",
    "                           pipe2.score(X_train, y_train),\n",
    "                           pipe3.score(X_train, y_train), \n",
    "                           pipe4.score(X_train, y_train), \n",
    "                           pipe5.score(X_train, y_train)],\n",
    "           'test_score': [pipe.score(X_test, y_test),\n",
    "                           pipe2.score(X_test, y_test),\n",
    "                           pipe3.score(X_test, y_test), \n",
    "                           pipe4.score(X_test, y_test), \n",
    "                           pipe5.score(X_test, y_test)]\n",
    "          }"
   ]
  },
  {
   "cell_type": "code",
   "execution_count": null,
   "id": "5a307709-336d-48ac-9be2-21704b977f19",
   "metadata": {},
   "outputs": [],
   "source": [
    "results_df = pd.DataFrame(results)"
   ]
  },
  {
   "cell_type": "code",
   "execution_count": null,
   "id": "93995754-f99b-491c-8bc6-d9f60748ec9b",
   "metadata": {},
   "outputs": [],
   "source": [
    "results_df"
   ]
  },
  {
   "cell_type": "code",
   "execution_count": null,
   "id": "43a08075-bee6-4725-b0e1-29f61f952165",
   "metadata": {},
   "outputs": [],
   "source": []
  }
 ],
 "metadata": {
  "kernelspec": {
   "display_name": "Python 3 (ipykernel)",
   "language": "python",
   "name": "python3"
  },
  "language_info": {
   "codemirror_mode": {
    "name": "ipython",
    "version": 3
   },
   "file_extension": ".py",
   "mimetype": "text/x-python",
   "name": "python",
   "nbconvert_exporter": "python",
   "pygments_lexer": "ipython3",
   "version": "3.9.7"
  }
 },
 "nbformat": 4,
 "nbformat_minor": 5
}
