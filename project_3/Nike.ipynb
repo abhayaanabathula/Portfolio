{
 "cells": [
  {
   "cell_type": "markdown",
   "id": "c131b88d-58ad-433d-9ef3-2471b0c142ab",
   "metadata": {},
   "source": [
    "# Getting the Nike data from the reddit subreddit r/Nike "
   ]
  },
  {
   "cell_type": "code",
   "execution_count": 1,
   "id": "8afad6d6-71a4-471c-844a-18c1123006d6",
   "metadata": {},
   "outputs": [],
   "source": [
    "import requests \n",
    "import time \n",
    "import pandas as pd\n",
    "from nltk.tokenize import sent_tokenize, word_tokenize, RegexpTokenizer\n",
    "from nltk.stem import WordNetLemmatizer\n",
    "from nltk.stem.porter import PorterStemmer\n",
    "from nltk.corpus import stopwords"
   ]
  },
  {
   "cell_type": "code",
   "execution_count": null,
   "id": "efd0fc07-f36b-431b-8a7c-79bb83fd1bfc",
   "metadata": {},
   "outputs": [],
   "source": [
    "pd.set_option(\"display.max_rows\", 101) # in order to display all rows"
   ]
  },
  {
   "cell_type": "code",
   "execution_count": null,
   "id": "1900a646-506a-48d3-a249-6323f79e4319",
   "metadata": {},
   "outputs": [],
   "source": [
    "# set the parameters outside so I dont have to hardcode in the for loop \n",
    "# gets all posts from reddit in general \n",
    "# also set the before parameter with first created_utc found in initial call of the submissions \n",
    "\n",
    "url = 'https://api.pushshift.io/reddit/search/submission'\n",
    "subreddit = 'Nike'\n",
    "before = 1633216217\n",
    "\n",
    "df_list = []"
   ]
  },
  {
   "cell_type": "code",
   "execution_count": null,
   "id": "ec58af83-ed2a-427c-852f-a819ca764ada",
   "metadata": {},
   "outputs": [],
   "source": [
    "for _ in range (10):\n",
    "    params = {\n",
    "        'subreddit': subreddit, \n",
    "        'size': 100,\n",
    "        'before': before\n",
    "        }\n",
    "    res = requests.get(url, params= params)\n",
    "    data = res.json()\n",
    "    \n",
    "    before = data['data'][-1]['created_utc']\n",
    "    print(f'before updated to: {before}')\n",
    "    \n",
    "    post_df = pd.DataFrame(data['data'])\n",
    "    df_list.append(post_df)\n",
    "    \n",
    "    time.sleep(3)\n",
    "    \n",
    "nike_df = pd.concat(df_list)"
   ]
  },
  {
   "cell_type": "markdown",
   "id": "c99ab7bb-da59-499e-9ee9-477050d01fbb",
   "metadata": {},
   "source": [
    "### Looking at the data "
   ]
  },
  {
   "cell_type": "code",
   "execution_count": null,
   "id": "eb49e7ad-ea73-44d1-bea9-4877c3263286",
   "metadata": {},
   "outputs": [],
   "source": [
    "nike_df.head()"
   ]
  },
  {
   "cell_type": "code",
   "execution_count": null,
   "id": "dbcdbaba-9979-485e-89e7-1efb760ebced",
   "metadata": {},
   "outputs": [],
   "source": [
    "nike_df.shape"
   ]
  },
  {
   "cell_type": "code",
   "execution_count": null,
   "id": "f3418899-1e09-4679-b6ed-8faee7bf7b7a",
   "metadata": {},
   "outputs": [],
   "source": [
    "nike_df.columns"
   ]
  },
  {
   "cell_type": "code",
   "execution_count": null,
   "id": "520f7f34-5894-4b9b-bfbf-a8f56829531c",
   "metadata": {},
   "outputs": [],
   "source": [
    "nike_df.isnull().sum().sort_values(ascending=False)"
   ]
  },
  {
   "cell_type": "code",
   "execution_count": null,
   "id": "f956c2d1-1b5b-405e-92c5-f10d553d723c",
   "metadata": {},
   "outputs": [],
   "source": [
    "nike_df.dropna(thresh=999, axis=1, inplace=True)"
   ]
  },
  {
   "cell_type": "code",
   "execution_count": null,
   "id": "ba517fe9-ed67-4a63-a7cc-1c505868fb12",
   "metadata": {},
   "outputs": [],
   "source": [
    "nike_df.isnull().sum().sort_values(ascending=False)"
   ]
  },
  {
   "cell_type": "code",
   "execution_count": null,
   "id": "09d9d56d-419e-476d-85bf-7917405c30ca",
   "metadata": {},
   "outputs": [],
   "source": [
    "nike_df.shape"
   ]
  },
  {
   "cell_type": "markdown",
   "id": "020fed47-56b3-47ba-b4b0-bdead5e7104b",
   "metadata": {},
   "source": [
    "### Building the dataset "
   ]
  },
  {
   "cell_type": "code",
   "execution_count": null,
   "id": "b343cde3-57fc-4c41-80ad-750862fba151",
   "metadata": {},
   "outputs": [],
   "source": [
    "#pay attention to the subreddit, selftext, and title columns \n",
    "\n",
    "nike_df[['subreddit', 'selftext', 'title']].head()"
   ]
  },
  {
   "cell_type": "code",
   "execution_count": null,
   "id": "ccf6b255-4091-4b64-ba2a-de834bac8d27",
   "metadata": {},
   "outputs": [],
   "source": [
    "nike_df['title'].value_counts()"
   ]
  },
  {
   "cell_type": "markdown",
   "id": "8235f962-403a-4bb2-bd68-2215488eb7c9",
   "metadata": {},
   "source": [
    "### Tokenize the title variable  "
   ]
  },
  {
   "cell_type": "code",
   "execution_count": null,
   "id": "e6e12340-d881-461e-a265-989cf5821f73",
   "metadata": {},
   "outputs": [],
   "source": [
    "tokenizer = RegexpTokenizer(pattern=r'\\w+')\n",
    "\n",
    "nike_df['title_token'] = nike_df['title'].apply(lambda row: tokenizer.tokenize(row.lower()))\n",
    "\n",
    "nike_df.head()"
   ]
  },
  {
   "cell_type": "markdown",
   "id": "05cd2168-58f4-4575-8737-1ce347b86bb1",
   "metadata": {},
   "source": [
    "### Lemmatize the title variable "
   ]
  },
  {
   "cell_type": "code",
   "execution_count": null,
   "id": "1ec6e6f6-7bbc-4d2f-a2f4-afa510b710cc",
   "metadata": {},
   "outputs": [],
   "source": [
    "lemmatizer = WordNetLemmatizer()"
   ]
  },
  {
   "cell_type": "code",
   "execution_count": null,
   "id": "6783fd74-e0c4-4952-a862-2813ae2c29e3",
   "metadata": {},
   "outputs": [],
   "source": [
    "nike_df['title_token'].apply(lambda tokens: [lemmatizer.lemmatize(token) for token in tokens])"
   ]
  },
  {
   "cell_type": "markdown",
   "id": "98c77771-0137-41ed-b913-2c85c0619594",
   "metadata": {},
   "source": [
    "### Stem the title variable"
   ]
  },
  {
   "cell_type": "code",
   "execution_count": null,
   "id": "380bdd60-c88d-4a0a-a3f5-4d375cbedd08",
   "metadata": {},
   "outputs": [],
   "source": [
    "p_stemmer = PorterStemmer()"
   ]
  },
  {
   "cell_type": "code",
   "execution_count": null,
   "id": "a43cf91f-8836-49d1-8423-503b173edf0a",
   "metadata": {},
   "outputs": [],
   "source": [
    "nike_df['title_token'].apply(lambda tokens: [p_stemmer.stem(token) for token in tokens])"
   ]
  },
  {
   "cell_type": "markdown",
   "id": "e80000f2-de2b-421a-8b84-8eeedf86485b",
   "metadata": {},
   "source": [
    "### What the tokens would look like with no stop words"
   ]
  },
  {
   "cell_type": "code",
   "execution_count": null,
   "id": "097f25c9-9fdd-43ce-a8e5-a782b143e8e2",
   "metadata": {},
   "outputs": [],
   "source": [
    "eng_stopwords = stopwords.words('english')\n",
    "nike_df['title_token'].apply(lambda tokens: [token for token in tokens if token not in eng_stopwords])"
   ]
  },
  {
   "cell_type": "markdown",
   "id": "285786c4-be1a-45f9-9683-65d095bc052e",
   "metadata": {},
   "source": [
    "### Remerge the title tokens to have a \"stripped\" object to analyze "
   ]
  },
  {
   "cell_type": "code",
   "execution_count": null,
   "id": "45273dbe-4c7b-44ed-b41b-3a213d21f5f6",
   "metadata": {},
   "outputs": [],
   "source": [
    "nike_df['title_tokens_merged'] = nike_df['title_token'].apply(lambda token: ' '.join(token))"
   ]
  },
  {
   "cell_type": "markdown",
   "id": "9c0a796f-f073-47fb-9490-287e539c961e",
   "metadata": {},
   "source": [
    "### Build the final dataset for analysis"
   ]
  },
  {
   "cell_type": "code",
   "execution_count": null,
   "id": "3954aafb-5655-4e78-a2fc-7c8d11cf4a4c",
   "metadata": {},
   "outputs": [],
   "source": [
    "nike_df = nike_df[['title_token', 'title_tokens_merged', 'subreddit']]"
   ]
  },
  {
   "cell_type": "code",
   "execution_count": null,
   "id": "fe422540-743d-44d3-88f9-ef4659e36bfc",
   "metadata": {},
   "outputs": [],
   "source": [
    "nike_df"
   ]
  },
  {
   "cell_type": "markdown",
   "id": "a43a45e9-27a8-4358-b5f2-392cf0b81151",
   "metadata": {},
   "source": [
    "### Save the dataframe to a csv"
   ]
  },
  {
   "cell_type": "code",
   "execution_count": null,
   "id": "be101d76-4ee5-462e-bc6c-60c371c08ef1",
   "metadata": {},
   "outputs": [],
   "source": [
    "nike_df.to_csv('datasets/nike_data.csv', index=False)"
   ]
  },
  {
   "cell_type": "code",
   "execution_count": null,
   "id": "0b510457-2771-42ec-8f1c-277592d1e680",
   "metadata": {},
   "outputs": [],
   "source": []
  }
 ],
 "metadata": {
  "kernelspec": {
   "display_name": "Python 3 (ipykernel)",
   "language": "python",
   "name": "python3"
  },
  "language_info": {
   "codemirror_mode": {
    "name": "ipython",
    "version": 3
   },
   "file_extension": ".py",
   "mimetype": "text/x-python",
   "name": "python",
   "nbconvert_exporter": "python",
   "pygments_lexer": "ipython3",
   "version": "3.9.7"
  }
 },
 "nbformat": 4,
 "nbformat_minor": 5
}
