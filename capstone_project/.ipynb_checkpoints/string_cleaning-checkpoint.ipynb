{
 "cells": [
  {
   "cell_type": "markdown",
   "id": "947f194e-a4e3-4dbd-86cb-2eadf6014641",
   "metadata": {},
   "source": [
    "# String Variable Cleaning "
   ]
  },
  {
   "cell_type": "code",
   "execution_count": 1,
   "id": "90a3d3db-3fa8-4158-aaa7-a4b1f24b25b9",
   "metadata": {},
   "outputs": [],
   "source": [
    "import pandas as pd \n",
    "import numpy as np \n",
    "import matplotlib.pyplot as plt\n",
    "from nltk.tokenize import sent_tokenize, word_tokenize, RegexpTokenizer\n",
    "from nltk.stem import WordNetLemmatizer\n",
    "from nltk.stem.porter import PorterStemmer\n",
    "from nltk.corpus import stopwords"
   ]
  },
  {
   "cell_type": "code",
   "execution_count": 2,
   "id": "55bbd74b-53d7-43d1-ac1b-7381b895a396",
   "metadata": {},
   "outputs": [],
   "source": [
    "train = pd.read_csv('datasets/train_first_clean.csv')"
   ]
  },
  {
   "cell_type": "code",
   "execution_count": 3,
   "id": "aa2d049a-062b-4cc0-9690-6d294c97f6fe",
   "metadata": {},
   "outputs": [
    {
     "data": {
      "text/html": [
       "<div>\n",
       "<style scoped>\n",
       "    .dataframe tbody tr th:only-of-type {\n",
       "        vertical-align: middle;\n",
       "    }\n",
       "\n",
       "    .dataframe tbody tr th {\n",
       "        vertical-align: top;\n",
       "    }\n",
       "\n",
       "    .dataframe thead th {\n",
       "        text-align: right;\n",
       "    }\n",
       "</style>\n",
       "<table border=\"1\" class=\"dataframe\">\n",
       "  <thead>\n",
       "    <tr style=\"text-align: right;\">\n",
       "      <th></th>\n",
       "      <th>job_description</th>\n",
       "      <th>job_desig</th>\n",
       "      <th>key_skills</th>\n",
       "      <th>location</th>\n",
       "      <th>min_experience</th>\n",
       "      <th>max_experience</th>\n",
       "      <th>average_salary</th>\n",
       "    </tr>\n",
       "  </thead>\n",
       "  <tbody>\n",
       "    <tr>\n",
       "      <th>0</th>\n",
       "      <td>Exp: Minimum 5 years;Good understanding of IOC...</td>\n",
       "      <td>Senior Exploit and Vulnerability Researcher</td>\n",
       "      <td>team skills, communication skills, analytical ...</td>\n",
       "      <td>Delhi NCR(Vikas Puri)</td>\n",
       "      <td>5</td>\n",
       "      <td>7</td>\n",
       "      <td>11.0</td>\n",
       "    </tr>\n",
       "    <tr>\n",
       "      <th>1</th>\n",
       "      <td>He should have handled a team of atleast 5-6 d...</td>\n",
       "      <td>Head SCM</td>\n",
       "      <td>ppc, logistics, inventory management, supply c...</td>\n",
       "      <td>Sonepat</td>\n",
       "      <td>10</td>\n",
       "      <td>17</td>\n",
       "      <td>17.5</td>\n",
       "    </tr>\n",
       "    <tr>\n",
       "      <th>2</th>\n",
       "      <td>Must be an effective communicator (written &amp; s...</td>\n",
       "      <td>Deputy Manager - Talent Management &amp; Leadershi...</td>\n",
       "      <td>HR Analytics, Employee Engagement, Training, S...</td>\n",
       "      <td>Delhi NCR</td>\n",
       "      <td>5</td>\n",
       "      <td>9</td>\n",
       "      <td>27.5</td>\n",
       "    </tr>\n",
       "    <tr>\n",
       "      <th>3</th>\n",
       "      <td>7  -  10 years of overall experience in data e...</td>\n",
       "      <td>Associate Manager Data Engineering</td>\n",
       "      <td>SQL, Javascript, Automation, Python, Ruby, Ana...</td>\n",
       "      <td>Bengaluru</td>\n",
       "      <td>7</td>\n",
       "      <td>10</td>\n",
       "      <td>17.5</td>\n",
       "    </tr>\n",
       "    <tr>\n",
       "      <th>4</th>\n",
       "      <td>Chartered Accountancy degree or MBA in Finance...</td>\n",
       "      <td>TS- GSA- Senior Analyst</td>\n",
       "      <td>accounting, finance, cash flow, financial plan...</td>\n",
       "      <td>Gurgaon</td>\n",
       "      <td>1</td>\n",
       "      <td>3</td>\n",
       "      <td>6.0</td>\n",
       "    </tr>\n",
       "  </tbody>\n",
       "</table>\n",
       "</div>"
      ],
      "text/plain": [
       "                                     job_description  \\\n",
       "0  Exp: Minimum 5 years;Good understanding of IOC...   \n",
       "1  He should have handled a team of atleast 5-6 d...   \n",
       "2  Must be an effective communicator (written & s...   \n",
       "3  7  -  10 years of overall experience in data e...   \n",
       "4  Chartered Accountancy degree or MBA in Finance...   \n",
       "\n",
       "                                           job_desig  \\\n",
       "0        Senior Exploit and Vulnerability Researcher   \n",
       "1                                           Head SCM   \n",
       "2  Deputy Manager - Talent Management & Leadershi...   \n",
       "3                 Associate Manager Data Engineering   \n",
       "4                            TS- GSA- Senior Analyst   \n",
       "\n",
       "                                          key_skills               location  \\\n",
       "0  team skills, communication skills, analytical ...  Delhi NCR(Vikas Puri)   \n",
       "1  ppc, logistics, inventory management, supply c...                Sonepat   \n",
       "2  HR Analytics, Employee Engagement, Training, S...              Delhi NCR   \n",
       "3  SQL, Javascript, Automation, Python, Ruby, Ana...              Bengaluru   \n",
       "4  accounting, finance, cash flow, financial plan...                Gurgaon   \n",
       "\n",
       "   min_experience  max_experience  average_salary  \n",
       "0               5               7            11.0  \n",
       "1              10              17            17.5  \n",
       "2               5               9            27.5  \n",
       "3               7              10            17.5  \n",
       "4               1               3             6.0  "
      ]
     },
     "execution_count": 3,
     "metadata": {},
     "output_type": "execute_result"
    }
   ],
   "source": [
    "train.head()"
   ]
  },
  {
   "cell_type": "markdown",
   "id": "02f77dac-a6fd-4c7b-8daa-996c5adce368",
   "metadata": {},
   "source": [
    "### I won't touch the key_skills column as there are only key words and symbols mean something "
   ]
  },
  {
   "cell_type": "code",
   "execution_count": 4,
   "id": "8c874936-8c89-483d-92a4-2acd75b036ba",
   "metadata": {},
   "outputs": [
    {
     "data": {
      "text/plain": [
       "0        team skills, communication skills, analytical ...\n",
       "1        ppc, logistics, inventory management, supply c...\n",
       "2        HR Analytics, Employee Engagement, Training, S...\n",
       "3        SQL, Javascript, Automation, Python, Ruby, Ana...\n",
       "4        accounting, finance, cash flow, financial plan...\n",
       "                               ...                        \n",
       "19796    Medical Coding, ICD - 10, US Healthcare, RCM, ...\n",
       "19797    offline, online, part time, home base, work fr...\n",
       "19798    SQL Server, VB.NET, C#, .Net, C#.Net, Oracle S...\n",
       "19799    accounting, internal audit, auditing, risk adv...\n",
       "19800    IOS, XCode, Apple, Version Control, Perforce, ...\n",
       "Name: key_skills, Length: 19801, dtype: object"
      ]
     },
     "execution_count": 4,
     "metadata": {},
     "output_type": "execute_result"
    }
   ],
   "source": [
    "train['key_skills']"
   ]
  },
  {
   "cell_type": "markdown",
   "id": "a8a1ec61-a79e-48bf-b787-28a47be76288",
   "metadata": {},
   "source": [
    "### Same with the job_desig variable "
   ]
  },
  {
   "cell_type": "code",
   "execution_count": 5,
   "id": "c5d849e1-6661-4fa5-b577-914dabb60126",
   "metadata": {},
   "outputs": [
    {
     "data": {
      "text/plain": [
       "0              Senior Exploit and Vulnerability Researcher\n",
       "1                                                 Head SCM\n",
       "2        Deputy Manager - Talent Management & Leadershi...\n",
       "3                       Associate Manager Data Engineering\n",
       "4                                  TS- GSA- Senior Analyst\n",
       "                               ...                        \n",
       "19796                    Director, Medical Coding Training\n",
       "19797        Looking For Freshers WHO WANT To Work WITH US\n",
       "19798            PM- C#/ .Net ( Annuity/ Insurance Domain)\n",
       "19799                          Consultant - Internal Audit\n",
       "19800        Unity 3D Developer - Mobile Games Development\n",
       "Name: job_desig, Length: 19801, dtype: object"
      ]
     },
     "execution_count": 5,
     "metadata": {},
     "output_type": "execute_result"
    }
   ],
   "source": [
    "train['job_desig']"
   ]
  },
  {
   "cell_type": "markdown",
   "id": "cb19548b-2637-418a-a80d-aae80dab653f",
   "metadata": {
    "tags": []
   },
   "source": [
    "### I will manipulate the job_description variable with Tokenizer, Lemmatizer, and PortStemmer "
   ]
  },
  {
   "cell_type": "code",
   "execution_count": 6,
   "id": "59c38d4e-5714-42a3-949f-07b658ad2c2a",
   "metadata": {},
   "outputs": [],
   "source": [
    "tokenizer = RegexpTokenizer(pattern=r'\\w+')"
   ]
  },
  {
   "cell_type": "code",
   "execution_count": 7,
   "id": "1f6be803-1b9a-49e0-ba5d-f97cc9f28bf8",
   "metadata": {},
   "outputs": [],
   "source": [
    "train['job_description_tokens'] = train['job_description'].apply(lambda row: tokenizer.tokenize(row.lower()))"
   ]
  },
  {
   "cell_type": "code",
   "execution_count": 8,
   "id": "533af4ad-34dc-4034-a0a0-8f3eb600fbfc",
   "metadata": {},
   "outputs": [],
   "source": [
    "lemmatizer = WordNetLemmatizer()"
   ]
  },
  {
   "cell_type": "code",
   "execution_count": 9,
   "id": "bd0f8936-9ffb-4185-b10a-90278d539a13",
   "metadata": {},
   "outputs": [],
   "source": [
    "train['job_description_tokens'] = train['job_description_tokens'].apply(lambda tokens: [lemmatizer.lemmatize(token) for token in tokens])"
   ]
  },
  {
   "cell_type": "markdown",
   "id": "6e4330e5-18aa-4ba9-8b62-6eba2653387e",
   "metadata": {},
   "source": [
    "### PortStemmer is altering the data incorrectly, it's shortening certain words, etc. so I will not save the changes"
   ]
  },
  {
   "cell_type": "code",
   "execution_count": 10,
   "id": "4b46fece-fc21-45ab-a545-c2efe08f92a9",
   "metadata": {},
   "outputs": [],
   "source": [
    "p_stemmer = PorterStemmer()"
   ]
  },
  {
   "cell_type": "code",
   "execution_count": 11,
   "id": "54aed8ae-31f5-4b79-b896-cf6b1379cb2c",
   "metadata": {},
   "outputs": [
    {
     "data": {
      "text/plain": [
       "0        [exp, minimum, 5, year, good, understand, of, ...\n",
       "1        [he, should, have, handl, a, team, of, atleast...\n",
       "2        [must, be, an, effect, commun, written, spoken...\n",
       "3        [7, 10, year, of, overal, experi, in, data, en...\n",
       "4        [charter, account, degre, or, mba, in, financ,...\n",
       "                               ...                        \n",
       "19796                                        [not_specifi]\n",
       "19797                                        [not_specifi]\n",
       "19798    [annuiti, domain, experi, is, mandatori, work,...\n",
       "19799    [by, plug, into, our, market, lead, global, ne...\n",
       "19800    [3, 5, year, experi, with, the, end, to, end, ...\n",
       "Name: job_description_tokens, Length: 19801, dtype: object"
      ]
     },
     "execution_count": 11,
     "metadata": {},
     "output_type": "execute_result"
    }
   ],
   "source": [
    "train['job_description_tokens'].apply(lambda tokens: [p_stemmer.stem(token) for token in tokens])"
   ]
  },
  {
   "cell_type": "markdown",
   "id": "40162b3c-384a-4e61-938b-3c5b5d6c1e2a",
   "metadata": {},
   "source": [
    "### Let's see the data without stopwords "
   ]
  },
  {
   "cell_type": "code",
   "execution_count": 12,
   "id": "4db40124-228d-4745-bc64-f09790ccd358",
   "metadata": {},
   "outputs": [
    {
     "data": {
      "text/plain": [
       "0        [exp, minimum, 5, year, good, understanding, i...\n",
       "1        [handled, team, atleast, 5, 6, direct, reporte...\n",
       "2        [must, effective, communicator, written, spoke...\n",
       "3        [7, 10, year, overall, experience, data, engin...\n",
       "4        [chartered, accountancy, degree, mba, finance,...\n",
       "                               ...                        \n",
       "19796                                      [not_specified]\n",
       "19797                                      [not_specified]\n",
       "19798    [annuity, domain, experience, mandatory, work,...\n",
       "19799    [plugging, market, leading, global, network, y...\n",
       "19800    [3, 5, year, experience, end, end, process, cr...\n",
       "Name: job_description_tokens, Length: 19801, dtype: object"
      ]
     },
     "execution_count": 12,
     "metadata": {},
     "output_type": "execute_result"
    }
   ],
   "source": [
    "eng_stopwords = stopwords.words('english')\n",
    "train['job_description_tokens'].apply(lambda tokens: [token for token in tokens if token not in eng_stopwords])"
   ]
  },
  {
   "cell_type": "code",
   "execution_count": 13,
   "id": "3af0b4c3-6d00-4bfb-ba45-8c3e64140bfb",
   "metadata": {},
   "outputs": [],
   "source": [
    "train['job_description'] = train['job_description_tokens'].apply(lambda token: ' '.join(token))"
   ]
  },
  {
   "cell_type": "code",
   "execution_count": 14,
   "id": "8bbc074e-3b0d-4953-bf67-cc0fa6fde2cb",
   "metadata": {},
   "outputs": [
    {
     "data": {
      "text/html": [
       "<div>\n",
       "<style scoped>\n",
       "    .dataframe tbody tr th:only-of-type {\n",
       "        vertical-align: middle;\n",
       "    }\n",
       "\n",
       "    .dataframe tbody tr th {\n",
       "        vertical-align: top;\n",
       "    }\n",
       "\n",
       "    .dataframe thead th {\n",
       "        text-align: right;\n",
       "    }\n",
       "</style>\n",
       "<table border=\"1\" class=\"dataframe\">\n",
       "  <thead>\n",
       "    <tr style=\"text-align: right;\">\n",
       "      <th></th>\n",
       "      <th>job_description</th>\n",
       "      <th>job_desig</th>\n",
       "      <th>key_skills</th>\n",
       "      <th>location</th>\n",
       "      <th>min_experience</th>\n",
       "      <th>max_experience</th>\n",
       "      <th>average_salary</th>\n",
       "      <th>job_description_tokens</th>\n",
       "    </tr>\n",
       "  </thead>\n",
       "  <tbody>\n",
       "    <tr>\n",
       "      <th>0</th>\n",
       "      <td>exp minimum 5 year good understanding of ioc r...</td>\n",
       "      <td>Senior Exploit and Vulnerability Researcher</td>\n",
       "      <td>team skills, communication skills, analytical ...</td>\n",
       "      <td>Delhi NCR(Vikas Puri)</td>\n",
       "      <td>5</td>\n",
       "      <td>7</td>\n",
       "      <td>11.0</td>\n",
       "      <td>[exp, minimum, 5, year, good, understanding, o...</td>\n",
       "    </tr>\n",
       "    <tr>\n",
       "      <th>1</th>\n",
       "      <td>he should have handled a team of atleast 5 6 d...</td>\n",
       "      <td>Head SCM</td>\n",
       "      <td>ppc, logistics, inventory management, supply c...</td>\n",
       "      <td>Sonepat</td>\n",
       "      <td>10</td>\n",
       "      <td>17</td>\n",
       "      <td>17.5</td>\n",
       "      <td>[he, should, have, handled, a, team, of, atlea...</td>\n",
       "    </tr>\n",
       "    <tr>\n",
       "      <th>2</th>\n",
       "      <td>must be an effective communicator written spok...</td>\n",
       "      <td>Deputy Manager - Talent Management &amp; Leadershi...</td>\n",
       "      <td>HR Analytics, Employee Engagement, Training, S...</td>\n",
       "      <td>Delhi NCR</td>\n",
       "      <td>5</td>\n",
       "      <td>9</td>\n",
       "      <td>27.5</td>\n",
       "      <td>[must, be, an, effective, communicator, writte...</td>\n",
       "    </tr>\n",
       "    <tr>\n",
       "      <th>3</th>\n",
       "      <td>7 10 year of overall experience in data engine...</td>\n",
       "      <td>Associate Manager Data Engineering</td>\n",
       "      <td>SQL, Javascript, Automation, Python, Ruby, Ana...</td>\n",
       "      <td>Bengaluru</td>\n",
       "      <td>7</td>\n",
       "      <td>10</td>\n",
       "      <td>17.5</td>\n",
       "      <td>[7, 10, year, of, overall, experience, in, dat...</td>\n",
       "    </tr>\n",
       "    <tr>\n",
       "      <th>4</th>\n",
       "      <td>chartered accountancy degree or mba in finance...</td>\n",
       "      <td>TS- GSA- Senior Analyst</td>\n",
       "      <td>accounting, finance, cash flow, financial plan...</td>\n",
       "      <td>Gurgaon</td>\n",
       "      <td>1</td>\n",
       "      <td>3</td>\n",
       "      <td>6.0</td>\n",
       "      <td>[chartered, accountancy, degree, or, mba, in, ...</td>\n",
       "    </tr>\n",
       "  </tbody>\n",
       "</table>\n",
       "</div>"
      ],
      "text/plain": [
       "                                     job_description  \\\n",
       "0  exp minimum 5 year good understanding of ioc r...   \n",
       "1  he should have handled a team of atleast 5 6 d...   \n",
       "2  must be an effective communicator written spok...   \n",
       "3  7 10 year of overall experience in data engine...   \n",
       "4  chartered accountancy degree or mba in finance...   \n",
       "\n",
       "                                           job_desig  \\\n",
       "0        Senior Exploit and Vulnerability Researcher   \n",
       "1                                           Head SCM   \n",
       "2  Deputy Manager - Talent Management & Leadershi...   \n",
       "3                 Associate Manager Data Engineering   \n",
       "4                            TS- GSA- Senior Analyst   \n",
       "\n",
       "                                          key_skills               location  \\\n",
       "0  team skills, communication skills, analytical ...  Delhi NCR(Vikas Puri)   \n",
       "1  ppc, logistics, inventory management, supply c...                Sonepat   \n",
       "2  HR Analytics, Employee Engagement, Training, S...              Delhi NCR   \n",
       "3  SQL, Javascript, Automation, Python, Ruby, Ana...              Bengaluru   \n",
       "4  accounting, finance, cash flow, financial plan...                Gurgaon   \n",
       "\n",
       "   min_experience  max_experience  average_salary  \\\n",
       "0               5               7            11.0   \n",
       "1              10              17            17.5   \n",
       "2               5               9            27.5   \n",
       "3               7              10            17.5   \n",
       "4               1               3             6.0   \n",
       "\n",
       "                              job_description_tokens  \n",
       "0  [exp, minimum, 5, year, good, understanding, o...  \n",
       "1  [he, should, have, handled, a, team, of, atlea...  \n",
       "2  [must, be, an, effective, communicator, writte...  \n",
       "3  [7, 10, year, of, overall, experience, in, dat...  \n",
       "4  [chartered, accountancy, degree, or, mba, in, ...  "
      ]
     },
     "execution_count": 14,
     "metadata": {},
     "output_type": "execute_result"
    }
   ],
   "source": [
    "train.head()"
   ]
  },
  {
   "cell_type": "code",
   "execution_count": 15,
   "id": "fbd410a9-c630-4299-8806-3375355a7c8a",
   "metadata": {},
   "outputs": [],
   "source": [
    "train.drop(columns={'job_description_tokens'}, inplace=True)"
   ]
  },
  {
   "cell_type": "code",
   "execution_count": 16,
   "id": "d32c9518-6088-4d03-90f9-9afdb26d53ee",
   "metadata": {},
   "outputs": [
    {
     "data": {
      "text/html": [
       "<div>\n",
       "<style scoped>\n",
       "    .dataframe tbody tr th:only-of-type {\n",
       "        vertical-align: middle;\n",
       "    }\n",
       "\n",
       "    .dataframe tbody tr th {\n",
       "        vertical-align: top;\n",
       "    }\n",
       "\n",
       "    .dataframe thead th {\n",
       "        text-align: right;\n",
       "    }\n",
       "</style>\n",
       "<table border=\"1\" class=\"dataframe\">\n",
       "  <thead>\n",
       "    <tr style=\"text-align: right;\">\n",
       "      <th></th>\n",
       "      <th>job_description</th>\n",
       "      <th>job_desig</th>\n",
       "      <th>key_skills</th>\n",
       "      <th>location</th>\n",
       "      <th>min_experience</th>\n",
       "      <th>max_experience</th>\n",
       "      <th>average_salary</th>\n",
       "    </tr>\n",
       "  </thead>\n",
       "  <tbody>\n",
       "    <tr>\n",
       "      <th>0</th>\n",
       "      <td>exp minimum 5 year good understanding of ioc r...</td>\n",
       "      <td>Senior Exploit and Vulnerability Researcher</td>\n",
       "      <td>team skills, communication skills, analytical ...</td>\n",
       "      <td>Delhi NCR(Vikas Puri)</td>\n",
       "      <td>5</td>\n",
       "      <td>7</td>\n",
       "      <td>11.0</td>\n",
       "    </tr>\n",
       "    <tr>\n",
       "      <th>1</th>\n",
       "      <td>he should have handled a team of atleast 5 6 d...</td>\n",
       "      <td>Head SCM</td>\n",
       "      <td>ppc, logistics, inventory management, supply c...</td>\n",
       "      <td>Sonepat</td>\n",
       "      <td>10</td>\n",
       "      <td>17</td>\n",
       "      <td>17.5</td>\n",
       "    </tr>\n",
       "    <tr>\n",
       "      <th>2</th>\n",
       "      <td>must be an effective communicator written spok...</td>\n",
       "      <td>Deputy Manager - Talent Management &amp; Leadershi...</td>\n",
       "      <td>HR Analytics, Employee Engagement, Training, S...</td>\n",
       "      <td>Delhi NCR</td>\n",
       "      <td>5</td>\n",
       "      <td>9</td>\n",
       "      <td>27.5</td>\n",
       "    </tr>\n",
       "    <tr>\n",
       "      <th>3</th>\n",
       "      <td>7 10 year of overall experience in data engine...</td>\n",
       "      <td>Associate Manager Data Engineering</td>\n",
       "      <td>SQL, Javascript, Automation, Python, Ruby, Ana...</td>\n",
       "      <td>Bengaluru</td>\n",
       "      <td>7</td>\n",
       "      <td>10</td>\n",
       "      <td>17.5</td>\n",
       "    </tr>\n",
       "    <tr>\n",
       "      <th>4</th>\n",
       "      <td>chartered accountancy degree or mba in finance...</td>\n",
       "      <td>TS- GSA- Senior Analyst</td>\n",
       "      <td>accounting, finance, cash flow, financial plan...</td>\n",
       "      <td>Gurgaon</td>\n",
       "      <td>1</td>\n",
       "      <td>3</td>\n",
       "      <td>6.0</td>\n",
       "    </tr>\n",
       "  </tbody>\n",
       "</table>\n",
       "</div>"
      ],
      "text/plain": [
       "                                     job_description  \\\n",
       "0  exp minimum 5 year good understanding of ioc r...   \n",
       "1  he should have handled a team of atleast 5 6 d...   \n",
       "2  must be an effective communicator written spok...   \n",
       "3  7 10 year of overall experience in data engine...   \n",
       "4  chartered accountancy degree or mba in finance...   \n",
       "\n",
       "                                           job_desig  \\\n",
       "0        Senior Exploit and Vulnerability Researcher   \n",
       "1                                           Head SCM   \n",
       "2  Deputy Manager - Talent Management & Leadershi...   \n",
       "3                 Associate Manager Data Engineering   \n",
       "4                            TS- GSA- Senior Analyst   \n",
       "\n",
       "                                          key_skills               location  \\\n",
       "0  team skills, communication skills, analytical ...  Delhi NCR(Vikas Puri)   \n",
       "1  ppc, logistics, inventory management, supply c...                Sonepat   \n",
       "2  HR Analytics, Employee Engagement, Training, S...              Delhi NCR   \n",
       "3  SQL, Javascript, Automation, Python, Ruby, Ana...              Bengaluru   \n",
       "4  accounting, finance, cash flow, financial plan...                Gurgaon   \n",
       "\n",
       "   min_experience  max_experience  average_salary  \n",
       "0               5               7            11.0  \n",
       "1              10              17            17.5  \n",
       "2               5               9            27.5  \n",
       "3               7              10            17.5  \n",
       "4               1               3             6.0  "
      ]
     },
     "execution_count": 16,
     "metadata": {},
     "output_type": "execute_result"
    }
   ],
   "source": [
    "train.head()"
   ]
  },
  {
   "cell_type": "code",
   "execution_count": 17,
   "id": "3c8bf99d-08a4-4127-accc-cd8351088df5",
   "metadata": {},
   "outputs": [],
   "source": [
    "train.to_csv('datasets/train_cleaned.csv', index=False)"
   ]
  }
 ],
 "metadata": {
  "kernelspec": {
   "display_name": "Python 3 (ipykernel)",
   "language": "python",
   "name": "python3"
  },
  "language_info": {
   "codemirror_mode": {
    "name": "ipython",
    "version": 3
   },
   "file_extension": ".py",
   "mimetype": "text/x-python",
   "name": "python",
   "nbconvert_exporter": "python",
   "pygments_lexer": "ipython3",
   "version": "3.9.7"
  }
 },
 "nbformat": 4,
 "nbformat_minor": 5
}
