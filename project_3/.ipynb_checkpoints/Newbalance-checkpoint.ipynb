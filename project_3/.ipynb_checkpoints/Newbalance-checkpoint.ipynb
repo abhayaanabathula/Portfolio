{
 "cells": [
  {
   "cell_type": "markdown",
   "id": "5365328f-e552-4d6d-b5ef-6888fe87205f",
   "metadata": {},
   "source": [
    "# Getting the New Balance data from the reddit subreddit r/Newbalance "
   ]
  },
  {
   "cell_type": "code",
   "execution_count": 1,
   "id": "8afad6d6-71a4-471c-844a-18c1123006d6",
   "metadata": {},
   "outputs": [],
   "source": [
    "import requests \n",
    "import time \n",
    "import pandas as pd\n",
    "from nltk.tokenize import sent_tokenize, word_tokenize, RegexpTokenizer\n",
    "from nltk.stem import WordNetLemmatizer\n",
    "from nltk.stem.porter import PorterStemmer\n",
    "from nltk.corpus import stopwords"
   ]
  },
  {
   "cell_type": "code",
   "execution_count": 2,
   "id": "efd0fc07-f36b-431b-8a7c-79bb83fd1bfc",
   "metadata": {},
   "outputs": [],
   "source": [
    "pd.set_option(\"display.max_rows\", 101) # in order to display all rows"
   ]
  },
  {
   "cell_type": "code",
   "execution_count": 3,
   "id": "1900a646-506a-48d3-a249-6323f79e4319",
   "metadata": {},
   "outputs": [],
   "source": [
    "# set the parameters outside so I dont have to hardcode in the for loop \n",
    "# gets all posts from reddit in general \n",
    "# also set the before parameter with first created_utc found in initial call of the submissions \n",
    "\n",
    "url = 'https://api.pushshift.io/reddit/search/submission'\n",
    "subreddit = 'Newbalance'\n",
    "before = 1632441624\n",
    "\n",
    "df_list = []"
   ]
  },
  {
   "cell_type": "code",
   "execution_count": 4,
   "id": "ec58af83-ed2a-427c-852f-a819ca764ada",
   "metadata": {},
   "outputs": [
    {
     "name": "stdout",
     "output_type": "stream",
     "text": [
      "before updated to: 1632017350\n",
      "before updated to: 1631567058\n",
      "before updated to: 1631235730\n",
      "before updated to: 1630866406\n",
      "before updated to: 1630429936\n",
      "before updated to: 1629987131\n",
      "before updated to: 1629480585\n",
      "before updated to: 1629201691\n",
      "before updated to: 1628732055\n",
      "before updated to: 1628362599\n"
     ]
    }
   ],
   "source": [
    "for _ in range (10):\n",
    "    params = {\n",
    "        'subreddit': subreddit, \n",
    "        'size': 100,\n",
    "        'before': before\n",
    "        }\n",
    "    res = requests.get(url, params= params)\n",
    "    data = res.json()\n",
    "    \n",
    "    before = data['data'][-1]['created_utc']\n",
    "    print(f'before updated to: {before}')\n",
    "    \n",
    "    post_df = pd.DataFrame(data['data'])\n",
    "    df_list.append(post_df)\n",
    "    \n",
    "    time.sleep(3)\n",
    "    \n",
    "newbalance_df = pd.concat(df_list)"
   ]
  },
  {
   "cell_type": "markdown",
   "id": "8394ca29-b09e-472a-9a1b-4e9c00671149",
   "metadata": {},
   "source": [
    "### Looking at the data "
   ]
  },
  {
   "cell_type": "code",
   "execution_count": 5,
   "id": "eb49e7ad-ea73-44d1-bea9-4877c3263286",
   "metadata": {},
   "outputs": [
    {
     "data": {
      "text/html": [
       "<div>\n",
       "<style scoped>\n",
       "    .dataframe tbody tr th:only-of-type {\n",
       "        vertical-align: middle;\n",
       "    }\n",
       "\n",
       "    .dataframe tbody tr th {\n",
       "        vertical-align: top;\n",
       "    }\n",
       "\n",
       "    .dataframe thead th {\n",
       "        text-align: right;\n",
       "    }\n",
       "</style>\n",
       "<table border=\"1\" class=\"dataframe\">\n",
       "  <thead>\n",
       "    <tr style=\"text-align: right;\">\n",
       "      <th></th>\n",
       "      <th>all_awardings</th>\n",
       "      <th>allow_live_comments</th>\n",
       "      <th>author</th>\n",
       "      <th>author_flair_css_class</th>\n",
       "      <th>author_flair_richtext</th>\n",
       "      <th>author_flair_text</th>\n",
       "      <th>author_flair_type</th>\n",
       "      <th>author_fullname</th>\n",
       "      <th>author_is_blocked</th>\n",
       "      <th>author_patreon_flair</th>\n",
       "      <th>...</th>\n",
       "      <th>removed_by_category</th>\n",
       "      <th>media</th>\n",
       "      <th>media_embed</th>\n",
       "      <th>secure_media</th>\n",
       "      <th>secure_media_embed</th>\n",
       "      <th>author_cakeday</th>\n",
       "      <th>crosspost_parent</th>\n",
       "      <th>crosspost_parent_list</th>\n",
       "      <th>author_flair_background_color</th>\n",
       "      <th>author_flair_text_color</th>\n",
       "    </tr>\n",
       "  </thead>\n",
       "  <tbody>\n",
       "    <tr>\n",
       "      <th>0</th>\n",
       "      <td>[]</td>\n",
       "      <td>False</td>\n",
       "      <td>frogmicky</td>\n",
       "      <td>None</td>\n",
       "      <td>[]</td>\n",
       "      <td>None</td>\n",
       "      <td>text</td>\n",
       "      <td>t2_13xjy6</td>\n",
       "      <td>False</td>\n",
       "      <td>False</td>\n",
       "      <td>...</td>\n",
       "      <td>NaN</td>\n",
       "      <td>NaN</td>\n",
       "      <td>NaN</td>\n",
       "      <td>NaN</td>\n",
       "      <td>NaN</td>\n",
       "      <td>NaN</td>\n",
       "      <td>NaN</td>\n",
       "      <td>NaN</td>\n",
       "      <td>NaN</td>\n",
       "      <td>NaN</td>\n",
       "    </tr>\n",
       "    <tr>\n",
       "      <th>1</th>\n",
       "      <td>[]</td>\n",
       "      <td>False</td>\n",
       "      <td>theillones</td>\n",
       "      <td>None</td>\n",
       "      <td>[]</td>\n",
       "      <td>None</td>\n",
       "      <td>text</td>\n",
       "      <td>t2_7qn37z9o</td>\n",
       "      <td>False</td>\n",
       "      <td>False</td>\n",
       "      <td>...</td>\n",
       "      <td>NaN</td>\n",
       "      <td>NaN</td>\n",
       "      <td>NaN</td>\n",
       "      <td>NaN</td>\n",
       "      <td>NaN</td>\n",
       "      <td>NaN</td>\n",
       "      <td>NaN</td>\n",
       "      <td>NaN</td>\n",
       "      <td>NaN</td>\n",
       "      <td>NaN</td>\n",
       "    </tr>\n",
       "    <tr>\n",
       "      <th>2</th>\n",
       "      <td>[]</td>\n",
       "      <td>False</td>\n",
       "      <td>theillones</td>\n",
       "      <td>None</td>\n",
       "      <td>[]</td>\n",
       "      <td>None</td>\n",
       "      <td>text</td>\n",
       "      <td>t2_7qn37z9o</td>\n",
       "      <td>False</td>\n",
       "      <td>False</td>\n",
       "      <td>...</td>\n",
       "      <td>NaN</td>\n",
       "      <td>NaN</td>\n",
       "      <td>NaN</td>\n",
       "      <td>NaN</td>\n",
       "      <td>NaN</td>\n",
       "      <td>NaN</td>\n",
       "      <td>NaN</td>\n",
       "      <td>NaN</td>\n",
       "      <td>NaN</td>\n",
       "      <td>NaN</td>\n",
       "    </tr>\n",
       "    <tr>\n",
       "      <th>3</th>\n",
       "      <td>[]</td>\n",
       "      <td>False</td>\n",
       "      <td>theillones</td>\n",
       "      <td>None</td>\n",
       "      <td>[]</td>\n",
       "      <td>None</td>\n",
       "      <td>text</td>\n",
       "      <td>t2_7qn37z9o</td>\n",
       "      <td>False</td>\n",
       "      <td>False</td>\n",
       "      <td>...</td>\n",
       "      <td>NaN</td>\n",
       "      <td>NaN</td>\n",
       "      <td>NaN</td>\n",
       "      <td>NaN</td>\n",
       "      <td>NaN</td>\n",
       "      <td>NaN</td>\n",
       "      <td>NaN</td>\n",
       "      <td>NaN</td>\n",
       "      <td>NaN</td>\n",
       "      <td>NaN</td>\n",
       "    </tr>\n",
       "    <tr>\n",
       "      <th>4</th>\n",
       "      <td>[]</td>\n",
       "      <td>False</td>\n",
       "      <td>sjale49</td>\n",
       "      <td>None</td>\n",
       "      <td>[]</td>\n",
       "      <td>None</td>\n",
       "      <td>text</td>\n",
       "      <td>t2_7s0vs32j</td>\n",
       "      <td>False</td>\n",
       "      <td>False</td>\n",
       "      <td>...</td>\n",
       "      <td>NaN</td>\n",
       "      <td>NaN</td>\n",
       "      <td>NaN</td>\n",
       "      <td>NaN</td>\n",
       "      <td>NaN</td>\n",
       "      <td>NaN</td>\n",
       "      <td>NaN</td>\n",
       "      <td>NaN</td>\n",
       "      <td>NaN</td>\n",
       "      <td>NaN</td>\n",
       "    </tr>\n",
       "  </tbody>\n",
       "</table>\n",
       "<p>5 rows × 78 columns</p>\n",
       "</div>"
      ],
      "text/plain": [
       "  all_awardings  allow_live_comments      author author_flair_css_class  \\\n",
       "0            []                False   frogmicky                   None   \n",
       "1            []                False  theillones                   None   \n",
       "2            []                False  theillones                   None   \n",
       "3            []                False  theillones                   None   \n",
       "4            []                False     sjale49                   None   \n",
       "\n",
       "  author_flair_richtext author_flair_text author_flair_type author_fullname  \\\n",
       "0                    []              None              text       t2_13xjy6   \n",
       "1                    []              None              text     t2_7qn37z9o   \n",
       "2                    []              None              text     t2_7qn37z9o   \n",
       "3                    []              None              text     t2_7qn37z9o   \n",
       "4                    []              None              text     t2_7s0vs32j   \n",
       "\n",
       "   author_is_blocked author_patreon_flair  ... removed_by_category media  \\\n",
       "0              False                False  ...                 NaN   NaN   \n",
       "1              False                False  ...                 NaN   NaN   \n",
       "2              False                False  ...                 NaN   NaN   \n",
       "3              False                False  ...                 NaN   NaN   \n",
       "4              False                False  ...                 NaN   NaN   \n",
       "\n",
       "   media_embed  secure_media  secure_media_embed author_cakeday  \\\n",
       "0          NaN           NaN                 NaN            NaN   \n",
       "1          NaN           NaN                 NaN            NaN   \n",
       "2          NaN           NaN                 NaN            NaN   \n",
       "3          NaN           NaN                 NaN            NaN   \n",
       "4          NaN           NaN                 NaN            NaN   \n",
       "\n",
       "  crosspost_parent crosspost_parent_list author_flair_background_color  \\\n",
       "0              NaN                   NaN                           NaN   \n",
       "1              NaN                   NaN                           NaN   \n",
       "2              NaN                   NaN                           NaN   \n",
       "3              NaN                   NaN                           NaN   \n",
       "4              NaN                   NaN                           NaN   \n",
       "\n",
       "   author_flair_text_color  \n",
       "0                      NaN  \n",
       "1                      NaN  \n",
       "2                      NaN  \n",
       "3                      NaN  \n",
       "4                      NaN  \n",
       "\n",
       "[5 rows x 78 columns]"
      ]
     },
     "execution_count": 5,
     "metadata": {},
     "output_type": "execute_result"
    }
   ],
   "source": [
    "newbalance_df.head()"
   ]
  },
  {
   "cell_type": "code",
   "execution_count": 6,
   "id": "dbcdbaba-9979-485e-89e7-1efb760ebced",
   "metadata": {},
   "outputs": [
    {
     "data": {
      "text/plain": [
       "(1000, 78)"
      ]
     },
     "execution_count": 6,
     "metadata": {},
     "output_type": "execute_result"
    }
   ],
   "source": [
    "newbalance_df.shape"
   ]
  },
  {
   "cell_type": "code",
   "execution_count": 7,
   "id": "f3418899-1e09-4679-b6ed-8faee7bf7b7a",
   "metadata": {},
   "outputs": [
    {
     "data": {
      "text/plain": [
       "Index(['all_awardings', 'allow_live_comments', 'author',\n",
       "       'author_flair_css_class', 'author_flair_richtext', 'author_flair_text',\n",
       "       'author_flair_type', 'author_fullname', 'author_is_blocked',\n",
       "       'author_patreon_flair', 'author_premium', 'awarders', 'can_mod_post',\n",
       "       'contest_mode', 'created_utc', 'domain', 'full_link', 'gildings', 'id',\n",
       "       'is_created_from_ads_ui', 'is_crosspostable', 'is_meta',\n",
       "       'is_original_content', 'is_reddit_media_domain', 'is_robot_indexable',\n",
       "       'is_self', 'is_video', 'link_flair_background_color',\n",
       "       'link_flair_richtext', 'link_flair_text_color', 'link_flair_type',\n",
       "       'locked', 'media_metadata', 'media_only', 'no_follow', 'num_comments',\n",
       "       'num_crossposts', 'over_18', 'parent_whitelist_status', 'permalink',\n",
       "       'pinned', 'pwls', 'retrieved_on', 'score', 'selftext', 'send_replies',\n",
       "       'spoiler', 'stickied', 'subreddit', 'subreddit_id',\n",
       "       'subreddit_subscribers', 'subreddit_type', 'thumbnail', 'title',\n",
       "       'total_awards_received', 'treatment_tags', 'upvote_ratio', 'url',\n",
       "       'whitelist_status', 'wls', 'gallery_data', 'is_gallery',\n",
       "       'thumbnail_height', 'thumbnail_width', 'url_overridden_by_dest',\n",
       "       'post_hint', 'preview', 'poll_data', 'removed_by_category', 'media',\n",
       "       'media_embed', 'secure_media', 'secure_media_embed', 'author_cakeday',\n",
       "       'crosspost_parent', 'crosspost_parent_list',\n",
       "       'author_flair_background_color', 'author_flair_text_color'],\n",
       "      dtype='object')"
      ]
     },
     "execution_count": 7,
     "metadata": {},
     "output_type": "execute_result"
    }
   ],
   "source": [
    "newbalance_df.columns"
   ]
  },
  {
   "cell_type": "code",
   "execution_count": 8,
   "id": "520f7f34-5894-4b9b-bfbf-a8f56829531c",
   "metadata": {},
   "outputs": [
    {
     "data": {
      "text/plain": [
       "author_flair_css_class           1000\n",
       "author_flair_text                1000\n",
       "author_cakeday                    997\n",
       "author_flair_text_color           995\n",
       "author_flair_background_color     995\n",
       "crosspost_parent_list             994\n",
       "crosspost_parent                  994\n",
       "media                             993\n",
       "secure_media_embed                993\n",
       "secure_media                      993\n",
       "media_embed                       993\n",
       "poll_data                         989\n",
       "removed_by_category               936\n",
       "gallery_data                      866\n",
       "media_metadata                    858\n",
       "is_gallery                        847\n",
       "preview                           455\n",
       "post_hint                         455\n",
       "thumbnail_height                  383\n",
       "thumbnail_width                   383\n",
       "url_overridden_by_dest            281\n",
       "author_flair_richtext               5\n",
       "author_patreon_flair                5\n",
       "author_fullname                     5\n",
       "author_flair_type                   5\n",
       "author_premium                      5\n",
       "thumbnail                           0\n",
       "send_replies                        0\n",
       "spoiler                             0\n",
       "stickied                            0\n",
       "subreddit                           0\n",
       "subreddit_id                        0\n",
       "subreddit_subscribers               0\n",
       "subreddit_type                      0\n",
       "score                               0\n",
       "title                               0\n",
       "total_awards_received               0\n",
       "treatment_tags                      0\n",
       "upvote_ratio                        0\n",
       "url                                 0\n",
       "whitelist_status                    0\n",
       "wls                                 0\n",
       "selftext                            0\n",
       "all_awardings                       0\n",
       "retrieved_on                        0\n",
       "full_link                           0\n",
       "is_original_content                 0\n",
       "is_meta                             0\n",
       "is_crosspostable                    0\n",
       "is_created_from_ads_ui              0\n",
       "id                                  0\n",
       "gildings                            0\n",
       "domain                              0\n",
       "pwls                                0\n",
       "created_utc                         0\n",
       "contest_mode                        0\n",
       "can_mod_post                        0\n",
       "awarders                            0\n",
       "author_is_blocked                   0\n",
       "author                              0\n",
       "is_reddit_media_domain              0\n",
       "is_robot_indexable                  0\n",
       "is_self                             0\n",
       "is_video                            0\n",
       "link_flair_background_color         0\n",
       "link_flair_richtext                 0\n",
       "link_flair_text_color               0\n",
       "link_flair_type                     0\n",
       "locked                              0\n",
       "media_only                          0\n",
       "no_follow                           0\n",
       "num_comments                        0\n",
       "num_crossposts                      0\n",
       "over_18                             0\n",
       "parent_whitelist_status             0\n",
       "allow_live_comments                 0\n",
       "pinned                              0\n",
       "permalink                           0\n",
       "dtype: int64"
      ]
     },
     "execution_count": 8,
     "metadata": {},
     "output_type": "execute_result"
    }
   ],
   "source": [
    "newbalance_df.isnull().sum().sort_values(ascending=False)"
   ]
  },
  {
   "cell_type": "code",
   "execution_count": 9,
   "id": "f956c2d1-1b5b-405e-92c5-f10d553d723c",
   "metadata": {},
   "outputs": [],
   "source": [
    "newbalance_df.dropna(thresh=1000, axis=1, inplace=True)"
   ]
  },
  {
   "cell_type": "code",
   "execution_count": 10,
   "id": "ba517fe9-ed67-4a63-a7cc-1c505868fb12",
   "metadata": {},
   "outputs": [
    {
     "data": {
      "text/plain": [
       "all_awardings                  0\n",
       "allow_live_comments            0\n",
       "num_crossposts                 0\n",
       "over_18                        0\n",
       "parent_whitelist_status        0\n",
       "permalink                      0\n",
       "pinned                         0\n",
       "pwls                           0\n",
       "retrieved_on                   0\n",
       "score                          0\n",
       "selftext                       0\n",
       "send_replies                   0\n",
       "spoiler                        0\n",
       "stickied                       0\n",
       "subreddit                      0\n",
       "subreddit_id                   0\n",
       "subreddit_subscribers          0\n",
       "subreddit_type                 0\n",
       "thumbnail                      0\n",
       "title                          0\n",
       "total_awards_received          0\n",
       "treatment_tags                 0\n",
       "upvote_ratio                   0\n",
       "url                            0\n",
       "whitelist_status               0\n",
       "num_comments                   0\n",
       "no_follow                      0\n",
       "media_only                     0\n",
       "is_created_from_ads_ui         0\n",
       "author                         0\n",
       "author_is_blocked              0\n",
       "awarders                       0\n",
       "can_mod_post                   0\n",
       "contest_mode                   0\n",
       "created_utc                    0\n",
       "domain                         0\n",
       "full_link                      0\n",
       "gildings                       0\n",
       "id                             0\n",
       "is_crosspostable               0\n",
       "locked                         0\n",
       "is_meta                        0\n",
       "is_original_content            0\n",
       "is_reddit_media_domain         0\n",
       "is_robot_indexable             0\n",
       "is_self                        0\n",
       "is_video                       0\n",
       "link_flair_background_color    0\n",
       "link_flair_richtext            0\n",
       "link_flair_text_color          0\n",
       "link_flair_type                0\n",
       "wls                            0\n",
       "dtype: int64"
      ]
     },
     "execution_count": 10,
     "metadata": {},
     "output_type": "execute_result"
    }
   ],
   "source": [
    "newbalance_df.isnull().sum().sort_values(ascending=False)"
   ]
  },
  {
   "cell_type": "code",
   "execution_count": 11,
   "id": "09d9d56d-419e-476d-85bf-7917405c30ca",
   "metadata": {},
   "outputs": [
    {
     "data": {
      "text/plain": [
       "(1000, 52)"
      ]
     },
     "execution_count": 11,
     "metadata": {},
     "output_type": "execute_result"
    }
   ],
   "source": [
    "newbalance_df.shape"
   ]
  },
  {
   "cell_type": "markdown",
   "id": "5472b714-f0d6-4c61-954e-0a906e28e4ac",
   "metadata": {},
   "source": [
    "### Building the dataset"
   ]
  },
  {
   "cell_type": "code",
   "execution_count": 12,
   "id": "b343cde3-57fc-4c41-80ad-750862fba151",
   "metadata": {},
   "outputs": [
    {
     "data": {
      "text/html": [
       "<div>\n",
       "<style scoped>\n",
       "    .dataframe tbody tr th:only-of-type {\n",
       "        vertical-align: middle;\n",
       "    }\n",
       "\n",
       "    .dataframe tbody tr th {\n",
       "        vertical-align: top;\n",
       "    }\n",
       "\n",
       "    .dataframe thead th {\n",
       "        text-align: right;\n",
       "    }\n",
       "</style>\n",
       "<table border=\"1\" class=\"dataframe\">\n",
       "  <thead>\n",
       "    <tr style=\"text-align: right;\">\n",
       "      <th></th>\n",
       "      <th>subreddit</th>\n",
       "      <th>selftext</th>\n",
       "      <th>title</th>\n",
       "    </tr>\n",
       "  </thead>\n",
       "  <tbody>\n",
       "    <tr>\n",
       "      <th>0</th>\n",
       "      <td>Newbalance</td>\n",
       "      <td>&amp;amp;#x200B;\\n\\n*Processing img 3fgy0ooh4cp71...*</td>\n",
       "      <td>Ordered a pair of these my first 327's Im in l...</td>\n",
       "    </tr>\n",
       "    <tr>\n",
       "      <th>1</th>\n",
       "      <td>Newbalance</td>\n",
       "      <td></td>\n",
       "      <td>Started grey day ....getting a lil hooked</td>\n",
       "    </tr>\n",
       "    <tr>\n",
       "      <th>2</th>\n",
       "      <td>Newbalance</td>\n",
       "      <td></td>\n",
       "      <td>Started grey day ...getting a lil hooked</td>\n",
       "    </tr>\n",
       "    <tr>\n",
       "      <th>3</th>\n",
       "      <td>Newbalance</td>\n",
       "      <td></td>\n",
       "      <td>Started on Grey Day...getting a lil hooked</td>\n",
       "    </tr>\n",
       "    <tr>\n",
       "      <th>4</th>\n",
       "      <td>Newbalance</td>\n",
       "      <td></td>\n",
       "      <td>When will these drop on the NB website? I have...</td>\n",
       "    </tr>\n",
       "  </tbody>\n",
       "</table>\n",
       "</div>"
      ],
      "text/plain": [
       "    subreddit                                           selftext  \\\n",
       "0  Newbalance  &amp;#x200B;\\n\\n*Processing img 3fgy0ooh4cp71...*   \n",
       "1  Newbalance                                                      \n",
       "2  Newbalance                                                      \n",
       "3  Newbalance                                                      \n",
       "4  Newbalance                                                      \n",
       "\n",
       "                                               title  \n",
       "0  Ordered a pair of these my first 327's Im in l...  \n",
       "1          Started grey day ....getting a lil hooked  \n",
       "2           Started grey day ...getting a lil hooked  \n",
       "3         Started on Grey Day...getting a lil hooked  \n",
       "4  When will these drop on the NB website? I have...  "
      ]
     },
     "execution_count": 12,
     "metadata": {},
     "output_type": "execute_result"
    }
   ],
   "source": [
    "#pay attention to the subreddit, selftext, and title columns \n",
    "\n",
    "newbalance_df[['subreddit', 'selftext', 'title']].head()"
   ]
  },
  {
   "cell_type": "code",
   "execution_count": 13,
   "id": "ccf6b255-4091-4b64-ba2a-de834bac8d27",
   "metadata": {},
   "outputs": [
    {
     "data": {
      "text/plain": [
       "Few recent wears                                                     3\n",
       "Can someone help me ID the kicks?                                    3\n",
       "Added the 997.5 to my collection                                     2\n",
       "Outlet finds                                                         2\n",
       "New Balance 990v3 in “Made 990 Version Series”                       2\n",
       "                                                                    ..\n",
       "Salty Phantoms                                                       1\n",
       "Going half size down for the 2002r ?                                 1\n",
       "Can anyone ID these for me?                                          1\n",
       "What on Gods green earth is going on with this hype and what not?    1\n",
       "Bodega collab                                                        1\n",
       "Name: title, Length: 982, dtype: int64"
      ]
     },
     "execution_count": 13,
     "metadata": {},
     "output_type": "execute_result"
    }
   ],
   "source": [
    "newbalance_df['title'].value_counts()"
   ]
  },
  {
   "cell_type": "markdown",
   "id": "5b40a89e-0fc7-4005-9da9-da33801af855",
   "metadata": {},
   "source": [
    "### Tokenize the title variable "
   ]
  },
  {
   "cell_type": "code",
   "execution_count": 14,
   "id": "e6e12340-d881-461e-a265-989cf5821f73",
   "metadata": {},
   "outputs": [
    {
     "data": {
      "text/html": [
       "<div>\n",
       "<style scoped>\n",
       "    .dataframe tbody tr th:only-of-type {\n",
       "        vertical-align: middle;\n",
       "    }\n",
       "\n",
       "    .dataframe tbody tr th {\n",
       "        vertical-align: top;\n",
       "    }\n",
       "\n",
       "    .dataframe thead th {\n",
       "        text-align: right;\n",
       "    }\n",
       "</style>\n",
       "<table border=\"1\" class=\"dataframe\">\n",
       "  <thead>\n",
       "    <tr style=\"text-align: right;\">\n",
       "      <th></th>\n",
       "      <th>all_awardings</th>\n",
       "      <th>allow_live_comments</th>\n",
       "      <th>author</th>\n",
       "      <th>author_is_blocked</th>\n",
       "      <th>awarders</th>\n",
       "      <th>can_mod_post</th>\n",
       "      <th>contest_mode</th>\n",
       "      <th>created_utc</th>\n",
       "      <th>domain</th>\n",
       "      <th>full_link</th>\n",
       "      <th>...</th>\n",
       "      <th>subreddit_type</th>\n",
       "      <th>thumbnail</th>\n",
       "      <th>title</th>\n",
       "      <th>total_awards_received</th>\n",
       "      <th>treatment_tags</th>\n",
       "      <th>upvote_ratio</th>\n",
       "      <th>url</th>\n",
       "      <th>whitelist_status</th>\n",
       "      <th>wls</th>\n",
       "      <th>title_token</th>\n",
       "    </tr>\n",
       "  </thead>\n",
       "  <tbody>\n",
       "    <tr>\n",
       "      <th>0</th>\n",
       "      <td>[]</td>\n",
       "      <td>False</td>\n",
       "      <td>frogmicky</td>\n",
       "      <td>False</td>\n",
       "      <td>[]</td>\n",
       "      <td>False</td>\n",
       "      <td>False</td>\n",
       "      <td>1632438577</td>\n",
       "      <td>self.Newbalance</td>\n",
       "      <td>https://www.reddit.com/r/Newbalance/comments/p...</td>\n",
       "      <td>...</td>\n",
       "      <td>public</td>\n",
       "      <td>self</td>\n",
       "      <td>Ordered a pair of these my first 327's Im in l...</td>\n",
       "      <td>0</td>\n",
       "      <td>[]</td>\n",
       "      <td>1.0</td>\n",
       "      <td>https://www.reddit.com/r/Newbalance/comments/p...</td>\n",
       "      <td>all_ads</td>\n",
       "      <td>6</td>\n",
       "      <td>[ordered, a, pair, of, these, my, first, 327, ...</td>\n",
       "    </tr>\n",
       "    <tr>\n",
       "      <th>1</th>\n",
       "      <td>[]</td>\n",
       "      <td>False</td>\n",
       "      <td>theillones</td>\n",
       "      <td>False</td>\n",
       "      <td>[]</td>\n",
       "      <td>False</td>\n",
       "      <td>False</td>\n",
       "      <td>1632437702</td>\n",
       "      <td>reddit.com</td>\n",
       "      <td>https://www.reddit.com/r/Newbalance/comments/p...</td>\n",
       "      <td>...</td>\n",
       "      <td>public</td>\n",
       "      <td>default</td>\n",
       "      <td>Started grey day ....getting a lil hooked</td>\n",
       "      <td>0</td>\n",
       "      <td>[]</td>\n",
       "      <td>1.0</td>\n",
       "      <td>https://www.reddit.com/gallery/pu6sqk</td>\n",
       "      <td>all_ads</td>\n",
       "      <td>6</td>\n",
       "      <td>[started, grey, day, getting, a, lil, hooked]</td>\n",
       "    </tr>\n",
       "    <tr>\n",
       "      <th>2</th>\n",
       "      <td>[]</td>\n",
       "      <td>False</td>\n",
       "      <td>theillones</td>\n",
       "      <td>False</td>\n",
       "      <td>[]</td>\n",
       "      <td>False</td>\n",
       "      <td>False</td>\n",
       "      <td>1632437590</td>\n",
       "      <td>reddit.com</td>\n",
       "      <td>https://www.reddit.com/r/Newbalance/comments/p...</td>\n",
       "      <td>...</td>\n",
       "      <td>public</td>\n",
       "      <td>default</td>\n",
       "      <td>Started grey day ...getting a lil hooked</td>\n",
       "      <td>0</td>\n",
       "      <td>[]</td>\n",
       "      <td>1.0</td>\n",
       "      <td>https://www.reddit.com/gallery/pu6rko</td>\n",
       "      <td>all_ads</td>\n",
       "      <td>6</td>\n",
       "      <td>[started, grey, day, getting, a, lil, hooked]</td>\n",
       "    </tr>\n",
       "    <tr>\n",
       "      <th>3</th>\n",
       "      <td>[]</td>\n",
       "      <td>False</td>\n",
       "      <td>theillones</td>\n",
       "      <td>False</td>\n",
       "      <td>[]</td>\n",
       "      <td>False</td>\n",
       "      <td>False</td>\n",
       "      <td>1632431098</td>\n",
       "      <td>reddit.com</td>\n",
       "      <td>https://www.reddit.com/r/Newbalance/comments/p...</td>\n",
       "      <td>...</td>\n",
       "      <td>public</td>\n",
       "      <td>default</td>\n",
       "      <td>Started on Grey Day...getting a lil hooked</td>\n",
       "      <td>0</td>\n",
       "      <td>[]</td>\n",
       "      <td>1.0</td>\n",
       "      <td>https://www.reddit.com/gallery/pu4p8n</td>\n",
       "      <td>all_ads</td>\n",
       "      <td>6</td>\n",
       "      <td>[started, on, grey, day, getting, a, lil, hooked]</td>\n",
       "    </tr>\n",
       "    <tr>\n",
       "      <th>4</th>\n",
       "      <td>[]</td>\n",
       "      <td>False</td>\n",
       "      <td>sjale49</td>\n",
       "      <td>False</td>\n",
       "      <td>[]</td>\n",
       "      <td>False</td>\n",
       "      <td>False</td>\n",
       "      <td>1632430232</td>\n",
       "      <td>i.redd.it</td>\n",
       "      <td>https://www.reddit.com/r/Newbalance/comments/p...</td>\n",
       "      <td>...</td>\n",
       "      <td>public</td>\n",
       "      <td>image</td>\n",
       "      <td>When will these drop on the NB website? I have...</td>\n",
       "      <td>0</td>\n",
       "      <td>[]</td>\n",
       "      <td>1.0</td>\n",
       "      <td>https://i.redd.it/qm6jfwbofbp71.jpg</td>\n",
       "      <td>all_ads</td>\n",
       "      <td>6</td>\n",
       "      <td>[when, will, these, drop, on, the, nb, website...</td>\n",
       "    </tr>\n",
       "  </tbody>\n",
       "</table>\n",
       "<p>5 rows × 53 columns</p>\n",
       "</div>"
      ],
      "text/plain": [
       "  all_awardings  allow_live_comments      author  author_is_blocked awarders  \\\n",
       "0            []                False   frogmicky              False       []   \n",
       "1            []                False  theillones              False       []   \n",
       "2            []                False  theillones              False       []   \n",
       "3            []                False  theillones              False       []   \n",
       "4            []                False     sjale49              False       []   \n",
       "\n",
       "   can_mod_post  contest_mode  created_utc           domain  \\\n",
       "0         False         False   1632438577  self.Newbalance   \n",
       "1         False         False   1632437702       reddit.com   \n",
       "2         False         False   1632437590       reddit.com   \n",
       "3         False         False   1632431098       reddit.com   \n",
       "4         False         False   1632430232        i.redd.it   \n",
       "\n",
       "                                           full_link  ... subreddit_type  \\\n",
       "0  https://www.reddit.com/r/Newbalance/comments/p...  ...         public   \n",
       "1  https://www.reddit.com/r/Newbalance/comments/p...  ...         public   \n",
       "2  https://www.reddit.com/r/Newbalance/comments/p...  ...         public   \n",
       "3  https://www.reddit.com/r/Newbalance/comments/p...  ...         public   \n",
       "4  https://www.reddit.com/r/Newbalance/comments/p...  ...         public   \n",
       "\n",
       "  thumbnail                                              title  \\\n",
       "0      self  Ordered a pair of these my first 327's Im in l...   \n",
       "1   default          Started grey day ....getting a lil hooked   \n",
       "2   default           Started grey day ...getting a lil hooked   \n",
       "3   default         Started on Grey Day...getting a lil hooked   \n",
       "4     image  When will these drop on the NB website? I have...   \n",
       "\n",
       "   total_awards_received  treatment_tags  upvote_ratio  \\\n",
       "0                      0              []           1.0   \n",
       "1                      0              []           1.0   \n",
       "2                      0              []           1.0   \n",
       "3                      0              []           1.0   \n",
       "4                      0              []           1.0   \n",
       "\n",
       "                                                 url  whitelist_status  wls  \\\n",
       "0  https://www.reddit.com/r/Newbalance/comments/p...           all_ads    6   \n",
       "1              https://www.reddit.com/gallery/pu6sqk           all_ads    6   \n",
       "2              https://www.reddit.com/gallery/pu6rko           all_ads    6   \n",
       "3              https://www.reddit.com/gallery/pu4p8n           all_ads    6   \n",
       "4                https://i.redd.it/qm6jfwbofbp71.jpg           all_ads    6   \n",
       "\n",
       "                                         title_token  \n",
       "0  [ordered, a, pair, of, these, my, first, 327, ...  \n",
       "1      [started, grey, day, getting, a, lil, hooked]  \n",
       "2      [started, grey, day, getting, a, lil, hooked]  \n",
       "3  [started, on, grey, day, getting, a, lil, hooked]  \n",
       "4  [when, will, these, drop, on, the, nb, website...  \n",
       "\n",
       "[5 rows x 53 columns]"
      ]
     },
     "execution_count": 14,
     "metadata": {},
     "output_type": "execute_result"
    }
   ],
   "source": [
    "tokenizer = RegexpTokenizer(pattern=r'\\w+')\n",
    "\n",
    "newbalance_df['title_token'] = newbalance_df['title'].apply(lambda row: tokenizer.tokenize(row.lower()))\n",
    "\n",
    "newbalance_df.head()"
   ]
  },
  {
   "cell_type": "markdown",
   "id": "44a15f31-e99a-4a76-bf9b-8e7ca6afe78d",
   "metadata": {},
   "source": [
    "### Lemmatize the title variable "
   ]
  },
  {
   "cell_type": "code",
   "execution_count": 15,
   "id": "1ec6e6f6-7bbc-4d2f-a2f4-afa510b710cc",
   "metadata": {},
   "outputs": [],
   "source": [
    "lemmatizer = WordNetLemmatizer()"
   ]
  },
  {
   "cell_type": "code",
   "execution_count": 16,
   "id": "6783fd74-e0c4-4952-a862-2813ae2c29e3",
   "metadata": {},
   "outputs": [
    {
     "data": {
      "text/plain": [
       "0     [ordered, a, pair, of, these, my, first, 327, ...\n",
       "1         [started, grey, day, getting, a, lil, hooked]\n",
       "2         [started, grey, day, getting, a, lil, hooked]\n",
       "3     [started, on, grey, day, getting, a, lil, hooked]\n",
       "4     [when, will, these, drop, on, the, nb, website...\n",
       "                            ...                        \n",
       "95                 [my, 990s, are, cooler, than, yours]\n",
       "96    [anyone, know, what, happened, with, the, joef...\n",
       "97    [57, 40, s, paired, with, the, nb, short, only...\n",
       "98    [say, what, you, want, but, these, are, all, v...\n",
       "99                                     [latest, pickup]\n",
       "Name: title_token, Length: 1000, dtype: object"
      ]
     },
     "execution_count": 16,
     "metadata": {},
     "output_type": "execute_result"
    }
   ],
   "source": [
    "newbalance_df['title_token'].apply(lambda tokens: [lemmatizer.lemmatize(token) for token in tokens])"
   ]
  },
  {
   "cell_type": "markdown",
   "id": "47865ec9-6e65-41e5-969b-946e4dc13e1d",
   "metadata": {},
   "source": [
    "### Stem the title variable "
   ]
  },
  {
   "cell_type": "code",
   "execution_count": 17,
   "id": "380bdd60-c88d-4a0a-a3f5-4d375cbedd08",
   "metadata": {},
   "outputs": [],
   "source": [
    "p_stemmer = PorterStemmer()"
   ]
  },
  {
   "cell_type": "code",
   "execution_count": 18,
   "id": "a43cf91f-8836-49d1-8423-503b173edf0a",
   "metadata": {},
   "outputs": [
    {
     "data": {
      "text/plain": [
       "0     [order, a, pair, of, these, my, first, 327, s,...\n",
       "1                 [start, grey, day, get, a, lil, hook]\n",
       "2                 [start, grey, day, get, a, lil, hook]\n",
       "3             [start, on, grey, day, get, a, lil, hook]\n",
       "4     [when, will, these, drop, on, the, nb, websit,...\n",
       "                            ...                        \n",
       "95                   [my, 990, are, cooler, than, your]\n",
       "96    [anyon, know, what, happen, with, the, joefres...\n",
       "97    [57, 40, s, pair, with, the, nb, short, onli, ...\n",
       "98    [say, what, you, want, but, these, are, all, v...\n",
       "99                                     [latest, pickup]\n",
       "Name: title_token, Length: 1000, dtype: object"
      ]
     },
     "execution_count": 18,
     "metadata": {},
     "output_type": "execute_result"
    }
   ],
   "source": [
    "newbalance_df['title_token'].apply(lambda tokens: [p_stemmer.stem(token) for token in tokens])"
   ]
  },
  {
   "cell_type": "markdown",
   "id": "21721941-2060-4124-b78f-56cb9de1cd39",
   "metadata": {},
   "source": [
    "### What the tokens would look like with no stop words"
   ]
  },
  {
   "cell_type": "code",
   "execution_count": 19,
   "id": "097f25c9-9fdd-43ce-a8e5-a782b143e8e2",
   "metadata": {},
   "outputs": [
    {
     "data": {
      "text/plain": [
       "0                 [ordered, pair, first, 327, im, love]\n",
       "1            [started, grey, day, getting, lil, hooked]\n",
       "2            [started, grey, day, getting, lil, hooked]\n",
       "3            [started, grey, day, getting, lil, hooked]\n",
       "4     [drop, nb, website, seen, online, shops, want,...\n",
       "                            ...                        \n",
       "95                                       [990s, cooler]\n",
       "96    [anyone, know, happened, joefreshgoods, outsid...\n",
       "97    [57, 40, paired, nb, shorts, way, love, reflec...\n",
       "98                                   [say, want, vibes]\n",
       "99                                    [latest, pickups]\n",
       "Name: title_token, Length: 1000, dtype: object"
      ]
     },
     "execution_count": 19,
     "metadata": {},
     "output_type": "execute_result"
    }
   ],
   "source": [
    "eng_stopwords = stopwords.words('english')\n",
    "newbalance_df['title_token'].apply(lambda tokens: [token for token in tokens if token not in eng_stopwords])"
   ]
  },
  {
   "cell_type": "markdown",
   "id": "230ac556-1c8c-4cf7-aa9c-254be548333e",
   "metadata": {},
   "source": [
    "### Remerge the title tokens to have a \"stripped\" object to analyze "
   ]
  },
  {
   "cell_type": "code",
   "execution_count": 20,
   "id": "bc0b9835-bac1-48ce-95cf-f561f1357c7c",
   "metadata": {},
   "outputs": [],
   "source": [
    "newbalance_df['title_tokens_merged'] = newbalance_df['title_token'].apply(lambda token: ' '.join(token))"
   ]
  },
  {
   "cell_type": "markdown",
   "id": "58e787b5-9d74-4f7a-aa89-787ac8829537",
   "metadata": {},
   "source": [
    "### Build the final dataset for analysis"
   ]
  },
  {
   "cell_type": "code",
   "execution_count": 21,
   "id": "1fe3c0e6-6b10-41c9-a0fc-6ab3cd8b47b8",
   "metadata": {},
   "outputs": [],
   "source": [
    "newbalance_df = newbalance_df[['title_token', 'title_tokens_merged', 'subreddit']]"
   ]
  },
  {
   "cell_type": "code",
   "execution_count": 22,
   "id": "fe422540-743d-44d3-88f9-ef4659e36bfc",
   "metadata": {},
   "outputs": [
    {
     "data": {
      "text/html": [
       "<div>\n",
       "<style scoped>\n",
       "    .dataframe tbody tr th:only-of-type {\n",
       "        vertical-align: middle;\n",
       "    }\n",
       "\n",
       "    .dataframe tbody tr th {\n",
       "        vertical-align: top;\n",
       "    }\n",
       "\n",
       "    .dataframe thead th {\n",
       "        text-align: right;\n",
       "    }\n",
       "</style>\n",
       "<table border=\"1\" class=\"dataframe\">\n",
       "  <thead>\n",
       "    <tr style=\"text-align: right;\">\n",
       "      <th></th>\n",
       "      <th>title_token</th>\n",
       "      <th>title_tokens_merged</th>\n",
       "      <th>subreddit</th>\n",
       "    </tr>\n",
       "  </thead>\n",
       "  <tbody>\n",
       "    <tr>\n",
       "      <th>0</th>\n",
       "      <td>[ordered, a, pair, of, these, my, first, 327, ...</td>\n",
       "      <td>ordered a pair of these my first 327 s im in love</td>\n",
       "      <td>Newbalance</td>\n",
       "    </tr>\n",
       "    <tr>\n",
       "      <th>1</th>\n",
       "      <td>[started, grey, day, getting, a, lil, hooked]</td>\n",
       "      <td>started grey day getting a lil hooked</td>\n",
       "      <td>Newbalance</td>\n",
       "    </tr>\n",
       "    <tr>\n",
       "      <th>2</th>\n",
       "      <td>[started, grey, day, getting, a, lil, hooked]</td>\n",
       "      <td>started grey day getting a lil hooked</td>\n",
       "      <td>Newbalance</td>\n",
       "    </tr>\n",
       "    <tr>\n",
       "      <th>3</th>\n",
       "      <td>[started, on, grey, day, getting, a, lil, hooked]</td>\n",
       "      <td>started on grey day getting a lil hooked</td>\n",
       "      <td>Newbalance</td>\n",
       "    </tr>\n",
       "    <tr>\n",
       "      <th>4</th>\n",
       "      <td>[when, will, these, drop, on, the, nb, website...</td>\n",
       "      <td>when will these drop on the nb website i have ...</td>\n",
       "      <td>Newbalance</td>\n",
       "    </tr>\n",
       "  </tbody>\n",
       "</table>\n",
       "</div>"
      ],
      "text/plain": [
       "                                         title_token  \\\n",
       "0  [ordered, a, pair, of, these, my, first, 327, ...   \n",
       "1      [started, grey, day, getting, a, lil, hooked]   \n",
       "2      [started, grey, day, getting, a, lil, hooked]   \n",
       "3  [started, on, grey, day, getting, a, lil, hooked]   \n",
       "4  [when, will, these, drop, on, the, nb, website...   \n",
       "\n",
       "                                 title_tokens_merged   subreddit  \n",
       "0  ordered a pair of these my first 327 s im in love  Newbalance  \n",
       "1              started grey day getting a lil hooked  Newbalance  \n",
       "2              started grey day getting a lil hooked  Newbalance  \n",
       "3           started on grey day getting a lil hooked  Newbalance  \n",
       "4  when will these drop on the nb website i have ...  Newbalance  "
      ]
     },
     "execution_count": 22,
     "metadata": {},
     "output_type": "execute_result"
    }
   ],
   "source": [
    "newbalance_df.head()"
   ]
  },
  {
   "cell_type": "code",
   "execution_count": 23,
   "id": "be101d76-4ee5-462e-bc6c-60c371c08ef1",
   "metadata": {},
   "outputs": [],
   "source": [
    "newbalance_df.to_csv('datasets/newbalance_data.csv', index=False)"
   ]
  },
  {
   "cell_type": "code",
   "execution_count": null,
   "id": "1e5a10ac-10a6-4bf9-a094-1ca14776e4c6",
   "metadata": {},
   "outputs": [],
   "source": []
  }
 ],
 "metadata": {
  "kernelspec": {
   "display_name": "Python 3",
   "language": "python",
   "name": "python3"
  },
  "language_info": {
   "codemirror_mode": {
    "name": "ipython",
    "version": 3
   },
   "file_extension": ".py",
   "mimetype": "text/x-python",
   "name": "python",
   "nbconvert_exporter": "python",
   "pygments_lexer": "ipython3",
   "version": "3.8.8"
  }
 },
 "nbformat": 4,
 "nbformat_minor": 5
}
