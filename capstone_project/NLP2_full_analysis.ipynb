{
  "nbformat": 4,
  "nbformat_minor": 5,
  "metadata": {
    "kernelspec": {
      "display_name": "Python 3 (ipykernel)",
      "language": "python",
      "name": "python3"
    },
    "language_info": {
      "codemirror_mode": {
        "name": "ipython",
        "version": 3
      },
      "file_extension": ".py",
      "mimetype": "text/x-python",
      "name": "python",
      "nbconvert_exporter": "python",
      "pygments_lexer": "ipython3",
      "version": "3.9.7"
    },
    "colab": {
      "name": "NLP2_full_analysis.ipynb",
      "provenance": []
    }
  },
  "cells": [
    {
      "cell_type": "code",
      "metadata": {
        "id": "3676623c-aa31-461a-abc4-5aaf9dc25ee1"
      },
      "source": [
        "# imports\n",
        "import pandas as pd\n",
        "import matplotlib.pyplot as plt\n",
        "import seaborn as sns\n",
        "from sklearn.model_selection import train_test_split, GridSearchCV\n",
        "from sklearn.pipeline import Pipeline\n",
        "\n",
        "from sklearn.metrics import confusion_matrix, plot_confusion_matrix\n",
        "from sklearn.metrics import classification_report\n",
        "from sklearn.neighbors import KNeighborsRegressor\n",
        "from sklearn.preprocessing import StandardScaler\n",
        "from sklearn.linear_model import LinearRegression, Lasso, LassoCV\n",
        "\n",
        "from sklearn.ensemble import RandomForestRegressor\n",
        "\n",
        "from sklearn.ensemble import AdaBoostRegressor\n",
        "\n",
        "from sklearn.feature_extraction.text import CountVectorizer\n",
        "\n",
        "from google.colab import drive, files"
      ],
      "id": "3676623c-aa31-461a-abc4-5aaf9dc25ee1",
      "execution_count": null,
      "outputs": []
    },
    {
      "cell_type": "code",
      "metadata": {
        "colab": {
          "base_uri": "https://localhost:8080/"
        },
        "id": "k3FouBCJ-hRb",
        "outputId": "073c8d2b-d747-424d-95b2-14e460aa6cac"
      },
      "source": [
        "drive.mount('/content/drive')"
      ],
      "id": "k3FouBCJ-hRb",
      "execution_count": null,
      "outputs": [
        {
          "output_type": "stream",
          "name": "stdout",
          "text": [
            "Drive already mounted at /content/drive; to attempt to forcibly remount, call drive.mount(\"/content/drive\", force_remount=True).\n"
          ]
        }
      ]
    },
    {
      "cell_type": "code",
      "metadata": {
        "id": "c194e0f0-ee6c-4b50-8aa0-9c07fd88e466"
      },
      "source": [
        "train = pd.read_csv('drive/MyDrive/capstone_project/train_cleaned.csv')"
      ],
      "id": "c194e0f0-ee6c-4b50-8aa0-9c07fd88e466",
      "execution_count": null,
      "outputs": []
    },
    {
      "cell_type": "code",
      "metadata": {
        "colab": {
          "base_uri": "https://localhost:8080/",
          "height": 306
        },
        "id": "43c8159b-13e6-4a83-9cd4-d77dbf8b4cfe",
        "outputId": "6d0995df-4cd8-4eb3-f380-0b6b84088fac"
      },
      "source": [
        "train.head()"
      ],
      "id": "43c8159b-13e6-4a83-9cd4-d77dbf8b4cfe",
      "execution_count": null,
      "outputs": [
        {
          "output_type": "execute_result",
          "data": {
            "text/html": [
              "<div>\n",
              "<style scoped>\n",
              "    .dataframe tbody tr th:only-of-type {\n",
              "        vertical-align: middle;\n",
              "    }\n",
              "\n",
              "    .dataframe tbody tr th {\n",
              "        vertical-align: top;\n",
              "    }\n",
              "\n",
              "    .dataframe thead th {\n",
              "        text-align: right;\n",
              "    }\n",
              "</style>\n",
              "<table border=\"1\" class=\"dataframe\">\n",
              "  <thead>\n",
              "    <tr style=\"text-align: right;\">\n",
              "      <th></th>\n",
              "      <th>job_description</th>\n",
              "      <th>job_desig</th>\n",
              "      <th>key_skills</th>\n",
              "      <th>location</th>\n",
              "      <th>min_experience</th>\n",
              "      <th>max_experience</th>\n",
              "      <th>average_salary</th>\n",
              "    </tr>\n",
              "  </thead>\n",
              "  <tbody>\n",
              "    <tr>\n",
              "      <th>0</th>\n",
              "      <td>exp minimum 5 year good understanding of ioc r...</td>\n",
              "      <td>Senior Exploit and Vulnerability Researcher</td>\n",
              "      <td>team skills, communication skills, analytical ...</td>\n",
              "      <td>Delhi NCR(Vikas Puri)</td>\n",
              "      <td>5</td>\n",
              "      <td>7</td>\n",
              "      <td>11.0</td>\n",
              "    </tr>\n",
              "    <tr>\n",
              "      <th>1</th>\n",
              "      <td>he should have handled a team of atleast 5 6 d...</td>\n",
              "      <td>Head SCM</td>\n",
              "      <td>ppc, logistics, inventory management, supply c...</td>\n",
              "      <td>Sonepat</td>\n",
              "      <td>10</td>\n",
              "      <td>17</td>\n",
              "      <td>17.5</td>\n",
              "    </tr>\n",
              "    <tr>\n",
              "      <th>2</th>\n",
              "      <td>must be an effective communicator written spok...</td>\n",
              "      <td>Deputy Manager - Talent Management &amp; Leadershi...</td>\n",
              "      <td>HR Analytics, Employee Engagement, Training, S...</td>\n",
              "      <td>Delhi NCR</td>\n",
              "      <td>5</td>\n",
              "      <td>9</td>\n",
              "      <td>27.5</td>\n",
              "    </tr>\n",
              "    <tr>\n",
              "      <th>3</th>\n",
              "      <td>7 10 year of overall experience in data engine...</td>\n",
              "      <td>Associate Manager Data Engineering</td>\n",
              "      <td>SQL, Javascript, Automation, Python, Ruby, Ana...</td>\n",
              "      <td>Bengaluru</td>\n",
              "      <td>7</td>\n",
              "      <td>10</td>\n",
              "      <td>17.5</td>\n",
              "    </tr>\n",
              "    <tr>\n",
              "      <th>4</th>\n",
              "      <td>chartered accountancy degree or mba in finance...</td>\n",
              "      <td>TS- GSA- Senior Analyst</td>\n",
              "      <td>accounting, finance, cash flow, financial plan...</td>\n",
              "      <td>Gurgaon</td>\n",
              "      <td>1</td>\n",
              "      <td>3</td>\n",
              "      <td>6.0</td>\n",
              "    </tr>\n",
              "  </tbody>\n",
              "</table>\n",
              "</div>"
            ],
            "text/plain": [
              "                                     job_description  ... average_salary\n",
              "0  exp minimum 5 year good understanding of ioc r...  ...           11.0\n",
              "1  he should have handled a team of atleast 5 6 d...  ...           17.5\n",
              "2  must be an effective communicator written spok...  ...           27.5\n",
              "3  7 10 year of overall experience in data engine...  ...           17.5\n",
              "4  chartered accountancy degree or mba in finance...  ...            6.0\n",
              "\n",
              "[5 rows x 7 columns]"
            ]
          },
          "metadata": {},
          "execution_count": 28
        }
      ]
    },
    {
      "cell_type": "code",
      "metadata": {
        "id": "5d30c380-b8d7-4f3f-99f8-bf0d19b3d710"
      },
      "source": [
        "train['cv_data'] = train[\"job_description\"] + train['job_desig'] + train['key_skills'] + train['location']"
      ],
      "id": "5d30c380-b8d7-4f3f-99f8-bf0d19b3d710",
      "execution_count": null,
      "outputs": []
    },
    {
      "cell_type": "code",
      "metadata": {
        "id": "981be468-2077-4496-ad60-c20949eed316"
      },
      "source": [
        "X = train['cv_data']\n",
        "y = train['average_salary']"
      ],
      "id": "981be468-2077-4496-ad60-c20949eed316",
      "execution_count": null,
      "outputs": []
    },
    {
      "cell_type": "code",
      "metadata": {
        "colab": {
          "base_uri": "https://localhost:8080/"
        },
        "id": "21c7a2a4-025c-4225-b424-e57065e0d068",
        "outputId": "62181990-01b8-4196-b09e-9537de5c2882"
      },
      "source": [
        "y.value_counts(normalize=True)"
      ],
      "id": "21c7a2a4-025c-4225-b424-e57065e0d068",
      "execution_count": null,
      "outputs": [
        {
          "output_type": "execute_result",
          "data": {
            "text/plain": [
              "17.5    0.227261\n",
              "27.5    0.208323\n",
              "11.0    0.178375\n",
              "1.5     0.163881\n",
              "6.0     0.142619\n",
              "50.0    0.079541\n",
              "Name: average_salary, dtype: float64"
            ]
          },
          "metadata": {},
          "execution_count": 31
        }
      ]
    },
    {
      "cell_type": "code",
      "metadata": {
        "id": "e4be874c-5152-43c2-8812-f528dbd01f49"
      },
      "source": [
        "X_train, X_test, y_train, y_test = train_test_split(X,\n",
        "                                                    y,\n",
        "                                                    test_size=0.33,\n",
        "                                                    stratify=y,\n",
        "                                                    random_state=42)"
      ],
      "id": "e4be874c-5152-43c2-8812-f528dbd01f49",
      "execution_count": null,
      "outputs": []
    },
    {
      "cell_type": "code",
      "metadata": {
        "id": "692ba566-b602-4a5d-ab0f-2178fe3e2d10"
      },
      "source": [
        "pipe = Pipeline([\n",
        "    ('cv', CountVectorizer()),\n",
        "    ('ss', StandardScaler(with_mean=False)), \n",
        "    ('lin', LinearRegression())\n",
        "])"
      ],
      "id": "692ba566-b602-4a5d-ab0f-2178fe3e2d10",
      "execution_count": null,
      "outputs": []
    },
    {
      "cell_type": "code",
      "metadata": {
        "colab": {
          "base_uri": "https://localhost:8080/"
        },
        "id": "b1e6cf4c-7693-48cf-b79c-5d4be96fb39d",
        "outputId": "a472be3d-7b1a-4872-9850-44754ac82dd3"
      },
      "source": [
        "pipe.fit(X_train, y_train)\n",
        "pipe.score(X_train, y_train), pipe.score(X_test, y_test)"
      ],
      "id": "b1e6cf4c-7693-48cf-b79c-5d4be96fb39d",
      "execution_count": null,
      "outputs": [
        {
          "output_type": "execute_result",
          "data": {
            "text/plain": [
              "(0.925134376626968, -1.2022971613412703)"
            ]
          },
          "metadata": {},
          "execution_count": 36
        }
      ]
    },
    {
      "cell_type": "code",
      "metadata": {
        "id": "02a1ca90-09d8-4618-8b6a-ae9db721d1c7"
      },
      "source": [
        "pipe2 = Pipeline([\n",
        "    ('cv', CountVectorizer()),\n",
        "    ('ss', StandardScaler(with_mean=False)), \n",
        "    ('knn', KNeighborsRegressor())\n",
        "])"
      ],
      "id": "02a1ca90-09d8-4618-8b6a-ae9db721d1c7",
      "execution_count": null,
      "outputs": []
    },
    {
      "cell_type": "code",
      "metadata": {
        "colab": {
          "base_uri": "https://localhost:8080/"
        },
        "id": "d213d280-30e5-496b-a163-ff2b4f938e5f",
        "outputId": "a684edaa-b12b-4f85-cf31-5f42271c8036"
      },
      "source": [
        "pipe2.fit(X_train, y_train)\n",
        "pipe2.score(X_train, y_train), pipe2.score(X_test, y_test)"
      ],
      "id": "d213d280-30e5-496b-a163-ff2b4f938e5f",
      "execution_count": null,
      "outputs": [
        {
          "output_type": "execute_result",
          "data": {
            "text/plain": [
              "(0.49519721015876095, 0.22020185867511566)"
            ]
          },
          "metadata": {},
          "execution_count": 38
        }
      ]
    },
    {
      "cell_type": "code",
      "metadata": {
        "id": "83fb69dd-5cfd-40fc-aac6-922fbbc6b0d1"
      },
      "source": [
        "# pipe3 = Pipeline([\n",
        "#     ('cv', CountVectorizer()), \n",
        "#     ('lassoCV', LassoCV())\n",
        "# ])"
      ],
      "id": "83fb69dd-5cfd-40fc-aac6-922fbbc6b0d1",
      "execution_count": null,
      "outputs": []
    },
    {
      "cell_type": "code",
      "metadata": {
        "id": "c884fd44-1a84-49f0-a9e0-2a45a3f1effc"
      },
      "source": [
        "# pipe3.fit(X_train, y_train)\n",
        "# pipe3.score(X_train, y_train), pipe3.score(X_test, y_test)"
      ],
      "id": "c884fd44-1a84-49f0-a9e0-2a45a3f1effc",
      "execution_count": null,
      "outputs": []
    },
    {
      "cell_type": "code",
      "metadata": {
        "id": "eb10d3d2-bb83-432c-a3d7-d01219f2a22d"
      },
      "source": [
        "pipe4 = Pipeline([\n",
        "    ('cv', CountVectorizer()),\n",
        "    ('ss', StandardScaler(with_mean=False)), \n",
        "    ('rfr', RandomForestRegressor())\n",
        "])"
      ],
      "id": "eb10d3d2-bb83-432c-a3d7-d01219f2a22d",
      "execution_count": null,
      "outputs": []
    },
    {
      "cell_type": "code",
      "metadata": {
        "colab": {
          "base_uri": "https://localhost:8080/"
        },
        "id": "4e6bcce6-9fa2-487c-9680-2d88e7d0cfdb",
        "outputId": "84cd7723-163b-41b5-daac-d466946bd39e"
      },
      "source": [
        "pipe4.fit(X_train, y_train)\n",
        "pipe4.score(X_train, y_train), pipe4.score(X_test, y_test)"
      ],
      "id": "4e6bcce6-9fa2-487c-9680-2d88e7d0cfdb",
      "execution_count": null,
      "outputs": [
        {
          "output_type": "execute_result",
          "data": {
            "text/plain": [
              "(0.8711679757892901, 0.43489613037297015)"
            ]
          },
          "metadata": {},
          "execution_count": 40
        }
      ]
    },
    {
      "cell_type": "code",
      "metadata": {
        "id": "353eb31a-8ed7-4938-8326-7ad322e698b1"
      },
      "source": [
        "pipe5 = Pipeline([\n",
        "    ('cv', CountVectorizer()),\n",
        "    ('ss', StandardScaler(with_mean=False)), \n",
        "    ('abr', AdaBoostRegressor())\n",
        "])"
      ],
      "id": "353eb31a-8ed7-4938-8326-7ad322e698b1",
      "execution_count": null,
      "outputs": []
    },
    {
      "cell_type": "code",
      "metadata": {
        "colab": {
          "base_uri": "https://localhost:8080/"
        },
        "id": "345a0d97-bf3b-42bb-8ba5-cc56aaa477e8",
        "outputId": "fd048e28-1584-4130-9269-2d25ea78870e"
      },
      "source": [
        "pipe5.fit(X_train, y_train)\n",
        "pipe5.score(X_train, y_train), pipe5.score(X_test, y_test)"
      ],
      "id": "345a0d97-bf3b-42bb-8ba5-cc56aaa477e8",
      "execution_count": null,
      "outputs": [
        {
          "output_type": "execute_result",
          "data": {
            "text/plain": [
              "(0.07643019795096173, 0.05837231027415368)"
            ]
          },
          "metadata": {},
          "execution_count": 42
        }
      ]
    },
    {
      "cell_type": "code",
      "metadata": {
        "id": "70d46a1d-c031-4f00-afe9-f844e3ba7407"
      },
      "source": [
        "results = {'Model': ['LinearRegression',\n",
        "                     'KNeighborsRegressor',\n",
        "                     #'LassoCV',\n",
        "                     'RandomForestRegressor',\n",
        "                     'AdaBoostRegressor'],\n",
        "           'train_score': [pipe.score(X_train, y_train),\n",
        "                           pipe2.score(X_train, y_train),\n",
        "                           #pipe3.score(X_train, y_train), \n",
        "                           pipe4.score(X_train, y_train), \n",
        "                           pipe5.score(X_train, y_train)],\n",
        "           'test_score': [pipe.score(X_test, y_test),\n",
        "                           pipe2.score(X_test, y_test),\n",
        "                           #pipe3.score(X_test, y_test), \n",
        "                           pipe4.score(X_test, y_test), \n",
        "                           pipe5.score(X_test, y_test)]\n",
        "          }"
      ],
      "id": "70d46a1d-c031-4f00-afe9-f844e3ba7407",
      "execution_count": null,
      "outputs": []
    },
    {
      "cell_type": "code",
      "metadata": {
        "id": "5a307709-336d-48ac-9be2-21704b977f19"
      },
      "source": [
        "results_df = pd.DataFrame(results)"
      ],
      "id": "5a307709-336d-48ac-9be2-21704b977f19",
      "execution_count": null,
      "outputs": []
    },
    {
      "cell_type": "code",
      "metadata": {
        "colab": {
          "base_uri": "https://localhost:8080/",
          "height": 173
        },
        "id": "93995754-f99b-491c-8bc6-d9f60748ec9b",
        "outputId": "445c5d64-a9cb-4b4e-cca9-ae31ae4d7590"
      },
      "source": [
        "results_df"
      ],
      "id": "93995754-f99b-491c-8bc6-d9f60748ec9b",
      "execution_count": null,
      "outputs": [
        {
          "output_type": "execute_result",
          "data": {
            "text/html": [
              "<div>\n",
              "<style scoped>\n",
              "    .dataframe tbody tr th:only-of-type {\n",
              "        vertical-align: middle;\n",
              "    }\n",
              "\n",
              "    .dataframe tbody tr th {\n",
              "        vertical-align: top;\n",
              "    }\n",
              "\n",
              "    .dataframe thead th {\n",
              "        text-align: right;\n",
              "    }\n",
              "</style>\n",
              "<table border=\"1\" class=\"dataframe\">\n",
              "  <thead>\n",
              "    <tr style=\"text-align: right;\">\n",
              "      <th></th>\n",
              "      <th>Model</th>\n",
              "      <th>train_score</th>\n",
              "      <th>test_score</th>\n",
              "    </tr>\n",
              "  </thead>\n",
              "  <tbody>\n",
              "    <tr>\n",
              "      <th>0</th>\n",
              "      <td>LinearRegression</td>\n",
              "      <td>0.925134</td>\n",
              "      <td>-1.202297</td>\n",
              "    </tr>\n",
              "    <tr>\n",
              "      <th>1</th>\n",
              "      <td>KNeighborsRegressor</td>\n",
              "      <td>0.495197</td>\n",
              "      <td>0.220202</td>\n",
              "    </tr>\n",
              "    <tr>\n",
              "      <th>2</th>\n",
              "      <td>RandomForestRegressor</td>\n",
              "      <td>0.871168</td>\n",
              "      <td>0.434896</td>\n",
              "    </tr>\n",
              "    <tr>\n",
              "      <th>3</th>\n",
              "      <td>AdaBoostRegressor</td>\n",
              "      <td>0.076430</td>\n",
              "      <td>0.058372</td>\n",
              "    </tr>\n",
              "  </tbody>\n",
              "</table>\n",
              "</div>"
            ],
            "text/plain": [
              "                   Model  train_score  test_score\n",
              "0       LinearRegression     0.925134   -1.202297\n",
              "1    KNeighborsRegressor     0.495197    0.220202\n",
              "2  RandomForestRegressor     0.871168    0.434896\n",
              "3      AdaBoostRegressor     0.076430    0.058372"
            ]
          },
          "metadata": {},
          "execution_count": 45
        }
      ]
    },
    {
      "cell_type": "code",
      "metadata": {
        "id": "43a08075-bee6-4725-b0e1-29f61f952165"
      },
      "source": [
        ""
      ],
      "id": "43a08075-bee6-4725-b0e1-29f61f952165",
      "execution_count": null,
      "outputs": []
    }
  ]
}