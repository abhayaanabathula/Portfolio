{
 "cells": [
  {
   "cell_type": "markdown",
   "id": "ff16aafe-c821-4f80-985b-2c14f8c5f4ca",
   "metadata": {},
   "source": [
    "# Initial Data Cleaning "
   ]
  },
  {
   "cell_type": "markdown",
   "id": "d9ba5a1c-61f6-4bde-bb92-e68faa7ba2ef",
   "metadata": {},
   "source": [
    "### Imports "
   ]
  },
  {
   "cell_type": "code",
   "execution_count": 1,
   "id": "05e28d88-7bb6-4069-bd55-e5912b234e87",
   "metadata": {},
   "outputs": [],
   "source": [
    "import pandas as pd \n",
    "import numpy as np \n",
    "import matplotlib.pyplot as plt"
   ]
  },
  {
   "cell_type": "code",
   "execution_count": 2,
   "id": "6b92e5d9-3362-42c6-8c3d-c318099c2e28",
   "metadata": {},
   "outputs": [],
   "source": [
    "pd.set_option('display.max_rows', 101)"
   ]
  },
  {
   "cell_type": "code",
   "execution_count": 3,
   "id": "77427d40-e5dc-425d-a3c9-4edb2391afad",
   "metadata": {},
   "outputs": [],
   "source": [
    "train = pd.read_csv('datasets/Final_Train_Dataset.csv', index_col=0)"
   ]
  },
  {
   "cell_type": "code",
   "execution_count": 4,
   "id": "ffda167b-54a7-4d10-a5ca-c4aea19c08f6",
   "metadata": {},
   "outputs": [],
   "source": [
    "test = pd.read_csv('datasets/Final_Test_Dataset.csv', index_col=0)"
   ]
  },
  {
   "cell_type": "code",
   "execution_count": 5,
   "id": "5e6e8452-cd26-418e-9485-ddf322bd0680",
   "metadata": {},
   "outputs": [
    {
     "data": {
      "text/html": [
       "<div>\n",
       "<style scoped>\n",
       "    .dataframe tbody tr th:only-of-type {\n",
       "        vertical-align: middle;\n",
       "    }\n",
       "\n",
       "    .dataframe tbody tr th {\n",
       "        vertical-align: top;\n",
       "    }\n",
       "\n",
       "    .dataframe thead th {\n",
       "        text-align: right;\n",
       "    }\n",
       "</style>\n",
       "<table border=\"1\" class=\"dataframe\">\n",
       "  <thead>\n",
       "    <tr style=\"text-align: right;\">\n",
       "      <th></th>\n",
       "      <th>experience</th>\n",
       "      <th>job_description</th>\n",
       "      <th>job_desig</th>\n",
       "      <th>job_type</th>\n",
       "      <th>key_skills</th>\n",
       "      <th>location</th>\n",
       "      <th>salary</th>\n",
       "      <th>company_name_encoded</th>\n",
       "    </tr>\n",
       "  </thead>\n",
       "  <tbody>\n",
       "    <tr>\n",
       "      <th>0</th>\n",
       "      <td>5-7 yrs</td>\n",
       "      <td>Exp: Minimum 5 years;Good understanding of IOC...</td>\n",
       "      <td>Senior Exploit and Vulnerability Researcher</td>\n",
       "      <td>NaN</td>\n",
       "      <td>team skills, communication skills, analytical ...</td>\n",
       "      <td>Delhi NCR(Vikas Puri)</td>\n",
       "      <td>6to10</td>\n",
       "      <td>3687</td>\n",
       "    </tr>\n",
       "    <tr>\n",
       "      <th>1</th>\n",
       "      <td>10-17 yrs</td>\n",
       "      <td>He should have handled a team of atleast 5-6 d...</td>\n",
       "      <td>Head SCM</td>\n",
       "      <td>NaN</td>\n",
       "      <td>ppc, logistics, inventory management, supply c...</td>\n",
       "      <td>Sonepat</td>\n",
       "      <td>10to15</td>\n",
       "      <td>458</td>\n",
       "    </tr>\n",
       "    <tr>\n",
       "      <th>2</th>\n",
       "      <td>5-9 yrs</td>\n",
       "      <td>Must be an effective communicator (written &amp; s...</td>\n",
       "      <td>Deputy Manager - Talent Management &amp; Leadershi...</td>\n",
       "      <td>Analytics</td>\n",
       "      <td>HR Analytics, Employee Engagement, Training, S...</td>\n",
       "      <td>Delhi NCR</td>\n",
       "      <td>15to25</td>\n",
       "      <td>4195</td>\n",
       "    </tr>\n",
       "    <tr>\n",
       "      <th>3</th>\n",
       "      <td>7-10 yrs</td>\n",
       "      <td>7  -  10 years of overall experience in data e...</td>\n",
       "      <td>Associate Manager Data Engineering</td>\n",
       "      <td>Analytics</td>\n",
       "      <td>SQL, Javascript, Automation, Python, Ruby, Ana...</td>\n",
       "      <td>Bengaluru</td>\n",
       "      <td>10to15</td>\n",
       "      <td>313</td>\n",
       "    </tr>\n",
       "    <tr>\n",
       "      <th>4</th>\n",
       "      <td>1-3 yrs</td>\n",
       "      <td>Chartered Accountancy degree or MBA in Finance...</td>\n",
       "      <td>TS- GSA- Senior Analyst</td>\n",
       "      <td>NaN</td>\n",
       "      <td>accounting, finance, cash flow, financial plan...</td>\n",
       "      <td>Gurgaon</td>\n",
       "      <td>3to6</td>\n",
       "      <td>1305</td>\n",
       "    </tr>\n",
       "  </tbody>\n",
       "</table>\n",
       "</div>"
      ],
      "text/plain": [
       "  experience                                    job_description  \\\n",
       "0    5-7 yrs  Exp: Minimum 5 years;Good understanding of IOC...   \n",
       "1  10-17 yrs  He should have handled a team of atleast 5-6 d...   \n",
       "2    5-9 yrs  Must be an effective communicator (written & s...   \n",
       "3   7-10 yrs  7  -  10 years of overall experience in data e...   \n",
       "4    1-3 yrs  Chartered Accountancy degree or MBA in Finance...   \n",
       "\n",
       "                                           job_desig   job_type  \\\n",
       "0        Senior Exploit and Vulnerability Researcher        NaN   \n",
       "1                                           Head SCM        NaN   \n",
       "2  Deputy Manager - Talent Management & Leadershi...  Analytics   \n",
       "3                 Associate Manager Data Engineering  Analytics   \n",
       "4                            TS- GSA- Senior Analyst        NaN   \n",
       "\n",
       "                                          key_skills               location  \\\n",
       "0  team skills, communication skills, analytical ...  Delhi NCR(Vikas Puri)   \n",
       "1  ppc, logistics, inventory management, supply c...                Sonepat   \n",
       "2  HR Analytics, Employee Engagement, Training, S...              Delhi NCR   \n",
       "3  SQL, Javascript, Automation, Python, Ruby, Ana...              Bengaluru   \n",
       "4  accounting, finance, cash flow, financial plan...                Gurgaon   \n",
       "\n",
       "   salary  company_name_encoded  \n",
       "0   6to10                  3687  \n",
       "1  10to15                   458  \n",
       "2  15to25                  4195  \n",
       "3  10to15                   313  \n",
       "4    3to6                  1305  "
      ]
     },
     "execution_count": 5,
     "metadata": {},
     "output_type": "execute_result"
    }
   ],
   "source": [
    "train.head()"
   ]
  },
  {
   "cell_type": "code",
   "execution_count": 6,
   "id": "b30d18a5-a3b2-445e-8eac-6df719bb8985",
   "metadata": {},
   "outputs": [
    {
     "data": {
      "text/plain": [
       "(19802, 8)"
      ]
     },
     "execution_count": 6,
     "metadata": {},
     "output_type": "execute_result"
    }
   ],
   "source": [
    "train.shape"
   ]
  },
  {
   "cell_type": "code",
   "execution_count": 7,
   "id": "d0bc742b-bf59-4225-9ade-a70e546c18e8",
   "metadata": {},
   "outputs": [
    {
     "data": {
      "text/plain": [
       "job_type                0.757752\n",
       "job_description         0.223109\n",
       "key_skills              0.000050\n",
       "experience              0.000000\n",
       "job_desig               0.000000\n",
       "location                0.000000\n",
       "salary                  0.000000\n",
       "company_name_encoded    0.000000\n",
       "dtype: float64"
      ]
     },
     "execution_count": 7,
     "metadata": {},
     "output_type": "execute_result"
    }
   ],
   "source": [
    "train.isnull().mean().sort_values(ascending=False)"
   ]
  },
  {
   "cell_type": "code",
   "execution_count": 8,
   "id": "718d81c9-30a1-412d-a915-d6f449c9fda8",
   "metadata": {},
   "outputs": [],
   "source": [
    "train = train[train['key_skills'].notna()]"
   ]
  },
  {
   "cell_type": "code",
   "execution_count": 9,
   "id": "09b2c18c-f255-41de-81bb-13cb496dda61",
   "metadata": {},
   "outputs": [
    {
     "data": {
      "text/plain": [
       "job_type                15005\n",
       "job_description          4417\n",
       "experience                  0\n",
       "job_desig                   0\n",
       "key_skills                  0\n",
       "location                    0\n",
       "salary                      0\n",
       "company_name_encoded        0\n",
       "dtype: int64"
      ]
     },
     "execution_count": 9,
     "metadata": {},
     "output_type": "execute_result"
    }
   ],
   "source": [
    "train.isnull().sum().sort_values(ascending=False)"
   ]
  },
  {
   "cell_type": "code",
   "execution_count": 10,
   "id": "c0451651-1b45-4ca9-85a2-628694943dbf",
   "metadata": {
    "tags": []
   },
   "outputs": [
    {
     "data": {
      "text/html": [
       "<div>\n",
       "<style scoped>\n",
       "    .dataframe tbody tr th:only-of-type {\n",
       "        vertical-align: middle;\n",
       "    }\n",
       "\n",
       "    .dataframe tbody tr th {\n",
       "        vertical-align: top;\n",
       "    }\n",
       "\n",
       "    .dataframe thead th {\n",
       "        text-align: right;\n",
       "    }\n",
       "</style>\n",
       "<table border=\"1\" class=\"dataframe\">\n",
       "  <thead>\n",
       "    <tr style=\"text-align: right;\">\n",
       "      <th></th>\n",
       "      <th>experience</th>\n",
       "      <th>job_description</th>\n",
       "      <th>job_desig</th>\n",
       "      <th>job_type</th>\n",
       "      <th>key_skills</th>\n",
       "      <th>location</th>\n",
       "      <th>salary</th>\n",
       "      <th>company_name_encoded</th>\n",
       "    </tr>\n",
       "  </thead>\n",
       "  <tbody>\n",
       "    <tr>\n",
       "      <th>26</th>\n",
       "      <td>3-7 yrs</td>\n",
       "      <td>NaN</td>\n",
       "      <td>E Commerce Manager,</td>\n",
       "      <td>NaN</td>\n",
       "      <td>amazon, E - commerce, PORTAL HANDLING, Busines...</td>\n",
       "      <td>Ahmedabad(Bopal)</td>\n",
       "      <td>3to6</td>\n",
       "      <td>895</td>\n",
       "    </tr>\n",
       "    <tr>\n",
       "      <th>37</th>\n",
       "      <td>2-5 yrs</td>\n",
       "      <td>NaN</td>\n",
       "      <td>IBM Netezza</td>\n",
       "      <td>Analytics</td>\n",
       "      <td>SQL, Oracle, Python, Analytics, Data migration...</td>\n",
       "      <td>Bengaluru</td>\n",
       "      <td>6to10</td>\n",
       "      <td>190</td>\n",
       "    </tr>\n",
       "    <tr>\n",
       "      <th>41</th>\n",
       "      <td>2-5 yrs</td>\n",
       "      <td>NaN</td>\n",
       "      <td>Business Development Executive</td>\n",
       "      <td>NaN</td>\n",
       "      <td>cold calling, digital marketing, social media,...</td>\n",
       "      <td>Chennai</td>\n",
       "      <td>3to6</td>\n",
       "      <td>4946</td>\n",
       "    </tr>\n",
       "    <tr>\n",
       "      <th>44</th>\n",
       "      <td>5-9 yrs</td>\n",
       "      <td>NaN</td>\n",
       "      <td>CN - Strategy - MC - Resources - Utilities - 06</td>\n",
       "      <td>Analytics</td>\n",
       "      <td>Analytics, System integration, Asset managemen...</td>\n",
       "      <td>Gurgaon</td>\n",
       "      <td>10to15</td>\n",
       "      <td>191</td>\n",
       "    </tr>\n",
       "    <tr>\n",
       "      <th>58</th>\n",
       "      <td>0-5 yrs</td>\n",
       "      <td>NaN</td>\n",
       "      <td>Data Entry/home Base Job/ Online Work/part Tim...</td>\n",
       "      <td>NaN</td>\n",
       "      <td>part time, freelancing, data entry, present jo...</td>\n",
       "      <td>Udaipur, Ajmer, Kota, Sangrur, Aurangabad, Muz...</td>\n",
       "      <td>0to3</td>\n",
       "      <td>1153</td>\n",
       "    </tr>\n",
       "    <tr>\n",
       "      <th>...</th>\n",
       "      <td>...</td>\n",
       "      <td>...</td>\n",
       "      <td>...</td>\n",
       "      <td>...</td>\n",
       "      <td>...</td>\n",
       "      <td>...</td>\n",
       "      <td>...</td>\n",
       "      <td>...</td>\n",
       "    </tr>\n",
       "    <tr>\n",
       "      <th>19775</th>\n",
       "      <td>1-5 yrs</td>\n",
       "      <td>NaN</td>\n",
       "      <td>R1rcm- Accretive Analyst/ Senior Analyst Backe...</td>\n",
       "      <td>NaN</td>\n",
       "      <td>bpo, kpo, non bpo, night shift, us process, uk...</td>\n",
       "      <td>Gurgaon</td>\n",
       "      <td>0to3</td>\n",
       "      <td>2094</td>\n",
       "    </tr>\n",
       "    <tr>\n",
       "      <th>19776</th>\n",
       "      <td>0-1 yrs</td>\n",
       "      <td>NaN</td>\n",
       "      <td>Software Sales CRM</td>\n",
       "      <td>analytics</td>\n",
       "      <td>software sales, selling, predictive analytics,...</td>\n",
       "      <td>Hyderabad(Madhapur)</td>\n",
       "      <td>0to3</td>\n",
       "      <td>269</td>\n",
       "    </tr>\n",
       "    <tr>\n",
       "      <th>19782</th>\n",
       "      <td>1-4 yrs</td>\n",
       "      <td>NaN</td>\n",
       "      <td>Credit Manager,</td>\n",
       "      <td>NaN</td>\n",
       "      <td>Financial Analysis, Credit Analysis, Finance, ...</td>\n",
       "      <td>Delhi NCR(Peeragarhi)</td>\n",
       "      <td>0to3</td>\n",
       "      <td>3940</td>\n",
       "    </tr>\n",
       "    <tr>\n",
       "      <th>19797</th>\n",
       "      <td>12-18 yrs</td>\n",
       "      <td>NaN</td>\n",
       "      <td>Director, Medical Coding Training</td>\n",
       "      <td>NaN</td>\n",
       "      <td>Medical Coding, ICD - 10, US Healthcare, RCM, ...</td>\n",
       "      <td>Hyderabad</td>\n",
       "      <td>15to25</td>\n",
       "      <td>2245</td>\n",
       "    </tr>\n",
       "    <tr>\n",
       "      <th>19798</th>\n",
       "      <td>0-3 yrs</td>\n",
       "      <td>NaN</td>\n",
       "      <td>Looking For Freshers WHO WANT To Work WITH US</td>\n",
       "      <td>NaN</td>\n",
       "      <td>offline, online, part time, home base, work fr...</td>\n",
       "      <td>Mumbai, Bengaluru, Chennai, Hyderabad, Dehradu...</td>\n",
       "      <td>0to3</td>\n",
       "      <td>4966</td>\n",
       "    </tr>\n",
       "  </tbody>\n",
       "</table>\n",
       "<p>4417 rows × 8 columns</p>\n",
       "</div>"
      ],
      "text/plain": [
       "      experience job_description  \\\n",
       "26       3-7 yrs             NaN   \n",
       "37       2-5 yrs             NaN   \n",
       "41       2-5 yrs             NaN   \n",
       "44       5-9 yrs             NaN   \n",
       "58       0-5 yrs             NaN   \n",
       "...          ...             ...   \n",
       "19775    1-5 yrs             NaN   \n",
       "19776    0-1 yrs             NaN   \n",
       "19782    1-4 yrs             NaN   \n",
       "19797  12-18 yrs             NaN   \n",
       "19798    0-3 yrs             NaN   \n",
       "\n",
       "                                               job_desig   job_type  \\\n",
       "26                                   E Commerce Manager,        NaN   \n",
       "37                                           IBM Netezza  Analytics   \n",
       "41                        Business Development Executive        NaN   \n",
       "44       CN - Strategy - MC - Resources - Utilities - 06  Analytics   \n",
       "58     Data Entry/home Base Job/ Online Work/part Tim...        NaN   \n",
       "...                                                  ...        ...   \n",
       "19775  R1rcm- Accretive Analyst/ Senior Analyst Backe...        NaN   \n",
       "19776                                 Software Sales CRM  analytics   \n",
       "19782                                    Credit Manager,        NaN   \n",
       "19797                  Director, Medical Coding Training        NaN   \n",
       "19798      Looking For Freshers WHO WANT To Work WITH US        NaN   \n",
       "\n",
       "                                              key_skills  \\\n",
       "26     amazon, E - commerce, PORTAL HANDLING, Busines...   \n",
       "37     SQL, Oracle, Python, Analytics, Data migration...   \n",
       "41     cold calling, digital marketing, social media,...   \n",
       "44     Analytics, System integration, Asset managemen...   \n",
       "58     part time, freelancing, data entry, present jo...   \n",
       "...                                                  ...   \n",
       "19775  bpo, kpo, non bpo, night shift, us process, uk...   \n",
       "19776  software sales, selling, predictive analytics,...   \n",
       "19782  Financial Analysis, Credit Analysis, Finance, ...   \n",
       "19797  Medical Coding, ICD - 10, US Healthcare, RCM, ...   \n",
       "19798  offline, online, part time, home base, work fr...   \n",
       "\n",
       "                                                location  salary  \\\n",
       "26                                      Ahmedabad(Bopal)    3to6   \n",
       "37                                             Bengaluru   6to10   \n",
       "41                                               Chennai    3to6   \n",
       "44                                               Gurgaon  10to15   \n",
       "58     Udaipur, Ajmer, Kota, Sangrur, Aurangabad, Muz...    0to3   \n",
       "...                                                  ...     ...   \n",
       "19775                                            Gurgaon    0to3   \n",
       "19776                                Hyderabad(Madhapur)    0to3   \n",
       "19782                              Delhi NCR(Peeragarhi)    0to3   \n",
       "19797                                          Hyderabad  15to25   \n",
       "19798  Mumbai, Bengaluru, Chennai, Hyderabad, Dehradu...    0to3   \n",
       "\n",
       "       company_name_encoded  \n",
       "26                      895  \n",
       "37                      190  \n",
       "41                     4946  \n",
       "44                      191  \n",
       "58                     1153  \n",
       "...                     ...  \n",
       "19775                  2094  \n",
       "19776                   269  \n",
       "19782                  3940  \n",
       "19797                  2245  \n",
       "19798                  4966  \n",
       "\n",
       "[4417 rows x 8 columns]"
      ]
     },
     "execution_count": 10,
     "metadata": {},
     "output_type": "execute_result"
    }
   ],
   "source": [
    "train[train['job_description'].isnull()]"
   ]
  },
  {
   "cell_type": "markdown",
   "id": "54e4cf1f-a935-4709-9392-1b68b5deabb5",
   "metadata": {},
   "source": [
    "### Fill in missing job descriptions with 'not_specified'"
   ]
  },
  {
   "cell_type": "code",
   "execution_count": 11,
   "id": "72a120bc-df4d-46fa-b961-eec4342252cf",
   "metadata": {},
   "outputs": [],
   "source": [
    "train.fillna('not_specified', inplace=True)"
   ]
  },
  {
   "cell_type": "code",
   "execution_count": 12,
   "id": "0ad0c346-e656-4b9e-be7a-d461c269280c",
   "metadata": {},
   "outputs": [
    {
     "data": {
      "text/plain": [
       "experience              0\n",
       "job_description         0\n",
       "job_desig               0\n",
       "job_type                0\n",
       "key_skills              0\n",
       "location                0\n",
       "salary                  0\n",
       "company_name_encoded    0\n",
       "dtype: int64"
      ]
     },
     "execution_count": 12,
     "metadata": {},
     "output_type": "execute_result"
    }
   ],
   "source": [
    "train.isnull().sum()"
   ]
  },
  {
   "cell_type": "code",
   "execution_count": 13,
   "id": "4218d0ff-b5bd-4959-8595-eda0ab2fe6cc",
   "metadata": {},
   "outputs": [
    {
     "data": {
      "text/plain": [
       "array(['5-7 yrs', '10-17 yrs', '5-9 yrs', '7-10 yrs', '1-3 yrs',\n",
       "       '5-10 yrs', '13-15 yrs', '6-10 yrs', '2-6 yrs', '3-7 yrs',\n",
       "       '10-12 yrs', '2-4 yrs', '1-6 yrs', '3-6 yrs', '5-8 yrs', '4-9 yrs',\n",
       "       '3-5 yrs', '1-5 yrs', '8-12 yrs', '1-4 yrs', '10-20 yrs',\n",
       "       '2-5 yrs', '6-11 yrs', '4-8 yrs', '3-4 yrs', '2-7 yrs', '7-12 yrs',\n",
       "       '7-8 yrs', '14-16 yrs', '8-10 yrs', '0-5 yrs', '10-14 yrs',\n",
       "       '8-11 yrs', '12-20 yrs', '3-8 yrs', '1-2 yrs', '8-13 yrs',\n",
       "       '9-12 yrs', '10-15 yrs', '0-2 yrs', '11-15 yrs', '15-25 yrs',\n",
       "       '6-9 yrs', '12-15 yrs', '0-3 yrs', '4-7 yrs', '4-6 yrs',\n",
       "       '14-20 yrs', '2-3 yrs', '9-14 yrs', '12-17 yrs', '15-20 yrs',\n",
       "       '0-1 yrs', '0-0 yrs', '12-16 yrs', '6-8 yrs', '0-4 yrs',\n",
       "       '20-30 yrs', '7-9 yrs', '17-23 yrs', '4-5 yrs', '12-18 yrs',\n",
       "       '10-16 yrs', '6-7 yrs', '10-18 yrs', '12-22 yrs', '15-24 yrs',\n",
       "       '2-2 yrs', '8-9 yrs', '14-24 yrs', '13-23 yrs', '10-13 yrs',\n",
       "       '1-1 yrs', '9-13 yrs', '15-18 yrs', '11-18 yrs', '7-11 yrs',\n",
       "       '10-19 yrs', '11-14 yrs', '9-11 yrs', '5-6 yrs', '11-17 yrs',\n",
       "       '12-14 yrs', '13-17 yrs', '13-20 yrs', '11-20 yrs', '11-13 yrs',\n",
       "       '9-10 yrs', '15-16 yrs', '18-25 yrs', '13-18 yrs', '15-22 yrs',\n",
       "       '11-16 yrs', '15-17 yrs', '20-28 yrs', '14-21 yrs', '14-15 yrs',\n",
       "       '10-10 yrs', '13-14 yrs', '14-18 yrs', '19-25 yrs', '13-19 yrs',\n",
       "       '16-26 yrs', '14-22 yrs', '18-22 yrs', '18-20 yrs', '11-12 yrs',\n",
       "       '20-22 yrs', '13-16 yrs', '14-17 yrs', '15-21 yrs', '8-8 yrs',\n",
       "       '12-19 yrs', '16-20 yrs', '14-19 yrs', '19-23 yrs', '11-21 yrs',\n",
       "       '10-11 yrs', '5-5 yrs', '17-24 yrs', '12-13 yrs', '4-4 yrs',\n",
       "       '16-18 yrs', '16-22 yrs', '20-26 yrs', '17-19 yrs', '17-25 yrs',\n",
       "       '20-25 yrs', '23-30 yrs'], dtype=object)"
      ]
     },
     "execution_count": 13,
     "metadata": {},
     "output_type": "execute_result"
    }
   ],
   "source": [
    "train['experience'].unique()"
   ]
  },
  {
   "cell_type": "code",
   "execution_count": 14,
   "id": "21bc2011-70f8-4624-9112-952b9ca10710",
   "metadata": {},
   "outputs": [
    {
     "data": {
      "text/plain": [
       "array(['Delhi NCR(Vikas Puri)', 'Sonepat', 'Delhi NCR', ...,\n",
       "       'Bengaluru, Mumbai, Gurgaon, Gurugram', 'Amravati',\n",
       "       'Mumbai, Bengaluru, Chennai, Hyderabad, Dehradun, Gurgaon'],\n",
       "      dtype=object)"
      ]
     },
     "execution_count": 14,
     "metadata": {},
     "output_type": "execute_result"
    }
   ],
   "source": [
    "train['location'].unique()"
   ]
  },
  {
   "cell_type": "code",
   "execution_count": 15,
   "id": "94c50c5a-bcbd-41b6-8c0c-6b28c7659210",
   "metadata": {},
   "outputs": [
    {
     "name": "stdout",
     "output_type": "stream",
     "text": [
      "Bengaluru                                                   4168\n",
      "Mumbai                                                      2507\n",
      "Gurgaon                                                     1644\n",
      "Pune                                                        1193\n",
      "Hyderabad                                                   1083\n",
      "                                                            ... \n",
      "Pune(Paud Road)                                                1\n",
      "Bengaluru(Kaggadasapura)                                       1\n",
      "Pune, Jaipur                                                   1\n",
      "Delhi NCR, Mumbai(Vikhroli)                                    1\n",
      "Mumbai, Bengaluru, Chennai, Hyderabad, Dehradun, Gurgaon       1\n",
      "Name: location, Length: 1504, dtype: int64\n"
     ]
    }
   ],
   "source": [
    "print(train['location'].value_counts())"
   ]
  },
  {
   "cell_type": "code",
   "execution_count": 16,
   "id": "4655474d-f7a6-46b0-9faa-ec61deb5d1f8",
   "metadata": {},
   "outputs": [
    {
     "data": {
      "text/plain": [
       "array(['not_specified', 'Analytics', 'analytics', 'Analytic', 'ANALYTICS',\n",
       "       'analytic'], dtype=object)"
      ]
     },
     "execution_count": 16,
     "metadata": {},
     "output_type": "execute_result"
    }
   ],
   "source": [
    "# the only job_type is analytics just with different cases \n",
    "train['job_type'].unique()"
   ]
  },
  {
   "cell_type": "code",
   "execution_count": 17,
   "id": "36e12fd2-c12d-450e-af04-fe225a597297",
   "metadata": {},
   "outputs": [
    {
     "data": {
      "text/plain": [
       "array([nan, 'Analytics', 'analytics', 'ANALYTICS', 'Analytic', 'analytic'],\n",
       "      dtype=object)"
      ]
     },
     "execution_count": 17,
     "metadata": {},
     "output_type": "execute_result"
    }
   ],
   "source": [
    "# same thing with the test data \n",
    "test['job_type'].unique()"
   ]
  },
  {
   "cell_type": "markdown",
   "id": "2e7c7a7f-f543-4f95-82a5-774292fb2a6c",
   "metadata": {},
   "source": [
    "### I can go ahead and drop the job_type column"
   ]
  },
  {
   "cell_type": "code",
   "execution_count": 18,
   "id": "bee54b59-e11c-4386-9e38-d5571ea95630",
   "metadata": {},
   "outputs": [],
   "source": [
    "train.drop(columns={'job_type'}, inplace=True)"
   ]
  },
  {
   "cell_type": "markdown",
   "id": "a51bf451-e22b-4417-83a4-054f793bd41d",
   "metadata": {},
   "source": [
    "### I can also drop the company_name_encoded column "
   ]
  },
  {
   "cell_type": "code",
   "execution_count": 19,
   "id": "180e951d-a14d-4da0-86e8-9e3b549bc538",
   "metadata": {},
   "outputs": [],
   "source": [
    "train.drop(columns={'company_name_encoded'}, inplace=True)"
   ]
  },
  {
   "cell_type": "code",
   "execution_count": 20,
   "id": "1c84f8b8-16bf-48fd-b52a-fa8304bdc550",
   "metadata": {},
   "outputs": [
    {
     "data": {
      "text/html": [
       "<div>\n",
       "<style scoped>\n",
       "    .dataframe tbody tr th:only-of-type {\n",
       "        vertical-align: middle;\n",
       "    }\n",
       "\n",
       "    .dataframe tbody tr th {\n",
       "        vertical-align: top;\n",
       "    }\n",
       "\n",
       "    .dataframe thead th {\n",
       "        text-align: right;\n",
       "    }\n",
       "</style>\n",
       "<table border=\"1\" class=\"dataframe\">\n",
       "  <thead>\n",
       "    <tr style=\"text-align: right;\">\n",
       "      <th></th>\n",
       "      <th>experience</th>\n",
       "      <th>job_description</th>\n",
       "      <th>job_desig</th>\n",
       "      <th>key_skills</th>\n",
       "      <th>location</th>\n",
       "      <th>salary</th>\n",
       "    </tr>\n",
       "  </thead>\n",
       "  <tbody>\n",
       "    <tr>\n",
       "      <th>0</th>\n",
       "      <td>5-7 yrs</td>\n",
       "      <td>Exp: Minimum 5 years;Good understanding of IOC...</td>\n",
       "      <td>Senior Exploit and Vulnerability Researcher</td>\n",
       "      <td>team skills, communication skills, analytical ...</td>\n",
       "      <td>Delhi NCR(Vikas Puri)</td>\n",
       "      <td>6to10</td>\n",
       "    </tr>\n",
       "    <tr>\n",
       "      <th>1</th>\n",
       "      <td>10-17 yrs</td>\n",
       "      <td>He should have handled a team of atleast 5-6 d...</td>\n",
       "      <td>Head SCM</td>\n",
       "      <td>ppc, logistics, inventory management, supply c...</td>\n",
       "      <td>Sonepat</td>\n",
       "      <td>10to15</td>\n",
       "    </tr>\n",
       "    <tr>\n",
       "      <th>2</th>\n",
       "      <td>5-9 yrs</td>\n",
       "      <td>Must be an effective communicator (written &amp; s...</td>\n",
       "      <td>Deputy Manager - Talent Management &amp; Leadershi...</td>\n",
       "      <td>HR Analytics, Employee Engagement, Training, S...</td>\n",
       "      <td>Delhi NCR</td>\n",
       "      <td>15to25</td>\n",
       "    </tr>\n",
       "    <tr>\n",
       "      <th>3</th>\n",
       "      <td>7-10 yrs</td>\n",
       "      <td>7  -  10 years of overall experience in data e...</td>\n",
       "      <td>Associate Manager Data Engineering</td>\n",
       "      <td>SQL, Javascript, Automation, Python, Ruby, Ana...</td>\n",
       "      <td>Bengaluru</td>\n",
       "      <td>10to15</td>\n",
       "    </tr>\n",
       "    <tr>\n",
       "      <th>4</th>\n",
       "      <td>1-3 yrs</td>\n",
       "      <td>Chartered Accountancy degree or MBA in Finance...</td>\n",
       "      <td>TS- GSA- Senior Analyst</td>\n",
       "      <td>accounting, finance, cash flow, financial plan...</td>\n",
       "      <td>Gurgaon</td>\n",
       "      <td>3to6</td>\n",
       "    </tr>\n",
       "  </tbody>\n",
       "</table>\n",
       "</div>"
      ],
      "text/plain": [
       "  experience                                    job_description  \\\n",
       "0    5-7 yrs  Exp: Minimum 5 years;Good understanding of IOC...   \n",
       "1  10-17 yrs  He should have handled a team of atleast 5-6 d...   \n",
       "2    5-9 yrs  Must be an effective communicator (written & s...   \n",
       "3   7-10 yrs  7  -  10 years of overall experience in data e...   \n",
       "4    1-3 yrs  Chartered Accountancy degree or MBA in Finance...   \n",
       "\n",
       "                                           job_desig  \\\n",
       "0        Senior Exploit and Vulnerability Researcher   \n",
       "1                                           Head SCM   \n",
       "2  Deputy Manager - Talent Management & Leadershi...   \n",
       "3                 Associate Manager Data Engineering   \n",
       "4                            TS- GSA- Senior Analyst   \n",
       "\n",
       "                                          key_skills               location  \\\n",
       "0  team skills, communication skills, analytical ...  Delhi NCR(Vikas Puri)   \n",
       "1  ppc, logistics, inventory management, supply c...                Sonepat   \n",
       "2  HR Analytics, Employee Engagement, Training, S...              Delhi NCR   \n",
       "3  SQL, Javascript, Automation, Python, Ruby, Ana...              Bengaluru   \n",
       "4  accounting, finance, cash flow, financial plan...                Gurgaon   \n",
       "\n",
       "   salary  \n",
       "0   6to10  \n",
       "1  10to15  \n",
       "2  15to25  \n",
       "3  10to15  \n",
       "4    3to6  "
      ]
     },
     "execution_count": 20,
     "metadata": {},
     "output_type": "execute_result"
    }
   ],
   "source": [
    "train.head()"
   ]
  },
  {
   "cell_type": "markdown",
   "id": "631ce804-36da-424f-8da2-af4ef41c1939",
   "metadata": {},
   "source": [
    "### Create min_experience and max_experience columns from the experience column"
   ]
  },
  {
   "cell_type": "code",
   "execution_count": 21,
   "id": "6777f7dc-8103-4432-83e3-34c5d776086e",
   "metadata": {
    "tags": []
   },
   "outputs": [],
   "source": [
    "train['min_experience'] = [int(each.split('-')[0]) for each in train['experience']]"
   ]
  },
  {
   "cell_type": "code",
   "execution_count": 22,
   "id": "0efc4bbf-8e30-4ff9-a880-741a7b2c47b8",
   "metadata": {},
   "outputs": [],
   "source": [
    "train['max_experience'] = [int(each.split('-')[1].split(' ')[0]) for each in train['experience']]"
   ]
  },
  {
   "cell_type": "markdown",
   "id": "18b07b60-6a2e-4b06-bf63-d2775c59be20",
   "metadata": {},
   "source": [
    "### Create average_salary column from salary column, average_salary column will become target variable "
   ]
  },
  {
   "cell_type": "code",
   "execution_count": 23,
   "id": "80c48e8d-fa22-47ce-b824-0fc460c95748",
   "metadata": {
    "tags": []
   },
   "outputs": [],
   "source": [
    "train['min_salary'] = [int(each.split('to')[0]) for each in train['salary']]"
   ]
  },
  {
   "cell_type": "code",
   "execution_count": 24,
   "id": "45f6d8f6-e8fd-4927-88f0-3562a54fdec2",
   "metadata": {},
   "outputs": [],
   "source": [
    "train['max_salary'] = [int(each.split('to')[1]) for each in train['salary']]"
   ]
  },
  {
   "cell_type": "code",
   "execution_count": 25,
   "id": "cc9dfafb-7caa-4c59-827b-3afdf8bfd820",
   "metadata": {},
   "outputs": [],
   "source": [
    "train['average_salary'] = train['min_salary'] + train['max_salary']/2"
   ]
  },
  {
   "cell_type": "code",
   "execution_count": 26,
   "id": "a8052a64-1cb5-45ed-a087-5d1991d0bb65",
   "metadata": {},
   "outputs": [
    {
     "data": {
      "text/html": [
       "<div>\n",
       "<style scoped>\n",
       "    .dataframe tbody tr th:only-of-type {\n",
       "        vertical-align: middle;\n",
       "    }\n",
       "\n",
       "    .dataframe tbody tr th {\n",
       "        vertical-align: top;\n",
       "    }\n",
       "\n",
       "    .dataframe thead th {\n",
       "        text-align: right;\n",
       "    }\n",
       "</style>\n",
       "<table border=\"1\" class=\"dataframe\">\n",
       "  <thead>\n",
       "    <tr style=\"text-align: right;\">\n",
       "      <th></th>\n",
       "      <th>experience</th>\n",
       "      <th>job_description</th>\n",
       "      <th>job_desig</th>\n",
       "      <th>key_skills</th>\n",
       "      <th>location</th>\n",
       "      <th>salary</th>\n",
       "      <th>min_experience</th>\n",
       "      <th>max_experience</th>\n",
       "      <th>min_salary</th>\n",
       "      <th>max_salary</th>\n",
       "      <th>average_salary</th>\n",
       "    </tr>\n",
       "  </thead>\n",
       "  <tbody>\n",
       "    <tr>\n",
       "      <th>0</th>\n",
       "      <td>5-7 yrs</td>\n",
       "      <td>Exp: Minimum 5 years;Good understanding of IOC...</td>\n",
       "      <td>Senior Exploit and Vulnerability Researcher</td>\n",
       "      <td>team skills, communication skills, analytical ...</td>\n",
       "      <td>Delhi NCR(Vikas Puri)</td>\n",
       "      <td>6to10</td>\n",
       "      <td>5</td>\n",
       "      <td>7</td>\n",
       "      <td>6</td>\n",
       "      <td>10</td>\n",
       "      <td>11.0</td>\n",
       "    </tr>\n",
       "    <tr>\n",
       "      <th>1</th>\n",
       "      <td>10-17 yrs</td>\n",
       "      <td>He should have handled a team of atleast 5-6 d...</td>\n",
       "      <td>Head SCM</td>\n",
       "      <td>ppc, logistics, inventory management, supply c...</td>\n",
       "      <td>Sonepat</td>\n",
       "      <td>10to15</td>\n",
       "      <td>10</td>\n",
       "      <td>17</td>\n",
       "      <td>10</td>\n",
       "      <td>15</td>\n",
       "      <td>17.5</td>\n",
       "    </tr>\n",
       "    <tr>\n",
       "      <th>2</th>\n",
       "      <td>5-9 yrs</td>\n",
       "      <td>Must be an effective communicator (written &amp; s...</td>\n",
       "      <td>Deputy Manager - Talent Management &amp; Leadershi...</td>\n",
       "      <td>HR Analytics, Employee Engagement, Training, S...</td>\n",
       "      <td>Delhi NCR</td>\n",
       "      <td>15to25</td>\n",
       "      <td>5</td>\n",
       "      <td>9</td>\n",
       "      <td>15</td>\n",
       "      <td>25</td>\n",
       "      <td>27.5</td>\n",
       "    </tr>\n",
       "    <tr>\n",
       "      <th>3</th>\n",
       "      <td>7-10 yrs</td>\n",
       "      <td>7  -  10 years of overall experience in data e...</td>\n",
       "      <td>Associate Manager Data Engineering</td>\n",
       "      <td>SQL, Javascript, Automation, Python, Ruby, Ana...</td>\n",
       "      <td>Bengaluru</td>\n",
       "      <td>10to15</td>\n",
       "      <td>7</td>\n",
       "      <td>10</td>\n",
       "      <td>10</td>\n",
       "      <td>15</td>\n",
       "      <td>17.5</td>\n",
       "    </tr>\n",
       "    <tr>\n",
       "      <th>4</th>\n",
       "      <td>1-3 yrs</td>\n",
       "      <td>Chartered Accountancy degree or MBA in Finance...</td>\n",
       "      <td>TS- GSA- Senior Analyst</td>\n",
       "      <td>accounting, finance, cash flow, financial plan...</td>\n",
       "      <td>Gurgaon</td>\n",
       "      <td>3to6</td>\n",
       "      <td>1</td>\n",
       "      <td>3</td>\n",
       "      <td>3</td>\n",
       "      <td>6</td>\n",
       "      <td>6.0</td>\n",
       "    </tr>\n",
       "  </tbody>\n",
       "</table>\n",
       "</div>"
      ],
      "text/plain": [
       "  experience                                    job_description  \\\n",
       "0    5-7 yrs  Exp: Minimum 5 years;Good understanding of IOC...   \n",
       "1  10-17 yrs  He should have handled a team of atleast 5-6 d...   \n",
       "2    5-9 yrs  Must be an effective communicator (written & s...   \n",
       "3   7-10 yrs  7  -  10 years of overall experience in data e...   \n",
       "4    1-3 yrs  Chartered Accountancy degree or MBA in Finance...   \n",
       "\n",
       "                                           job_desig  \\\n",
       "0        Senior Exploit and Vulnerability Researcher   \n",
       "1                                           Head SCM   \n",
       "2  Deputy Manager - Talent Management & Leadershi...   \n",
       "3                 Associate Manager Data Engineering   \n",
       "4                            TS- GSA- Senior Analyst   \n",
       "\n",
       "                                          key_skills               location  \\\n",
       "0  team skills, communication skills, analytical ...  Delhi NCR(Vikas Puri)   \n",
       "1  ppc, logistics, inventory management, supply c...                Sonepat   \n",
       "2  HR Analytics, Employee Engagement, Training, S...              Delhi NCR   \n",
       "3  SQL, Javascript, Automation, Python, Ruby, Ana...              Bengaluru   \n",
       "4  accounting, finance, cash flow, financial plan...                Gurgaon   \n",
       "\n",
       "   salary  min_experience  max_experience  min_salary  max_salary  \\\n",
       "0   6to10               5               7           6          10   \n",
       "1  10to15              10              17          10          15   \n",
       "2  15to25               5               9          15          25   \n",
       "3  10to15               7              10          10          15   \n",
       "4    3to6               1               3           3           6   \n",
       "\n",
       "   average_salary  \n",
       "0            11.0  \n",
       "1            17.5  \n",
       "2            27.5  \n",
       "3            17.5  \n",
       "4             6.0  "
      ]
     },
     "execution_count": 26,
     "metadata": {},
     "output_type": "execute_result"
    }
   ],
   "source": [
    "train.head()"
   ]
  },
  {
   "cell_type": "markdown",
   "id": "3adfdf95-5d6f-438c-aea1-a8d9d183e5e6",
   "metadata": {},
   "source": [
    "### Drop the min and max salary columns just created along with the experience and salary columns"
   ]
  },
  {
   "cell_type": "code",
   "execution_count": 27,
   "id": "bbba14a9-5728-4598-ba5e-417c5aad409a",
   "metadata": {},
   "outputs": [],
   "source": [
    "train.drop(columns={'min_salary', 'max_salary', 'experience', 'salary'}, inplace=True)"
   ]
  },
  {
   "cell_type": "code",
   "execution_count": 28,
   "id": "52769175-7240-44d3-854e-101117f80167",
   "metadata": {},
   "outputs": [
    {
     "data": {
      "text/html": [
       "<div>\n",
       "<style scoped>\n",
       "    .dataframe tbody tr th:only-of-type {\n",
       "        vertical-align: middle;\n",
       "    }\n",
       "\n",
       "    .dataframe tbody tr th {\n",
       "        vertical-align: top;\n",
       "    }\n",
       "\n",
       "    .dataframe thead th {\n",
       "        text-align: right;\n",
       "    }\n",
       "</style>\n",
       "<table border=\"1\" class=\"dataframe\">\n",
       "  <thead>\n",
       "    <tr style=\"text-align: right;\">\n",
       "      <th></th>\n",
       "      <th>job_description</th>\n",
       "      <th>job_desig</th>\n",
       "      <th>key_skills</th>\n",
       "      <th>location</th>\n",
       "      <th>min_experience</th>\n",
       "      <th>max_experience</th>\n",
       "      <th>average_salary</th>\n",
       "    </tr>\n",
       "  </thead>\n",
       "  <tbody>\n",
       "    <tr>\n",
       "      <th>0</th>\n",
       "      <td>Exp: Minimum 5 years;Good understanding of IOC...</td>\n",
       "      <td>Senior Exploit and Vulnerability Researcher</td>\n",
       "      <td>team skills, communication skills, analytical ...</td>\n",
       "      <td>Delhi NCR(Vikas Puri)</td>\n",
       "      <td>5</td>\n",
       "      <td>7</td>\n",
       "      <td>11.0</td>\n",
       "    </tr>\n",
       "    <tr>\n",
       "      <th>1</th>\n",
       "      <td>He should have handled a team of atleast 5-6 d...</td>\n",
       "      <td>Head SCM</td>\n",
       "      <td>ppc, logistics, inventory management, supply c...</td>\n",
       "      <td>Sonepat</td>\n",
       "      <td>10</td>\n",
       "      <td>17</td>\n",
       "      <td>17.5</td>\n",
       "    </tr>\n",
       "    <tr>\n",
       "      <th>2</th>\n",
       "      <td>Must be an effective communicator (written &amp; s...</td>\n",
       "      <td>Deputy Manager - Talent Management &amp; Leadershi...</td>\n",
       "      <td>HR Analytics, Employee Engagement, Training, S...</td>\n",
       "      <td>Delhi NCR</td>\n",
       "      <td>5</td>\n",
       "      <td>9</td>\n",
       "      <td>27.5</td>\n",
       "    </tr>\n",
       "    <tr>\n",
       "      <th>3</th>\n",
       "      <td>7  -  10 years of overall experience in data e...</td>\n",
       "      <td>Associate Manager Data Engineering</td>\n",
       "      <td>SQL, Javascript, Automation, Python, Ruby, Ana...</td>\n",
       "      <td>Bengaluru</td>\n",
       "      <td>7</td>\n",
       "      <td>10</td>\n",
       "      <td>17.5</td>\n",
       "    </tr>\n",
       "    <tr>\n",
       "      <th>4</th>\n",
       "      <td>Chartered Accountancy degree or MBA in Finance...</td>\n",
       "      <td>TS- GSA- Senior Analyst</td>\n",
       "      <td>accounting, finance, cash flow, financial plan...</td>\n",
       "      <td>Gurgaon</td>\n",
       "      <td>1</td>\n",
       "      <td>3</td>\n",
       "      <td>6.0</td>\n",
       "    </tr>\n",
       "  </tbody>\n",
       "</table>\n",
       "</div>"
      ],
      "text/plain": [
       "                                     job_description  \\\n",
       "0  Exp: Minimum 5 years;Good understanding of IOC...   \n",
       "1  He should have handled a team of atleast 5-6 d...   \n",
       "2  Must be an effective communicator (written & s...   \n",
       "3  7  -  10 years of overall experience in data e...   \n",
       "4  Chartered Accountancy degree or MBA in Finance...   \n",
       "\n",
       "                                           job_desig  \\\n",
       "0        Senior Exploit and Vulnerability Researcher   \n",
       "1                                           Head SCM   \n",
       "2  Deputy Manager - Talent Management & Leadershi...   \n",
       "3                 Associate Manager Data Engineering   \n",
       "4                            TS- GSA- Senior Analyst   \n",
       "\n",
       "                                          key_skills               location  \\\n",
       "0  team skills, communication skills, analytical ...  Delhi NCR(Vikas Puri)   \n",
       "1  ppc, logistics, inventory management, supply c...                Sonepat   \n",
       "2  HR Analytics, Employee Engagement, Training, S...              Delhi NCR   \n",
       "3  SQL, Javascript, Automation, Python, Ruby, Ana...              Bengaluru   \n",
       "4  accounting, finance, cash flow, financial plan...                Gurgaon   \n",
       "\n",
       "   min_experience  max_experience  average_salary  \n",
       "0               5               7            11.0  \n",
       "1              10              17            17.5  \n",
       "2               5               9            27.5  \n",
       "3               7              10            17.5  \n",
       "4               1               3             6.0  "
      ]
     },
     "execution_count": 28,
     "metadata": {},
     "output_type": "execute_result"
    }
   ],
   "source": [
    "train.head()"
   ]
  },
  {
   "cell_type": "code",
   "execution_count": 29,
   "id": "eaeb8c95-a805-4eb8-9af1-a87510276b63",
   "metadata": {},
   "outputs": [],
   "source": [
    "train.to_csv('datasets/train_first_clean.csv', index=False)"
   ]
  },
  {
   "cell_type": "code",
   "execution_count": null,
   "id": "1bd188cf-ae77-48ee-8417-082913ace416",
   "metadata": {},
   "outputs": [],
   "source": []
  }
 ],
 "metadata": {
  "kernelspec": {
   "display_name": "Python 3 (ipykernel)",
   "language": "python",
   "name": "python3"
  },
  "language_info": {
   "codemirror_mode": {
    "name": "ipython",
    "version": 3
   },
   "file_extension": ".py",
   "mimetype": "text/x-python",
   "name": "python",
   "nbconvert_exporter": "python",
   "pygments_lexer": "ipython3",
   "version": "3.9.7"
  }
 },
 "nbformat": 4,
 "nbformat_minor": 5
}
