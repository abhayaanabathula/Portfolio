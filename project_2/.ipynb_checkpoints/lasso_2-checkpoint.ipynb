{
 "cells": [
  {
   "cell_type": "code",
   "execution_count": 1,
   "id": "a2f66a25-5288-4549-813b-dfe64ddc7221",
   "metadata": {},
   "outputs": [],
   "source": [
    "# import packages\n",
    "\n",
    "# standard imports\n",
    "import pandas as pd \n",
    "import numpy as np \n",
    "import matplotlib.pyplot as plt\n",
    "import seaborn as sns \n",
    "import os\n",
    "# modeling imports\n",
    "from sklearn.linear_model import LinearRegression\n",
    "from sklearn import metrics\n",
    "from sklearn.model_selection import train_test_split, cross_val_score, cross_val_predict\n",
    "from sklearn.preprocessing import PolynomialFeatures\n",
    "from sklearn.preprocessing import StandardScaler\n",
    "from sklearn.linear_model import Lasso, LassoCV"
   ]
  },
  {
   "cell_type": "code",
   "execution_count": 2,
   "id": "28de45f7-8fba-46ba-a218-8ddec1879a71",
   "metadata": {},
   "outputs": [],
   "source": [
    "pd.set_option(\"display.max_rows\", 101) # in order to display all rows "
   ]
  },
  {
   "cell_type": "code",
   "execution_count": 3,
   "id": "90fef16b-2d0a-4e33-a6a0-96a0bbc22db7",
   "metadata": {},
   "outputs": [],
   "source": [
    "# read in the filtered train data \n",
    "train= pd.read_csv('datasets/train_filtered.csv') "
   ]
  },
  {
   "cell_type": "code",
   "execution_count": 4,
   "id": "8b02de04-205e-41a1-87c0-6b9fc249dee0",
   "metadata": {},
   "outputs": [],
   "source": [
    "# Create X and y.\n",
    "X = train[['Overall Qual', \n",
    "           'Gr Liv Area', \n",
    "           'Garage Area', \n",
    "           'Garage Cars', \n",
    "           'Total Bsmt SF', \n",
    "           '1st Flr SF', \n",
    "           'Year Built'\n",
    "          ]]\n",
    "\n",
    "y = train['SalePrice']"
   ]
  },
  {
   "cell_type": "code",
   "execution_count": 5,
   "id": "26614dcb-d706-4c42-be38-67db572a4c05",
   "metadata": {},
   "outputs": [],
   "source": [
    "# Create train/test splits.\n",
    "X_train, X_test, y_train, y_test = train_test_split(\n",
    "    X,\n",
    "    y,\n",
    "    test_size=0.428,\n",
    "    random_state=42,\n",
    ")"
   ]
  },
  {
   "cell_type": "code",
   "execution_count": 6,
   "id": "50c53e49-c2bb-4078-b260-e761da811a1c",
   "metadata": {},
   "outputs": [],
   "source": [
    "# Scale our data.\n",
    "# Relabeling scaled data as \"Z\" is common.\n",
    "sc = StandardScaler()\n",
    "Z_train = sc.fit_transform(X_train)\n",
    "Z_test = sc.transform(X_test)"
   ]
  },
  {
   "cell_type": "code",
   "execution_count": 7,
   "id": "f940462a-c3c2-4978-a733-83280bf6a4e9",
   "metadata": {},
   "outputs": [
    {
     "name": "stdout",
     "output_type": "stream",
     "text": [
      "Z_train shape is: (1173, 7)\n",
      "y_train shape is: (1173,)\n",
      "Z_test shape is: (878, 7)\n",
      "y_test shape is: (878,)\n"
     ]
    }
   ],
   "source": [
    "print(f'Z_train shape is: {Z_train.shape}')\n",
    "print(f'y_train shape is: {y_train.shape}')\n",
    "print(f'Z_test shape is: {Z_test.shape}')\n",
    "print(f'y_test shape is: {y_test.shape}')"
   ]
  },
  {
   "cell_type": "code",
   "execution_count": 8,
   "id": "5d6df7c7-f663-4009-acd8-f42c04e0d915",
   "metadata": {},
   "outputs": [],
   "source": [
    "ols = LinearRegression()"
   ]
  },
  {
   "cell_type": "code",
   "execution_count": 9,
   "id": "15e840c1-40c3-4738-93b4-573469ba1cc4",
   "metadata": {},
   "outputs": [
    {
     "data": {
      "text/plain": [
       "LinearRegression()"
      ]
     },
     "execution_count": 9,
     "metadata": {},
     "output_type": "execute_result"
    }
   ],
   "source": [
    "ols.fit(Z_train, y_train)"
   ]
  },
  {
   "cell_type": "code",
   "execution_count": 10,
   "id": "5d22e32e-49ca-4e06-8eeb-51ab161fcbc2",
   "metadata": {},
   "outputs": [
    {
     "name": "stdout",
     "output_type": "stream",
     "text": [
      "Training R score: 0.7635769785356\n"
     ]
    }
   ],
   "source": [
    "print(f'Training R score: {ols.score(Z_train, y_train)}')"
   ]
  },
  {
   "cell_type": "code",
   "execution_count": 11,
   "id": "32bfcaa4-267a-4c20-8d40-483272d46e2f",
   "metadata": {},
   "outputs": [
    {
     "name": "stdout",
     "output_type": "stream",
     "text": [
      "Training R score: 0.8145101456143369\n"
     ]
    }
   ],
   "source": [
    "print(f'Training R score: {ols.score(Z_test, y_test)}')"
   ]
  },
  {
   "cell_type": "code",
   "execution_count": 12,
   "id": "fb319233-398d-483e-81e2-e47b3dafe56b",
   "metadata": {
    "tags": []
   },
   "outputs": [],
   "source": [
    "# Set up a list of Lasso alphas to check.\n",
    "l_alphas = np.logspace(-3,3,100)\n",
    "\n",
    "# Cross-validate over our list of Lasso alphas.\n",
    "lasso_cv = LassoCV(alphas=l_alphas, cv=5)\n",
    "\n",
    "# Fit model using best ridge alpha!\n",
    "lasso_cv.fit(Z_train, y_train);"
   ]
  },
  {
   "cell_type": "code",
   "execution_count": 13,
   "id": "0e04bb47-c615-41a2-866b-ec3f3dfa9afb",
   "metadata": {
    "tags": []
   },
   "outputs": [
    {
     "data": {
      "text/plain": [
       "869.7490026177834"
      ]
     },
     "execution_count": 13,
     "metadata": {},
     "output_type": "execute_result"
    }
   ],
   "source": [
    "# Here is the optimal value of alpha\n",
    "lasso_cv.alpha_"
   ]
  },
  {
   "cell_type": "code",
   "execution_count": 14,
   "id": "704b39a0-319c-4405-beb5-1799b72162af",
   "metadata": {},
   "outputs": [],
   "source": [
    "test = pd.read_csv('datasets/test.csv') "
   ]
  },
  {
   "cell_type": "code",
   "execution_count": 15,
   "id": "de2ef8e7-5eb6-4c00-9bb3-7e6b8a1d6e51",
   "metadata": {},
   "outputs": [],
   "source": [
    "test=test.fillna(0)"
   ]
  },
  {
   "cell_type": "code",
   "execution_count": 16,
   "id": "7a9811c0-b199-4510-8b32-fbdfcdec2236",
   "metadata": {},
   "outputs": [],
   "source": [
    "# Create X \n",
    "X_test = test[['Overall Qual', \n",
    "           'Gr Liv Area', \n",
    "           'Garage Area', \n",
    "           'Garage Cars', \n",
    "           'Total Bsmt SF', \n",
    "           '1st Flr SF', \n",
    "           'Year Built'\n",
    "          ]]"
   ]
  },
  {
   "cell_type": "code",
   "execution_count": 17,
   "id": "f63e3343-3b98-4ae3-89e5-3eae6d8fa9fc",
   "metadata": {},
   "outputs": [],
   "source": [
    "ssc = StandardScaler()\n",
    "Z_test_data = ssc.fit_transform(X_test)"
   ]
  },
  {
   "cell_type": "code",
   "execution_count": 18,
   "id": "3b3e2739-92d7-44b5-a8f5-baac9ede9856",
   "metadata": {
    "tags": []
   },
   "outputs": [],
   "source": [
    "# Set up a list of Lasso alphas to check.\n",
    "l_alphas = np.logspace(-3,3,100)\n",
    "\n",
    "# Cross-validate over our list of Lasso alphas.\n",
    "lasso_cross_val = LassoCV(alphas=l_alphas, cv=5)\n",
    "\n",
    "# Fit model using best ridge alpha!\n",
    "lasso_cross_val.fit(Z_test_data, y_test);"
   ]
  },
  {
   "cell_type": "code",
   "execution_count": 19,
   "id": "abf0f73d-2fad-45b0-aef3-7a83b42aecae",
   "metadata": {
    "tags": []
   },
   "outputs": [],
   "source": [
    "y_test_preds = lasso_cross_val.predict(Z_test_data)"
   ]
  },
  {
   "cell_type": "code",
   "execution_count": 20,
   "id": "2494d9d2-a6a6-4bdb-87b2-73607b5b4b90",
   "metadata": {},
   "outputs": [],
   "source": [
    "predicted=pd.DataFrame({'Id':test['Id'], 'SalePrice':y_test_preds})"
   ]
  },
  {
   "cell_type": "code",
   "execution_count": 21,
   "id": "84619d7d-c657-4727-9af0-f09fc4701abe",
   "metadata": {},
   "outputs": [
    {
     "data": {
      "text/html": [
       "<div>\n",
       "<style scoped>\n",
       "    .dataframe tbody tr th:only-of-type {\n",
       "        vertical-align: middle;\n",
       "    }\n",
       "\n",
       "    .dataframe tbody tr th {\n",
       "        vertical-align: top;\n",
       "    }\n",
       "\n",
       "    .dataframe thead th {\n",
       "        text-align: right;\n",
       "    }\n",
       "</style>\n",
       "<table border=\"1\" class=\"dataframe\">\n",
       "  <thead>\n",
       "    <tr style=\"text-align: right;\">\n",
       "      <th></th>\n",
       "      <th>Id</th>\n",
       "      <th>SalePrice</th>\n",
       "    </tr>\n",
       "  </thead>\n",
       "  <tbody>\n",
       "    <tr>\n",
       "      <th>0</th>\n",
       "      <td>2658</td>\n",
       "      <td>161443.041929</td>\n",
       "    </tr>\n",
       "    <tr>\n",
       "      <th>1</th>\n",
       "      <td>2718</td>\n",
       "      <td>178870.865801</td>\n",
       "    </tr>\n",
       "    <tr>\n",
       "      <th>2</th>\n",
       "      <td>2414</td>\n",
       "      <td>182738.339287</td>\n",
       "    </tr>\n",
       "    <tr>\n",
       "      <th>3</th>\n",
       "      <td>1989</td>\n",
       "      <td>172805.624525</td>\n",
       "    </tr>\n",
       "    <tr>\n",
       "      <th>4</th>\n",
       "      <td>625</td>\n",
       "      <td>180047.770758</td>\n",
       "    </tr>\n",
       "  </tbody>\n",
       "</table>\n",
       "</div>"
      ],
      "text/plain": [
       "     Id      SalePrice\n",
       "0  2658  161443.041929\n",
       "1  2718  178870.865801\n",
       "2  2414  182738.339287\n",
       "3  1989  172805.624525\n",
       "4   625  180047.770758"
      ]
     },
     "execution_count": 21,
     "metadata": {},
     "output_type": "execute_result"
    }
   ],
   "source": [
    "predicted.head()"
   ]
  },
  {
   "cell_type": "code",
   "execution_count": 22,
   "id": "edf9bd54-6f98-4e8e-8de3-08d6a040426e",
   "metadata": {},
   "outputs": [],
   "source": [
    "predicted.to_csv('datasets/lasso_predictions_2.csv', index=False)"
   ]
  },
  {
   "cell_type": "code",
   "execution_count": 23,
   "id": "cb020cb7-79da-4557-b3c7-2623b09cfd7d",
   "metadata": {},
   "outputs": [
    {
     "data": {
      "image/png": "[encoded data removed]",
      "text/plain": [
       "<Figure size 432x288 with 1 Axes>"
      ]
     },
     "metadata": {
      "needs_background": "light"
     },
     "output_type": "display_data"
    }
   ],
   "source": [
    "sns.scatterplot(x=predicted['SalePrice'], y=train['SalePrice'])\n",
    "plt.savefig('data_visualization/predicted_vs_actual_lasso2.jpeg')"
   ]
  },
  {
   "cell_type": "code",
   "execution_count": 27,
   "id": "cea16b0d-7c66-4c62-9f50-adcf868ae8d4",
   "metadata": {},
   "outputs": [
    {
     "name": "stderr",
     "output_type": "stream",
     "text": [
      "<ipython-input-27-08ef12ae836c>:1: RuntimeWarning: overflow encountered in exp\n",
      "  np.exp(lasso_cross_val.coef_)\n"
     ]
    },
    {
     "data": {
      "text/plain": [
       "array([inf,  0.,  0.,  0.,  0., inf, inf])"
      ]
     },
     "execution_count": 27,
     "metadata": {},
     "output_type": "execute_result"
    }
   ],
   "source": [
    "lasso_cross_val.coef_"
   ]
  },
  {
   "cell_type": "code",
   "execution_count": 26,
   "id": "30bca232-f224-4d45-8355-9a9f09d1cb93",
   "metadata": {},
   "outputs": [
    {
     "data": {
      "text/html": [
       "<div>\n",
       "<style scoped>\n",
       "    .dataframe tbody tr th:only-of-type {\n",
       "        vertical-align: middle;\n",
       "    }\n",
       "\n",
       "    .dataframe tbody tr th {\n",
       "        vertical-align: top;\n",
       "    }\n",
       "\n",
       "    .dataframe thead th {\n",
       "        text-align: right;\n",
       "    }\n",
       "</style>\n",
       "<table border=\"1\" class=\"dataframe\">\n",
       "  <thead>\n",
       "    <tr style=\"text-align: right;\">\n",
       "      <th></th>\n",
       "      <th>Coefficient</th>\n",
       "    </tr>\n",
       "  </thead>\n",
       "  <tbody>\n",
       "    <tr>\n",
       "      <th>Overall Qual</th>\n",
       "      <td>1874.649733</td>\n",
       "    </tr>\n",
       "    <tr>\n",
       "      <th>Gr Liv Area</th>\n",
       "      <td>-6097.324550</td>\n",
       "    </tr>\n",
       "    <tr>\n",
       "      <th>Garage Area</th>\n",
       "      <td>-2750.729871</td>\n",
       "    </tr>\n",
       "    <tr>\n",
       "      <th>Garage Cars</th>\n",
       "      <td>-2337.145237</td>\n",
       "    </tr>\n",
       "    <tr>\n",
       "      <th>Total Bsmt SF</th>\n",
       "      <td>-6690.270396</td>\n",
       "    </tr>\n",
       "    <tr>\n",
       "      <th>1st Flr SF</th>\n",
       "      <td>9561.976128</td>\n",
       "    </tr>\n",
       "    <tr>\n",
       "      <th>Year Built</th>\n",
       "      <td>5680.673379</td>\n",
       "    </tr>\n",
       "  </tbody>\n",
       "</table>\n",
       "</div>"
      ],
      "text/plain": [
       "               Coefficient\n",
       "Overall Qual   1874.649733\n",
       "Gr Liv Area   -6097.324550\n",
       "Garage Area   -2750.729871\n",
       "Garage Cars   -2337.145237\n",
       "Total Bsmt SF -6690.270396\n",
       "1st Flr SF     9561.976128\n",
       "Year Built     5680.673379"
      ]
     },
     "execution_count": 26,
     "metadata": {},
     "output_type": "execute_result"
    }
   ],
   "source": [
    "pd.DataFrame(lasso_cross_val.coef_,index=X_test.columns, columns=['Coefficient'])"
   ]
  },
  {
   "cell_type": "code",
   "execution_count": null,
   "id": "532cb507-1d39-4d15-8a50-55784c03ccc0",
   "metadata": {},
   "outputs": [],
   "source": []
  }
 ],
 "metadata": {
  "kernelspec": {
   "display_name": "Python 3",
   "language": "python",
   "name": "python3"
  },
  "language_info": {
   "codemirror_mode": {
    "name": "ipython",
    "version": 3
   },
   "file_extension": ".py",
   "mimetype": "text/x-python",
   "name": "python",
   "nbconvert_exporter": "python",
   "pygments_lexer": "ipython3",
   "version": "3.8.8"
  }
 },
 "nbformat": 4,
 "nbformat_minor": 5
}
