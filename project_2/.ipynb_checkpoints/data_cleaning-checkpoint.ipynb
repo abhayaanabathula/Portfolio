{
 "cells": [
  {
   "cell_type": "code",
   "execution_count": 1,
   "id": "53909472-492b-415d-891c-73c1b8b92b9b",
   "metadata": {},
   "outputs": [],
   "source": [
    "# standard imports\n",
    "import pandas as pd \n",
    "import numpy as np \n",
    "import matplotlib.pyplot as plt\n",
    "import seaborn as sns \n",
    "import os"
   ]
  },
  {
   "cell_type": "code",
   "execution_count": 2,
   "id": "6339c9de-2f04-4543-abda-b8f09fd48431",
   "metadata": {},
   "outputs": [],
   "source": [
    "pd.set_option(\"display.max_rows\", 101) # in order to display all rows "
   ]
  },
  {
   "cell_type": "code",
   "execution_count": 3,
   "id": "2763341a-5905-4cc5-b471-063a334137e5",
   "metadata": {},
   "outputs": [],
   "source": [
    "## Will be working with train data for building models "
   ]
  },
  {
   "cell_type": "code",
   "execution_count": 4,
   "id": "53ae9030-05ce-46ba-b2e5-f140f96f77e0",
   "metadata": {},
   "outputs": [],
   "source": [
    "# import the data \n",
    "train = pd.read_csv('datasets/train.csv') "
   ]
  },
  {
   "cell_type": "code",
   "execution_count": 5,
   "id": "fcd54a7d-c6f4-47e7-b93e-002ca09eaefe",
   "metadata": {},
   "outputs": [],
   "source": [
    "# Make a copy of the data \n",
    "train_filtered = train.copy()"
   ]
  },
  {
   "cell_type": "code",
   "execution_count": 6,
   "id": "54177950-bd04-4e24-9d02-a22893aa8e91",
   "metadata": {},
   "outputs": [
    {
     "data": {
      "text/html": [
       "<div>\n",
       "<style scoped>\n",
       "    .dataframe tbody tr th:only-of-type {\n",
       "        vertical-align: middle;\n",
       "    }\n",
       "\n",
       "    .dataframe tbody tr th {\n",
       "        vertical-align: top;\n",
       "    }\n",
       "\n",
       "    .dataframe thead th {\n",
       "        text-align: right;\n",
       "    }\n",
       "</style>\n",
       "<table border=\"1\" class=\"dataframe\">\n",
       "  <thead>\n",
       "    <tr style=\"text-align: right;\">\n",
       "      <th></th>\n",
       "      <th>Id</th>\n",
       "      <th>PID</th>\n",
       "      <th>MS SubClass</th>\n",
       "      <th>MS Zoning</th>\n",
       "      <th>Lot Frontage</th>\n",
       "      <th>Lot Area</th>\n",
       "      <th>Street</th>\n",
       "      <th>Alley</th>\n",
       "      <th>Lot Shape</th>\n",
       "      <th>Land Contour</th>\n",
       "      <th>...</th>\n",
       "      <th>Screen Porch</th>\n",
       "      <th>Pool Area</th>\n",
       "      <th>Pool QC</th>\n",
       "      <th>Fence</th>\n",
       "      <th>Misc Feature</th>\n",
       "      <th>Misc Val</th>\n",
       "      <th>Mo Sold</th>\n",
       "      <th>Yr Sold</th>\n",
       "      <th>Sale Type</th>\n",
       "      <th>SalePrice</th>\n",
       "    </tr>\n",
       "  </thead>\n",
       "  <tbody>\n",
       "    <tr>\n",
       "      <th>0</th>\n",
       "      <td>109</td>\n",
       "      <td>533352170</td>\n",
       "      <td>60</td>\n",
       "      <td>RL</td>\n",
       "      <td>NaN</td>\n",
       "      <td>13517</td>\n",
       "      <td>Pave</td>\n",
       "      <td>NaN</td>\n",
       "      <td>IR1</td>\n",
       "      <td>Lvl</td>\n",
       "      <td>...</td>\n",
       "      <td>0</td>\n",
       "      <td>0</td>\n",
       "      <td>NaN</td>\n",
       "      <td>NaN</td>\n",
       "      <td>NaN</td>\n",
       "      <td>0</td>\n",
       "      <td>3</td>\n",
       "      <td>2010</td>\n",
       "      <td>WD</td>\n",
       "      <td>130500</td>\n",
       "    </tr>\n",
       "    <tr>\n",
       "      <th>1</th>\n",
       "      <td>544</td>\n",
       "      <td>531379050</td>\n",
       "      <td>60</td>\n",
       "      <td>RL</td>\n",
       "      <td>43.0</td>\n",
       "      <td>11492</td>\n",
       "      <td>Pave</td>\n",
       "      <td>NaN</td>\n",
       "      <td>IR1</td>\n",
       "      <td>Lvl</td>\n",
       "      <td>...</td>\n",
       "      <td>0</td>\n",
       "      <td>0</td>\n",
       "      <td>NaN</td>\n",
       "      <td>NaN</td>\n",
       "      <td>NaN</td>\n",
       "      <td>0</td>\n",
       "      <td>4</td>\n",
       "      <td>2009</td>\n",
       "      <td>WD</td>\n",
       "      <td>220000</td>\n",
       "    </tr>\n",
       "    <tr>\n",
       "      <th>2</th>\n",
       "      <td>153</td>\n",
       "      <td>535304180</td>\n",
       "      <td>20</td>\n",
       "      <td>RL</td>\n",
       "      <td>68.0</td>\n",
       "      <td>7922</td>\n",
       "      <td>Pave</td>\n",
       "      <td>NaN</td>\n",
       "      <td>Reg</td>\n",
       "      <td>Lvl</td>\n",
       "      <td>...</td>\n",
       "      <td>0</td>\n",
       "      <td>0</td>\n",
       "      <td>NaN</td>\n",
       "      <td>NaN</td>\n",
       "      <td>NaN</td>\n",
       "      <td>0</td>\n",
       "      <td>1</td>\n",
       "      <td>2010</td>\n",
       "      <td>WD</td>\n",
       "      <td>109000</td>\n",
       "    </tr>\n",
       "    <tr>\n",
       "      <th>3</th>\n",
       "      <td>318</td>\n",
       "      <td>916386060</td>\n",
       "      <td>60</td>\n",
       "      <td>RL</td>\n",
       "      <td>73.0</td>\n",
       "      <td>9802</td>\n",
       "      <td>Pave</td>\n",
       "      <td>NaN</td>\n",
       "      <td>Reg</td>\n",
       "      <td>Lvl</td>\n",
       "      <td>...</td>\n",
       "      <td>0</td>\n",
       "      <td>0</td>\n",
       "      <td>NaN</td>\n",
       "      <td>NaN</td>\n",
       "      <td>NaN</td>\n",
       "      <td>0</td>\n",
       "      <td>4</td>\n",
       "      <td>2010</td>\n",
       "      <td>WD</td>\n",
       "      <td>174000</td>\n",
       "    </tr>\n",
       "    <tr>\n",
       "      <th>4</th>\n",
       "      <td>255</td>\n",
       "      <td>906425045</td>\n",
       "      <td>50</td>\n",
       "      <td>RL</td>\n",
       "      <td>82.0</td>\n",
       "      <td>14235</td>\n",
       "      <td>Pave</td>\n",
       "      <td>NaN</td>\n",
       "      <td>IR1</td>\n",
       "      <td>Lvl</td>\n",
       "      <td>...</td>\n",
       "      <td>0</td>\n",
       "      <td>0</td>\n",
       "      <td>NaN</td>\n",
       "      <td>NaN</td>\n",
       "      <td>NaN</td>\n",
       "      <td>0</td>\n",
       "      <td>3</td>\n",
       "      <td>2010</td>\n",
       "      <td>WD</td>\n",
       "      <td>138500</td>\n",
       "    </tr>\n",
       "  </tbody>\n",
       "</table>\n",
       "<p>5 rows × 81 columns</p>\n",
       "</div>"
      ],
      "text/plain": [
       "    Id        PID  MS SubClass MS Zoning  Lot Frontage  Lot Area Street Alley  \\\n",
       "0  109  533352170           60        RL           NaN     13517   Pave   NaN   \n",
       "1  544  531379050           60        RL          43.0     11492   Pave   NaN   \n",
       "2  153  535304180           20        RL          68.0      7922   Pave   NaN   \n",
       "3  318  916386060           60        RL          73.0      9802   Pave   NaN   \n",
       "4  255  906425045           50        RL          82.0     14235   Pave   NaN   \n",
       "\n",
       "  Lot Shape Land Contour  ... Screen Porch Pool Area Pool QC Fence  \\\n",
       "0       IR1          Lvl  ...            0         0     NaN   NaN   \n",
       "1       IR1          Lvl  ...            0         0     NaN   NaN   \n",
       "2       Reg          Lvl  ...            0         0     NaN   NaN   \n",
       "3       Reg          Lvl  ...            0         0     NaN   NaN   \n",
       "4       IR1          Lvl  ...            0         0     NaN   NaN   \n",
       "\n",
       "  Misc Feature Misc Val Mo Sold Yr Sold  Sale Type  SalePrice  \n",
       "0          NaN        0       3    2010        WD      130500  \n",
       "1          NaN        0       4    2009        WD      220000  \n",
       "2          NaN        0       1    2010        WD      109000  \n",
       "3          NaN        0       4    2010        WD      174000  \n",
       "4          NaN        0       3    2010        WD      138500  \n",
       "\n",
       "[5 rows x 81 columns]"
      ]
     },
     "execution_count": 6,
     "metadata": {},
     "output_type": "execute_result"
    }
   ],
   "source": [
    "# display data\n",
    "train_filtered.head()"
   ]
  },
  {
   "cell_type": "code",
   "execution_count": 7,
   "id": "58dc2a0f-4391-4725-9e55-be3d414fbc9a",
   "metadata": {},
   "outputs": [
    {
     "data": {
      "text/plain": [
       "(2051, 81)"
      ]
     },
     "execution_count": 7,
     "metadata": {},
     "output_type": "execute_result"
    }
   ],
   "source": [
    "# check shape of data\n",
    "train_filtered.shape "
   ]
  },
  {
   "cell_type": "code",
   "execution_count": 8,
   "id": "0a64926e-4829-491a-8c8d-eaedbec2fb91",
   "metadata": {},
   "outputs": [
    {
     "data": {
      "text/plain": [
       "Pool QC            2042\n",
       "Misc Feature       1986\n",
       "Alley              1911\n",
       "Fence              1651\n",
       "Fireplace Qu       1000\n",
       "Lot Frontage        330\n",
       "Garage Finish       114\n",
       "Garage Qual         114\n",
       "Garage Yr Blt       114\n",
       "Garage Cond         114\n",
       "Garage Type         113\n",
       "Bsmt Exposure        58\n",
       "BsmtFin Type 2       56\n",
       "BsmtFin Type 1       55\n",
       "Bsmt Cond            55\n",
       "Bsmt Qual            55\n",
       "Mas Vnr Area         22\n",
       "Mas Vnr Type         22\n",
       "Bsmt Half Bath        2\n",
       "Bsmt Full Bath        2\n",
       "Garage Area           1\n",
       "Total Bsmt SF         1\n",
       "Bsmt Unf SF           1\n",
       "BsmtFin SF 2          1\n",
       "BsmtFin SF 1          1\n",
       "Garage Cars           1\n",
       "Mo Sold               0\n",
       "Sale Type             0\n",
       "Full Bath             0\n",
       "Half Bath             0\n",
       "Bedroom AbvGr         0\n",
       "Kitchen AbvGr         0\n",
       "Kitchen Qual          0\n",
       "Yr Sold               0\n",
       "Misc Val              0\n",
       "Pool Area             0\n",
       "Screen Porch          0\n",
       "TotRms AbvGrd         0\n",
       "Functional            0\n",
       "Fireplaces            0\n",
       "3Ssn Porch            0\n",
       "Enclosed Porch        0\n",
       "Open Porch SF         0\n",
       "Wood Deck SF          0\n",
       "Gr Liv Area           0\n",
       "Paved Drive           0\n",
       "Id                    0\n",
       "Heating               0\n",
       "Low Qual Fin SF       0\n",
       "Overall Qual          0\n",
       "MS SubClass           0\n",
       "MS Zoning             0\n",
       "Lot Area              0\n",
       "Street                0\n",
       "Lot Shape             0\n",
       "Land Contour          0\n",
       "Utilities             0\n",
       "Lot Config            0\n",
       "Land Slope            0\n",
       "Neighborhood          0\n",
       "Condition 1           0\n",
       "Condition 2           0\n",
       "Bldg Type             0\n",
       "House Style           0\n",
       "Overall Cond          0\n",
       "2nd Flr SF            0\n",
       "Year Built            0\n",
       "Year Remod/Add        0\n",
       "Roof Style            0\n",
       "Roof Matl             0\n",
       "Exterior 1st          0\n",
       "Exterior 2nd          0\n",
       "Exter Qual            0\n",
       "Exter Cond            0\n",
       "Foundation            0\n",
       "PID                   0\n",
       "Heating QC            0\n",
       "Central Air           0\n",
       "Electrical            0\n",
       "1st Flr SF            0\n",
       "SalePrice             0\n",
       "dtype: int64"
      ]
     },
     "execution_count": 8,
     "metadata": {},
     "output_type": "execute_result"
    }
   ],
   "source": [
    "# check for missing values\n",
    "train_filtered.isnull().sum().sort_values(ascending=False)"
   ]
  },
  {
   "cell_type": "code",
   "execution_count": 9,
   "id": "07b0a6f3-ba6b-4a43-9aec-a2286bc2c46e",
   "metadata": {},
   "outputs": [
    {
     "data": {
      "text/plain": [
       "Grvl    85\n",
       "Pave    55\n",
       "Name: Alley, dtype: int64"
      ]
     },
     "execution_count": 9,
     "metadata": {},
     "output_type": "execute_result"
    }
   ],
   "source": [
    "# the NA values hold significane for some variables\n",
    "# NA means the feature doesn't exist for that property\n",
    "# check to see if the NA values are recorded appropriately \n",
    "train_filtered['Alley'].value_counts()"
   ]
  },
  {
   "cell_type": "code",
   "execution_count": 10,
   "id": "5e6c569d-8381-4727-8f4d-ff653583ae50",
   "metadata": {},
   "outputs": [],
   "source": [
    "# they aren't being recorded so fill in the missing values \n",
    "# filling in with 0 will make things easier moving forward, especially once I introduce dummy variables \n",
    "train_filtered = train_filtered.fillna(0)"
   ]
  },
  {
   "cell_type": "code",
   "execution_count": 11,
   "id": "6d084da6-7274-4ab3-95b1-4d293c6b35b7",
   "metadata": {},
   "outputs": [
    {
     "data": {
      "text/plain": [
       "0       1911\n",
       "Grvl      85\n",
       "Pave      55\n",
       "Name: Alley, dtype: int64"
      ]
     },
     "execution_count": 11,
     "metadata": {},
     "output_type": "execute_result"
    }
   ],
   "source": [
    "# now the values are being recorded appropriately\n",
    "train_filtered['Alley'].value_counts()"
   ]
  },
  {
   "cell_type": "code",
   "execution_count": 12,
   "id": "2be8c2c3-7868-45d9-950a-b01a0561f0a3",
   "metadata": {},
   "outputs": [
    {
     "data": {
      "text/plain": [
       "Id                 0\n",
       "Heating QC         0\n",
       "Garage Type        0\n",
       "Fireplace Qu       0\n",
       "Fireplaces         0\n",
       "Functional         0\n",
       "TotRms AbvGrd      0\n",
       "Kitchen Qual       0\n",
       "Kitchen AbvGr      0\n",
       "Bedroom AbvGr      0\n",
       "Half Bath          0\n",
       "Full Bath          0\n",
       "Bsmt Half Bath     0\n",
       "Bsmt Full Bath     0\n",
       "Gr Liv Area        0\n",
       "Low Qual Fin SF    0\n",
       "2nd Flr SF         0\n",
       "1st Flr SF         0\n",
       "Electrical         0\n",
       "Garage Yr Blt      0\n",
       "Garage Finish      0\n",
       "Garage Cars        0\n",
       "Pool Area          0\n",
       "Sale Type          0\n",
       "Yr Sold            0\n",
       "Mo Sold            0\n",
       "Misc Val           0\n",
       "Misc Feature       0\n",
       "Fence              0\n",
       "Pool QC            0\n",
       "Screen Porch       0\n",
       "Garage Area        0\n",
       "3Ssn Porch         0\n",
       "Enclosed Porch     0\n",
       "Open Porch SF      0\n",
       "Wood Deck SF       0\n",
       "Paved Drive        0\n",
       "Garage Cond        0\n",
       "Garage Qual        0\n",
       "Central Air        0\n",
       "Heating            0\n",
       "PID                0\n",
       "Total Bsmt SF      0\n",
       "Overall Qual       0\n",
       "House Style        0\n",
       "Bldg Type          0\n",
       "Condition 2        0\n",
       "Condition 1        0\n",
       "Neighborhood       0\n",
       "Land Slope         0\n",
       "Lot Config         0\n",
       "Utilities          0\n",
       "Land Contour       0\n",
       "Lot Shape          0\n",
       "Alley              0\n",
       "Street             0\n",
       "Lot Area           0\n",
       "Lot Frontage       0\n",
       "MS Zoning          0\n",
       "MS SubClass        0\n",
       "Overall Cond       0\n",
       "Year Built         0\n",
       "Year Remod/Add     0\n",
       "Bsmt Qual          0\n",
       "Bsmt Unf SF        0\n",
       "BsmtFin SF 2       0\n",
       "BsmtFin Type 2     0\n",
       "BsmtFin SF 1       0\n",
       "BsmtFin Type 1     0\n",
       "Bsmt Exposure      0\n",
       "Bsmt Cond          0\n",
       "Foundation         0\n",
       "Roof Style         0\n",
       "Exter Cond         0\n",
       "Exter Qual         0\n",
       "Mas Vnr Area       0\n",
       "Mas Vnr Type       0\n",
       "Exterior 2nd       0\n",
       "Exterior 1st       0\n",
       "Roof Matl          0\n",
       "SalePrice          0\n",
       "dtype: int64"
      ]
     },
     "execution_count": 12,
     "metadata": {},
     "output_type": "execute_result"
    }
   ],
   "source": [
    "# check for missing values again \n",
    "train_filtered.isnull().sum().sort_values(ascending=False)"
   ]
  },
  {
   "cell_type": "code",
   "execution_count": 13,
   "id": "bdd53700-aa04-43f2-9cff-ab6ef083eb74",
   "metadata": {},
   "outputs": [
    {
     "data": {
      "text/plain": [
       "Id                   int64\n",
       "PID                  int64\n",
       "MS SubClass          int64\n",
       "MS Zoning           object\n",
       "Lot Frontage       float64\n",
       "Lot Area             int64\n",
       "Street              object\n",
       "Alley               object\n",
       "Lot Shape           object\n",
       "Land Contour        object\n",
       "Utilities           object\n",
       "Lot Config          object\n",
       "Land Slope          object\n",
       "Neighborhood        object\n",
       "Condition 1         object\n",
       "Condition 2         object\n",
       "Bldg Type           object\n",
       "House Style         object\n",
       "Overall Qual         int64\n",
       "Overall Cond         int64\n",
       "Year Built           int64\n",
       "Year Remod/Add       int64\n",
       "Roof Style          object\n",
       "Roof Matl           object\n",
       "Exterior 1st        object\n",
       "Exterior 2nd        object\n",
       "Mas Vnr Type        object\n",
       "Mas Vnr Area       float64\n",
       "Exter Qual          object\n",
       "Exter Cond          object\n",
       "Foundation          object\n",
       "Bsmt Qual           object\n",
       "Bsmt Cond           object\n",
       "Bsmt Exposure       object\n",
       "BsmtFin Type 1      object\n",
       "BsmtFin SF 1       float64\n",
       "BsmtFin Type 2      object\n",
       "BsmtFin SF 2       float64\n",
       "Bsmt Unf SF        float64\n",
       "Total Bsmt SF      float64\n",
       "Heating             object\n",
       "Heating QC          object\n",
       "Central Air         object\n",
       "Electrical          object\n",
       "1st Flr SF           int64\n",
       "2nd Flr SF           int64\n",
       "Low Qual Fin SF      int64\n",
       "Gr Liv Area          int64\n",
       "Bsmt Full Bath     float64\n",
       "Bsmt Half Bath     float64\n",
       "Full Bath            int64\n",
       "Half Bath            int64\n",
       "Bedroom AbvGr        int64\n",
       "Kitchen AbvGr        int64\n",
       "Kitchen Qual        object\n",
       "TotRms AbvGrd        int64\n",
       "Functional          object\n",
       "Fireplaces           int64\n",
       "Fireplace Qu        object\n",
       "Garage Type         object\n",
       "Garage Yr Blt      float64\n",
       "Garage Finish       object\n",
       "Garage Cars        float64\n",
       "Garage Area        float64\n",
       "Garage Qual         object\n",
       "Garage Cond         object\n",
       "Paved Drive         object\n",
       "Wood Deck SF         int64\n",
       "Open Porch SF        int64\n",
       "Enclosed Porch       int64\n",
       "3Ssn Porch           int64\n",
       "Screen Porch         int64\n",
       "Pool Area            int64\n",
       "Pool QC             object\n",
       "Fence               object\n",
       "Misc Feature        object\n",
       "Misc Val             int64\n",
       "Mo Sold              int64\n",
       "Yr Sold              int64\n",
       "Sale Type           object\n",
       "SalePrice            int64\n",
       "dtype: object"
      ]
     },
     "execution_count": 13,
     "metadata": {},
     "output_type": "execute_result"
    }
   ],
   "source": [
    "# check to see if the datatype is appropriate for the given variable \n",
    "train_filtered.dtypes"
   ]
  },
  {
   "cell_type": "code",
   "execution_count": 14,
   "id": "3021fc1c-d9d2-40ae-bf29-60ea4a0a32c7",
   "metadata": {},
   "outputs": [],
   "source": [
    "# some variable datatypes need to be changed \n",
    "# to int:\n",
    "#       - Garage Yr Blt\n",
    "#       - Garage Cars\n",
    "#       - Bsmt Full Bath \n",
    "#       - Bsmt Half Bath \n",
    "# to float:\n",
    "#         - Lot Area\n",
    "#         - 1st Flr SF\n",
    "#         - 2nd Flr SF\n",
    "#         - Low Qual Fin SF\n",
    "#         - Gr Liv Area \n",
    "#         - Wood Deck SF\n",
    "#         - Open Porch SF\n",
    "#         - Enclosed Porch\n",
    "#         - 3Ssn Porch\n",
    "#         - Screen Porch\n",
    "#         - Pool Area\n",
    "#         - Misc Val"
   ]
  },
  {
   "cell_type": "code",
   "execution_count": 15,
   "id": "e768170d-f8eb-45e6-a395-8b127ee1158d",
   "metadata": {},
   "outputs": [],
   "source": [
    "train_filtered['Garage Yr Blt'] = pd.to_numeric(train_filtered['Garage Yr Blt'])\n",
    "train_filtered['Garage Cars'] = pd.to_numeric(train_filtered['Garage Cars'])\n",
    "train_filtered['Lot Area'] = train_filtered['Lot Area'].astype(float)\n",
    "train_filtered['1st Flr SF'] = train_filtered['1st Flr SF'].astype(float)\n",
    "train_filtered['2nd Flr SF'] = train_filtered['2nd Flr SF'].astype(float)\n",
    "train_filtered['Low Qual Fin SF'] = train_filtered['Low Qual Fin SF'].astype(float)\n",
    "train_filtered['Gr Liv Area'] = train_filtered['Gr Liv Area'].astype(float)\n",
    "train_filtered['Bsmt Full Bath'] = pd.to_numeric(train_filtered['Bsmt Full Bath'])\n",
    "train_filtered['Bsmt Half Bath'] = pd.to_numeric(train_filtered['Bsmt Half Bath'])\n",
    "train_filtered['Wood Deck SF'] = train_filtered['Wood Deck SF'].astype(float)\n",
    "train_filtered['Open Porch SF'] = train_filtered['Open Porch SF'].astype(float)\n",
    "train_filtered['Enclosed Porch'] = train_filtered['Enclosed Porch'].astype(float)\n",
    "train_filtered['3Ssn Porch'] = train_filtered['3Ssn Porch'].astype(float)\n",
    "train_filtered['Screen Porch'] = train_filtered['Screen Porch'].astype(float)\n",
    "train_filtered['Pool Area'] = train_filtered['Pool Area'].astype(float)\n",
    "train_filtered['Misc Val'] = train_filtered['Misc Val'].astype(float)"
   ]
  },
  {
   "cell_type": "code",
   "execution_count": 16,
   "id": "c40e0997-32ad-423b-a2be-f795838a0774",
   "metadata": {},
   "outputs": [
    {
     "data": {
      "text/plain": [
       "Id                   int64\n",
       "PID                  int64\n",
       "MS SubClass          int64\n",
       "MS Zoning           object\n",
       "Lot Frontage       float64\n",
       "Lot Area           float64\n",
       "Street              object\n",
       "Alley               object\n",
       "Lot Shape           object\n",
       "Land Contour        object\n",
       "Utilities           object\n",
       "Lot Config          object\n",
       "Land Slope          object\n",
       "Neighborhood        object\n",
       "Condition 1         object\n",
       "Condition 2         object\n",
       "Bldg Type           object\n",
       "House Style         object\n",
       "Overall Qual         int64\n",
       "Overall Cond         int64\n",
       "Year Built           int64\n",
       "Year Remod/Add       int64\n",
       "Roof Style          object\n",
       "Roof Matl           object\n",
       "Exterior 1st        object\n",
       "Exterior 2nd        object\n",
       "Mas Vnr Type        object\n",
       "Mas Vnr Area       float64\n",
       "Exter Qual          object\n",
       "Exter Cond          object\n",
       "Foundation          object\n",
       "Bsmt Qual           object\n",
       "Bsmt Cond           object\n",
       "Bsmt Exposure       object\n",
       "BsmtFin Type 1      object\n",
       "BsmtFin SF 1       float64\n",
       "BsmtFin Type 2      object\n",
       "BsmtFin SF 2       float64\n",
       "Bsmt Unf SF        float64\n",
       "Total Bsmt SF      float64\n",
       "Heating             object\n",
       "Heating QC          object\n",
       "Central Air         object\n",
       "Electrical          object\n",
       "1st Flr SF         float64\n",
       "2nd Flr SF         float64\n",
       "Low Qual Fin SF    float64\n",
       "Gr Liv Area        float64\n",
       "Bsmt Full Bath     float64\n",
       "Bsmt Half Bath     float64\n",
       "Full Bath            int64\n",
       "Half Bath            int64\n",
       "Bedroom AbvGr        int64\n",
       "Kitchen AbvGr        int64\n",
       "Kitchen Qual        object\n",
       "TotRms AbvGrd        int64\n",
       "Functional          object\n",
       "Fireplaces           int64\n",
       "Fireplace Qu        object\n",
       "Garage Type         object\n",
       "Garage Yr Blt      float64\n",
       "Garage Finish       object\n",
       "Garage Cars        float64\n",
       "Garage Area        float64\n",
       "Garage Qual         object\n",
       "Garage Cond         object\n",
       "Paved Drive         object\n",
       "Wood Deck SF       float64\n",
       "Open Porch SF      float64\n",
       "Enclosed Porch     float64\n",
       "3Ssn Porch         float64\n",
       "Screen Porch       float64\n",
       "Pool Area          float64\n",
       "Pool QC             object\n",
       "Fence               object\n",
       "Misc Feature        object\n",
       "Misc Val           float64\n",
       "Mo Sold              int64\n",
       "Yr Sold              int64\n",
       "Sale Type           object\n",
       "SalePrice            int64\n",
       "dtype: object"
      ]
     },
     "execution_count": 16,
     "metadata": {},
     "output_type": "execute_result"
    }
   ],
   "source": [
    "# check to see the datatypes changed\n",
    "train_filtered.dtypes"
   ]
  },
  {
   "cell_type": "code",
   "execution_count": 17,
   "id": "5e94174d-7539-407b-9aef-b46889b311a3",
   "metadata": {},
   "outputs": [],
   "source": [
    "# create dictionary for ms subclass, overall qual, and overall cond "
   ]
  },
  {
   "cell_type": "code",
   "execution_count": 18,
   "id": "87bfb61e-4179-427c-967b-a28cab82c489",
   "metadata": {},
   "outputs": [],
   "source": [
    "ms_subclass_dict = {\n",
    "    '020' : '1-STORY 1946 & NEWER ALL STYLES',\n",
    "    '030' : '1-STORY 1945 & OLDER',\n",
    "    '040' : '1-STORY W/FINISHED ATTIC ALL AGES',\n",
    "    '045' : '1-1/2 STORY - UNFINISHED ALL AGES',\n",
    "    '050' : '1-1/2 STORY FINISHED ALL AGES',\n",
    "    '060' : '2-STORY 1946 & NEWER',\n",
    "    '070' : '2-STORY 1945 & OLDER',\n",
    "    '075' : '2-1/2 STORY ALL AGES',\n",
    "    '080' : 'SPLIT OR MULTI-LEVEL',\n",
    "    '085' : 'SPLIT FOYER',\n",
    "    '090' : 'DUPLEX - ALL STYLES AND AGES',\n",
    "    '120' : '1-STORY PUD (Planned Unit Development) - 1946 & NEWER',\n",
    "    '150' : '1-1/2 STORY PUD - ALL AGES',\n",
    "    '160' : '2-STORY PUD - 1946 & NEWER',\n",
    "    '180' : 'PUD - MULTILEVEL - INCL SPLIT LEV/FOYER',\n",
    "    '190' : '2 FAMILY CONVERSION - ALL STYLES AND AGES'\n",
    "}"
   ]
  },
  {
   "cell_type": "code",
   "execution_count": 19,
   "id": "73a5c359-d570-4f17-b129-9346c9dcf937",
   "metadata": {},
   "outputs": [],
   "source": [
    "overall_qual_dict = {\n",
    "    10 : 'Very Excellent',\n",
    "    9  : 'Excellent',\n",
    "    8  : 'Very Good',\n",
    "    7  : 'Good',\n",
    "    6  : 'Above Average',\n",
    "    5  : 'Average',\n",
    "    4  : 'Below Average',\n",
    "    3  : 'Fair',\n",
    "    2  : 'Poor',\n",
    "    1  : 'Very Poor'\n",
    "}"
   ]
  },
  {
   "cell_type": "code",
   "execution_count": 20,
   "id": "e9b9f4af-4b41-4690-9a7c-9ed313f79f4c",
   "metadata": {},
   "outputs": [],
   "source": [
    "overall_cond_dict = {\n",
    "    10 : 'Very Excellent',\n",
    "    9  : 'Excellent',\n",
    "    8  : 'Very Good',\n",
    "    7  : 'Good',\n",
    "    6  : 'Above Average',\n",
    "    5  : 'Average',\n",
    "    4  : 'Below Average',   \n",
    "    3  : 'Fair',\n",
    "    2  : 'Poor',\n",
    "    1  : 'Very Poor'\n",
    "}"
   ]
  },
  {
   "cell_type": "code",
   "execution_count": 21,
   "id": "46285c17-3dd9-4d64-982a-e86af6d7ecaf",
   "metadata": {},
   "outputs": [],
   "source": [
    "train_filtered.to_csv('datasets/train_filtered.csv', index=False)"
   ]
  },
  {
   "cell_type": "code",
   "execution_count": 22,
   "id": "fda0adfa-8d82-47ce-b360-e5c960755fd3",
   "metadata": {},
   "outputs": [
    {
     "data": {
      "text/html": [
       "<div>\n",
       "<style scoped>\n",
       "    .dataframe tbody tr th:only-of-type {\n",
       "        vertical-align: middle;\n",
       "    }\n",
       "\n",
       "    .dataframe tbody tr th {\n",
       "        vertical-align: top;\n",
       "    }\n",
       "\n",
       "    .dataframe thead th {\n",
       "        text-align: right;\n",
       "    }\n",
       "</style>\n",
       "<table border=\"1\" class=\"dataframe\">\n",
       "  <thead>\n",
       "    <tr style=\"text-align: right;\">\n",
       "      <th></th>\n",
       "      <th>Id</th>\n",
       "      <th>PID</th>\n",
       "      <th>MS SubClass</th>\n",
       "      <th>MS Zoning</th>\n",
       "      <th>Lot Frontage</th>\n",
       "      <th>Lot Area</th>\n",
       "      <th>Street</th>\n",
       "      <th>Alley</th>\n",
       "      <th>Lot Shape</th>\n",
       "      <th>Land Contour</th>\n",
       "      <th>...</th>\n",
       "      <th>Screen Porch</th>\n",
       "      <th>Pool Area</th>\n",
       "      <th>Pool QC</th>\n",
       "      <th>Fence</th>\n",
       "      <th>Misc Feature</th>\n",
       "      <th>Misc Val</th>\n",
       "      <th>Mo Sold</th>\n",
       "      <th>Yr Sold</th>\n",
       "      <th>Sale Type</th>\n",
       "      <th>SalePrice</th>\n",
       "    </tr>\n",
       "  </thead>\n",
       "  <tbody>\n",
       "    <tr>\n",
       "      <th>0</th>\n",
       "      <td>109</td>\n",
       "      <td>533352170</td>\n",
       "      <td>60</td>\n",
       "      <td>RL</td>\n",
       "      <td>0.0</td>\n",
       "      <td>13517.0</td>\n",
       "      <td>Pave</td>\n",
       "      <td>0</td>\n",
       "      <td>IR1</td>\n",
       "      <td>Lvl</td>\n",
       "      <td>...</td>\n",
       "      <td>0.0</td>\n",
       "      <td>0.0</td>\n",
       "      <td>0</td>\n",
       "      <td>0</td>\n",
       "      <td>0</td>\n",
       "      <td>0.0</td>\n",
       "      <td>3</td>\n",
       "      <td>2010</td>\n",
       "      <td>WD</td>\n",
       "      <td>130500</td>\n",
       "    </tr>\n",
       "    <tr>\n",
       "      <th>1</th>\n",
       "      <td>544</td>\n",
       "      <td>531379050</td>\n",
       "      <td>60</td>\n",
       "      <td>RL</td>\n",
       "      <td>43.0</td>\n",
       "      <td>11492.0</td>\n",
       "      <td>Pave</td>\n",
       "      <td>0</td>\n",
       "      <td>IR1</td>\n",
       "      <td>Lvl</td>\n",
       "      <td>...</td>\n",
       "      <td>0.0</td>\n",
       "      <td>0.0</td>\n",
       "      <td>0</td>\n",
       "      <td>0</td>\n",
       "      <td>0</td>\n",
       "      <td>0.0</td>\n",
       "      <td>4</td>\n",
       "      <td>2009</td>\n",
       "      <td>WD</td>\n",
       "      <td>220000</td>\n",
       "    </tr>\n",
       "    <tr>\n",
       "      <th>2</th>\n",
       "      <td>153</td>\n",
       "      <td>535304180</td>\n",
       "      <td>20</td>\n",
       "      <td>RL</td>\n",
       "      <td>68.0</td>\n",
       "      <td>7922.0</td>\n",
       "      <td>Pave</td>\n",
       "      <td>0</td>\n",
       "      <td>Reg</td>\n",
       "      <td>Lvl</td>\n",
       "      <td>...</td>\n",
       "      <td>0.0</td>\n",
       "      <td>0.0</td>\n",
       "      <td>0</td>\n",
       "      <td>0</td>\n",
       "      <td>0</td>\n",
       "      <td>0.0</td>\n",
       "      <td>1</td>\n",
       "      <td>2010</td>\n",
       "      <td>WD</td>\n",
       "      <td>109000</td>\n",
       "    </tr>\n",
       "    <tr>\n",
       "      <th>3</th>\n",
       "      <td>318</td>\n",
       "      <td>916386060</td>\n",
       "      <td>60</td>\n",
       "      <td>RL</td>\n",
       "      <td>73.0</td>\n",
       "      <td>9802.0</td>\n",
       "      <td>Pave</td>\n",
       "      <td>0</td>\n",
       "      <td>Reg</td>\n",
       "      <td>Lvl</td>\n",
       "      <td>...</td>\n",
       "      <td>0.0</td>\n",
       "      <td>0.0</td>\n",
       "      <td>0</td>\n",
       "      <td>0</td>\n",
       "      <td>0</td>\n",
       "      <td>0.0</td>\n",
       "      <td>4</td>\n",
       "      <td>2010</td>\n",
       "      <td>WD</td>\n",
       "      <td>174000</td>\n",
       "    </tr>\n",
       "    <tr>\n",
       "      <th>4</th>\n",
       "      <td>255</td>\n",
       "      <td>906425045</td>\n",
       "      <td>50</td>\n",
       "      <td>RL</td>\n",
       "      <td>82.0</td>\n",
       "      <td>14235.0</td>\n",
       "      <td>Pave</td>\n",
       "      <td>0</td>\n",
       "      <td>IR1</td>\n",
       "      <td>Lvl</td>\n",
       "      <td>...</td>\n",
       "      <td>0.0</td>\n",
       "      <td>0.0</td>\n",
       "      <td>0</td>\n",
       "      <td>0</td>\n",
       "      <td>0</td>\n",
       "      <td>0.0</td>\n",
       "      <td>3</td>\n",
       "      <td>2010</td>\n",
       "      <td>WD</td>\n",
       "      <td>138500</td>\n",
       "    </tr>\n",
       "  </tbody>\n",
       "</table>\n",
       "<p>5 rows × 81 columns</p>\n",
       "</div>"
      ],
      "text/plain": [
       "    Id        PID  MS SubClass MS Zoning  Lot Frontage  Lot Area Street Alley  \\\n",
       "0  109  533352170           60        RL           0.0   13517.0   Pave     0   \n",
       "1  544  531379050           60        RL          43.0   11492.0   Pave     0   \n",
       "2  153  535304180           20        RL          68.0    7922.0   Pave     0   \n",
       "3  318  916386060           60        RL          73.0    9802.0   Pave     0   \n",
       "4  255  906425045           50        RL          82.0   14235.0   Pave     0   \n",
       "\n",
       "  Lot Shape Land Contour  ... Screen Porch Pool Area Pool QC Fence  \\\n",
       "0       IR1          Lvl  ...          0.0       0.0       0     0   \n",
       "1       IR1          Lvl  ...          0.0       0.0       0     0   \n",
       "2       Reg          Lvl  ...          0.0       0.0       0     0   \n",
       "3       Reg          Lvl  ...          0.0       0.0       0     0   \n",
       "4       IR1          Lvl  ...          0.0       0.0       0     0   \n",
       "\n",
       "  Misc Feature Misc Val Mo Sold Yr Sold  Sale Type  SalePrice  \n",
       "0            0      0.0       3    2010        WD      130500  \n",
       "1            0      0.0       4    2009        WD      220000  \n",
       "2            0      0.0       1    2010        WD      109000  \n",
       "3            0      0.0       4    2010        WD      174000  \n",
       "4            0      0.0       3    2010        WD      138500  \n",
       "\n",
       "[5 rows x 81 columns]"
      ]
     },
     "execution_count": 22,
     "metadata": {},
     "output_type": "execute_result"
    }
   ],
   "source": [
    "train_filtered.head()"
   ]
  },
  {
   "cell_type": "code",
   "execution_count": 34,
   "id": "469cc1b7-5353-4217-b42f-0ac6229e3bdf",
   "metadata": {},
   "outputs": [
    {
     "data": {
      "image/png": "[encoded data removed]",
      "text/plain": [
       "<Figure size 864x720 with 1 Axes>"
      ]
     },
     "metadata": {
      "needs_background": "light"
     },
     "output_type": "display_data"
    }
   ],
   "source": [
    "plt.figure(figsize=(12,10))\n",
    "plt.xticks(rotation=90)\n",
    "sns.boxplot(x=train_filtered['Neighborhood'], y=train_filtered['SalePrice']);\n",
    "plt.savefig('data_visualization/neighborhoodvsprice.jpeg')"
   ]
  },
  {
   "cell_type": "code",
   "execution_count": 35,
   "id": "b39a5953-5316-449c-9264-a40ba0d72203",
   "metadata": {},
   "outputs": [
    {
     "data": {
      "image/png": "[encoded data removed]",
      "text/plain": [
       "<Figure size 432x288 with 1 Axes>"
      ]
     },
     "metadata": {
      "needs_background": "light"
     },
     "output_type": "display_data"
    }
   ],
   "source": [
    "sns.boxplot(x=train_filtered['SalePrice'])\n",
    "plt.savefig('data_visualization/saleprice_boxplot.jpeg')"
   ]
  },
  {
   "cell_type": "code",
   "execution_count": 36,
   "id": "019ea82a-054c-4092-8098-2afcfcbab9d4",
   "metadata": {},
   "outputs": [
    {
     "data": {
      "image/png": "[encoded data removed]",
      "text/plain": [
       "<Figure size 432x288 with 1 Axes>"
      ]
     },
     "metadata": {
      "needs_background": "light"
     },
     "output_type": "display_data"
    }
   ],
   "source": [
    "sns.scatterplot(x=train_filtered['Overall Qual'], y=train_filtered['SalePrice'])\n",
    "plt.savefig('data_visualization/qualityvsprice.jpeg')"
   ]
  },
  {
   "cell_type": "code",
   "execution_count": 37,
   "id": "1ef765b8-2c22-415d-93d9-9a1afdad1219",
   "metadata": {},
   "outputs": [
    {
     "data": {
      "image/png": "[encoded data removed]",
      "text/plain": [
       "<Figure size 432x288 with 1 Axes>"
      ]
     },
     "metadata": {
      "needs_background": "light"
     },
     "output_type": "display_data"
    }
   ],
   "source": [
    "sns.scatterplot(x=train_filtered['Garage Cars'], y=train_filtered['SalePrice'])\n",
    "plt.savefig('data_visualization/cargaragevsprice.jpeg')"
   ]
  },
  {
   "cell_type": "code",
   "execution_count": 38,
   "id": "e586b97d-b3c1-42dc-99ec-4a4ef1870322",
   "metadata": {},
   "outputs": [
    {
     "data": {
      "image/png": "[encoded data removed]",
      "text/plain": [
       "<Figure size 432x288 with 1 Axes>"
      ]
     },
     "metadata": {
      "needs_background": "light"
     },
     "output_type": "display_data"
    }
   ],
   "source": [
    "sns.boxplot(x=train_filtered['Gr Liv Area'])\n",
    "plt.savefig('data_visualization/grlivarea_boxplot.jpeg')"
   ]
  },
  {
   "cell_type": "code",
   "execution_count": 39,
   "id": "1bee9d90-04b7-41b5-afde-f8709bda4c3d",
   "metadata": {},
   "outputs": [
    {
     "data": {
      "image/png": "[encoded data removed]",
      "text/plain": [
       "<Figure size 432x288 with 1 Axes>"
      ]
     },
     "metadata": {
      "needs_background": "light"
     },
     "output_type": "display_data"
    }
   ],
   "source": [
    "sns.scatterplot(x=train_filtered['Gr Liv Area'], y=train_filtered['SalePrice'])\n",
    "plt.savefig('data_visualization/grlivareavsprice.jpeg')"
   ]
  },
  {
   "cell_type": "code",
   "execution_count": null,
   "id": "8a7c120b-a714-4c37-b715-f03e43d79bb1",
   "metadata": {},
   "outputs": [],
   "source": []
  }
 ],
 "metadata": {
  "kernelspec": {
   "display_name": "Python 3",
   "language": "python",
   "name": "python3"
  },
  "language_info": {
   "codemirror_mode": {
    "name": "ipython",
    "version": 3
   },
   "file_extension": ".py",
   "mimetype": "text/x-python",
   "name": "python",
   "nbconvert_exporter": "python",
   "pygments_lexer": "ipython3",
   "version": "3.8.8"
  }
 },
 "nbformat": 4,
 "nbformat_minor": 5
}
