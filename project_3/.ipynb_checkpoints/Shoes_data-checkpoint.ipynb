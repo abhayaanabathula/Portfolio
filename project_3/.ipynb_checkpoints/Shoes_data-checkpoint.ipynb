{
 "cells": [
  {
   "cell_type": "markdown",
   "id": "d1069a6e-5ce2-49e6-a3c2-f12383eb6e53",
   "metadata": {},
   "source": [
    "# Create the full shoes dataset"
   ]
  },
  {
   "cell_type": "code",
   "execution_count": 1,
   "id": "f49701ed-1c98-4d4d-b456-c7ed652a239b",
   "metadata": {},
   "outputs": [],
   "source": [
    "import pandas as pd "
   ]
  },
  {
   "cell_type": "markdown",
   "id": "c21a1d6d-ab15-4023-8e17-adb437db4fc7",
   "metadata": {},
   "source": [
    "### Import the New Balance data I created "
   ]
  },
  {
   "cell_type": "code",
   "execution_count": 2,
   "id": "9a020223-3c3f-453b-9f94-8b33218d9c75",
   "metadata": {},
   "outputs": [],
   "source": [
    "newbalance = pd.read_csv('datasets/newbalance_data.csv')"
   ]
  },
  {
   "cell_type": "code",
   "execution_count": 3,
   "id": "81089bae-920f-4d57-86d8-aa7730635c3f",
   "metadata": {},
   "outputs": [
    {
     "data": {
      "text/html": [
       "<div>\n",
       "<style scoped>\n",
       "    .dataframe tbody tr th:only-of-type {\n",
       "        vertical-align: middle;\n",
       "    }\n",
       "\n",
       "    .dataframe tbody tr th {\n",
       "        vertical-align: top;\n",
       "    }\n",
       "\n",
       "    .dataframe thead th {\n",
       "        text-align: right;\n",
       "    }\n",
       "</style>\n",
       "<table border=\"1\" class=\"dataframe\">\n",
       "  <thead>\n",
       "    <tr style=\"text-align: right;\">\n",
       "      <th></th>\n",
       "      <th>title_token</th>\n",
       "      <th>title_tokens_merged</th>\n",
       "      <th>subreddit</th>\n",
       "    </tr>\n",
       "  </thead>\n",
       "  <tbody>\n",
       "    <tr>\n",
       "      <th>0</th>\n",
       "      <td>['ordered', 'a', 'pair', 'of', 'these', 'my', ...</td>\n",
       "      <td>ordered a pair of these my first 327 s im in love</td>\n",
       "      <td>Newbalance</td>\n",
       "    </tr>\n",
       "    <tr>\n",
       "      <th>1</th>\n",
       "      <td>['started', 'grey', 'day', 'getting', 'a', 'li...</td>\n",
       "      <td>started grey day getting a lil hooked</td>\n",
       "      <td>Newbalance</td>\n",
       "    </tr>\n",
       "    <tr>\n",
       "      <th>2</th>\n",
       "      <td>['started', 'grey', 'day', 'getting', 'a', 'li...</td>\n",
       "      <td>started grey day getting a lil hooked</td>\n",
       "      <td>Newbalance</td>\n",
       "    </tr>\n",
       "    <tr>\n",
       "      <th>3</th>\n",
       "      <td>['started', 'on', 'grey', 'day', 'getting', 'a...</td>\n",
       "      <td>started on grey day getting a lil hooked</td>\n",
       "      <td>Newbalance</td>\n",
       "    </tr>\n",
       "    <tr>\n",
       "      <th>4</th>\n",
       "      <td>['when', 'will', 'these', 'drop', 'on', 'the',...</td>\n",
       "      <td>when will these drop on the nb website i have ...</td>\n",
       "      <td>Newbalance</td>\n",
       "    </tr>\n",
       "  </tbody>\n",
       "</table>\n",
       "</div>"
      ],
      "text/plain": [
       "                                         title_token  \\\n",
       "0  ['ordered', 'a', 'pair', 'of', 'these', 'my', ...   \n",
       "1  ['started', 'grey', 'day', 'getting', 'a', 'li...   \n",
       "2  ['started', 'grey', 'day', 'getting', 'a', 'li...   \n",
       "3  ['started', 'on', 'grey', 'day', 'getting', 'a...   \n",
       "4  ['when', 'will', 'these', 'drop', 'on', 'the',...   \n",
       "\n",
       "                                 title_tokens_merged   subreddit  \n",
       "0  ordered a pair of these my first 327 s im in love  Newbalance  \n",
       "1              started grey day getting a lil hooked  Newbalance  \n",
       "2              started grey day getting a lil hooked  Newbalance  \n",
       "3           started on grey day getting a lil hooked  Newbalance  \n",
       "4  when will these drop on the nb website i have ...  Newbalance  "
      ]
     },
     "execution_count": 3,
     "metadata": {},
     "output_type": "execute_result"
    }
   ],
   "source": [
    "newbalance.head()"
   ]
  },
  {
   "cell_type": "markdown",
   "id": "9bb1d932-c7ea-488d-89fe-327fcd10ea3a",
   "metadata": {},
   "source": [
    "### Import the Nike data I created "
   ]
  },
  {
   "cell_type": "code",
   "execution_count": 4,
   "id": "4f30cf1a-b140-4929-b3a2-2aebd31537b3",
   "metadata": {},
   "outputs": [],
   "source": [
    "nike = pd.read_csv('datasets/nike_data.csv')"
   ]
  },
  {
   "cell_type": "code",
   "execution_count": 5,
   "id": "b60faed9-c242-45e3-bf97-4e57d60c0fdb",
   "metadata": {},
   "outputs": [
    {
     "data": {
      "text/html": [
       "<div>\n",
       "<style scoped>\n",
       "    .dataframe tbody tr th:only-of-type {\n",
       "        vertical-align: middle;\n",
       "    }\n",
       "\n",
       "    .dataframe tbody tr th {\n",
       "        vertical-align: top;\n",
       "    }\n",
       "\n",
       "    .dataframe thead th {\n",
       "        text-align: right;\n",
       "    }\n",
       "</style>\n",
       "<table border=\"1\" class=\"dataframe\">\n",
       "  <thead>\n",
       "    <tr style=\"text-align: right;\">\n",
       "      <th></th>\n",
       "      <th>title_token</th>\n",
       "      <th>title_tokens_merged</th>\n",
       "      <th>subreddit</th>\n",
       "    </tr>\n",
       "  </thead>\n",
       "  <tbody>\n",
       "    <tr>\n",
       "      <th>0</th>\n",
       "      <td>['should', 'i', 'go', 'half', 'a', 'size', 'up...</td>\n",
       "      <td>should i go half a size up nike basketball shoes</td>\n",
       "      <td>Nike</td>\n",
       "    </tr>\n",
       "    <tr>\n",
       "      <th>1</th>\n",
       "      <td>['check', 'out', 'this', 'colab', 'i', 'made',...</td>\n",
       "      <td>check out this colab i made with the jordan 1 ...</td>\n",
       "      <td>Nike</td>\n",
       "    </tr>\n",
       "    <tr>\n",
       "      <th>2</th>\n",
       "      <td>['thoughts', 'on', 'the', 'upcoming', 'nike', ...</td>\n",
       "      <td>thoughts on the upcoming nike jordan releases ...</td>\n",
       "      <td>Nike</td>\n",
       "    </tr>\n",
       "    <tr>\n",
       "      <th>3</th>\n",
       "      <td>['why', 'are', 'they', 'not', 'selling', 'the'...</td>\n",
       "      <td>why are they not selling the nike sfb s anymore</td>\n",
       "      <td>Nike</td>\n",
       "    </tr>\n",
       "    <tr>\n",
       "      <th>4</th>\n",
       "      <td>['will', 'there', 'ever', 'be', 'a', 'restock'...</td>\n",
       "      <td>will there ever be a restock on nike jordan 1 ...</td>\n",
       "      <td>Nike</td>\n",
       "    </tr>\n",
       "  </tbody>\n",
       "</table>\n",
       "</div>"
      ],
      "text/plain": [
       "                                         title_token  \\\n",
       "0  ['should', 'i', 'go', 'half', 'a', 'size', 'up...   \n",
       "1  ['check', 'out', 'this', 'colab', 'i', 'made',...   \n",
       "2  ['thoughts', 'on', 'the', 'upcoming', 'nike', ...   \n",
       "3  ['why', 'are', 'they', 'not', 'selling', 'the'...   \n",
       "4  ['will', 'there', 'ever', 'be', 'a', 'restock'...   \n",
       "\n",
       "                                 title_tokens_merged subreddit  \n",
       "0   should i go half a size up nike basketball shoes      Nike  \n",
       "1  check out this colab i made with the jordan 1 ...      Nike  \n",
       "2  thoughts on the upcoming nike jordan releases ...      Nike  \n",
       "3    why are they not selling the nike sfb s anymore      Nike  \n",
       "4  will there ever be a restock on nike jordan 1 ...      Nike  "
      ]
     },
     "execution_count": 5,
     "metadata": {},
     "output_type": "execute_result"
    }
   ],
   "source": [
    "nike.head()"
   ]
  },
  {
   "cell_type": "markdown",
   "id": "31e96758-adc0-4968-8dec-74f5d89ac56f",
   "metadata": {},
   "source": [
    "### Join the two datasets to get the final full shoes dataset "
   ]
  },
  {
   "cell_type": "code",
   "execution_count": 6,
   "id": "116e0365-971f-42d4-ad25-fbae3f6f5b63",
   "metadata": {},
   "outputs": [],
   "source": [
    "shoes_data = newbalance.append(nike)"
   ]
  },
  {
   "cell_type": "code",
   "execution_count": 7,
   "id": "e19a9b51-58e1-409d-a29e-b7d0034f5f9d",
   "metadata": {},
   "outputs": [
    {
     "data": {
      "text/html": [
       "<div>\n",
       "<style scoped>\n",
       "    .dataframe tbody tr th:only-of-type {\n",
       "        vertical-align: middle;\n",
       "    }\n",
       "\n",
       "    .dataframe tbody tr th {\n",
       "        vertical-align: top;\n",
       "    }\n",
       "\n",
       "    .dataframe thead th {\n",
       "        text-align: right;\n",
       "    }\n",
       "</style>\n",
       "<table border=\"1\" class=\"dataframe\">\n",
       "  <thead>\n",
       "    <tr style=\"text-align: right;\">\n",
       "      <th></th>\n",
       "      <th>title_token</th>\n",
       "      <th>title_tokens_merged</th>\n",
       "      <th>subreddit</th>\n",
       "    </tr>\n",
       "  </thead>\n",
       "  <tbody>\n",
       "    <tr>\n",
       "      <th>0</th>\n",
       "      <td>['ordered', 'a', 'pair', 'of', 'these', 'my', ...</td>\n",
       "      <td>ordered a pair of these my first 327 s im in love</td>\n",
       "      <td>Newbalance</td>\n",
       "    </tr>\n",
       "    <tr>\n",
       "      <th>1</th>\n",
       "      <td>['started', 'grey', 'day', 'getting', 'a', 'li...</td>\n",
       "      <td>started grey day getting a lil hooked</td>\n",
       "      <td>Newbalance</td>\n",
       "    </tr>\n",
       "    <tr>\n",
       "      <th>2</th>\n",
       "      <td>['started', 'grey', 'day', 'getting', 'a', 'li...</td>\n",
       "      <td>started grey day getting a lil hooked</td>\n",
       "      <td>Newbalance</td>\n",
       "    </tr>\n",
       "    <tr>\n",
       "      <th>3</th>\n",
       "      <td>['started', 'on', 'grey', 'day', 'getting', 'a...</td>\n",
       "      <td>started on grey day getting a lil hooked</td>\n",
       "      <td>Newbalance</td>\n",
       "    </tr>\n",
       "    <tr>\n",
       "      <th>4</th>\n",
       "      <td>['when', 'will', 'these', 'drop', 'on', 'the',...</td>\n",
       "      <td>when will these drop on the nb website i have ...</td>\n",
       "      <td>Newbalance</td>\n",
       "    </tr>\n",
       "    <tr>\n",
       "      <th>...</th>\n",
       "      <td>...</td>\n",
       "      <td>...</td>\n",
       "      <td>...</td>\n",
       "    </tr>\n",
       "    <tr>\n",
       "      <th>994</th>\n",
       "      <td>['what', 'are', 'those', 'found', 'them', 'in'...</td>\n",
       "      <td>what are those found them in my basement and k...</td>\n",
       "      <td>Nike</td>\n",
       "    </tr>\n",
       "    <tr>\n",
       "      <th>995</th>\n",
       "      <td>['new', 'air', 'force', '1s', 'stained']</td>\n",
       "      <td>new air force 1s stained</td>\n",
       "      <td>Nike</td>\n",
       "    </tr>\n",
       "    <tr>\n",
       "      <th>996</th>\n",
       "      <td>['did', 'nike', 'discontinue', 'these', 'mediu...</td>\n",
       "      <td>did nike discontinue these medium olive boots ...</td>\n",
       "      <td>Nike</td>\n",
       "    </tr>\n",
       "    <tr>\n",
       "      <th>997</th>\n",
       "      <td>['should', 'i', 'wear', 'them', 'or', 'you', '...</td>\n",
       "      <td>should i wear them or you think the price will...</td>\n",
       "      <td>Nike</td>\n",
       "    </tr>\n",
       "    <tr>\n",
       "      <th>998</th>\n",
       "      <td>['1985', '3', 'piece']</td>\n",
       "      <td>1985 3 piece</td>\n",
       "      <td>Nike</td>\n",
       "    </tr>\n",
       "  </tbody>\n",
       "</table>\n",
       "<p>1999 rows × 3 columns</p>\n",
       "</div>"
      ],
      "text/plain": [
       "                                           title_token  \\\n",
       "0    ['ordered', 'a', 'pair', 'of', 'these', 'my', ...   \n",
       "1    ['started', 'grey', 'day', 'getting', 'a', 'li...   \n",
       "2    ['started', 'grey', 'day', 'getting', 'a', 'li...   \n",
       "3    ['started', 'on', 'grey', 'day', 'getting', 'a...   \n",
       "4    ['when', 'will', 'these', 'drop', 'on', 'the',...   \n",
       "..                                                 ...   \n",
       "994  ['what', 'are', 'those', 'found', 'them', 'in'...   \n",
       "995           ['new', 'air', 'force', '1s', 'stained']   \n",
       "996  ['did', 'nike', 'discontinue', 'these', 'mediu...   \n",
       "997  ['should', 'i', 'wear', 'them', 'or', 'you', '...   \n",
       "998                             ['1985', '3', 'piece']   \n",
       "\n",
       "                                   title_tokens_merged   subreddit  \n",
       "0    ordered a pair of these my first 327 s im in love  Newbalance  \n",
       "1                started grey day getting a lil hooked  Newbalance  \n",
       "2                started grey day getting a lil hooked  Newbalance  \n",
       "3             started on grey day getting a lil hooked  Newbalance  \n",
       "4    when will these drop on the nb website i have ...  Newbalance  \n",
       "..                                                 ...         ...  \n",
       "994  what are those found them in my basement and k...        Nike  \n",
       "995                           new air force 1s stained        Nike  \n",
       "996  did nike discontinue these medium olive boots ...        Nike  \n",
       "997  should i wear them or you think the price will...        Nike  \n",
       "998                                       1985 3 piece        Nike  \n",
       "\n",
       "[1999 rows x 3 columns]"
      ]
     },
     "execution_count": 7,
     "metadata": {},
     "output_type": "execute_result"
    }
   ],
   "source": [
    "shoes_data"
   ]
  },
  {
   "cell_type": "code",
   "execution_count": 8,
   "id": "329610f0-cb14-47f2-8635-84ccfeb5860d",
   "metadata": {},
   "outputs": [
    {
     "data": {
      "text/plain": [
       "title_token            0\n",
       "title_tokens_merged    6\n",
       "subreddit              0\n",
       "dtype: int64"
      ]
     },
     "execution_count": 8,
     "metadata": {},
     "output_type": "execute_result"
    }
   ],
   "source": [
    "shoes_data.isnull().sum()"
   ]
  },
  {
   "cell_type": "markdown",
   "id": "ee2dc012-dfdb-4563-808e-c45711d51b93",
   "metadata": {},
   "source": [
    "### Drop the missing values "
   ]
  },
  {
   "cell_type": "code",
   "execution_count": 9,
   "id": "474bcab7-ffac-4d7c-ac30-b9e1ed5039e2",
   "metadata": {},
   "outputs": [],
   "source": [
    "shoes_data = shoes_data.dropna()"
   ]
  },
  {
   "cell_type": "code",
   "execution_count": 10,
   "id": "50e07a46-b50b-401c-8980-2823c018d81d",
   "metadata": {},
   "outputs": [
    {
     "data": {
      "text/plain": [
       "title_token            0\n",
       "title_tokens_merged    0\n",
       "subreddit              0\n",
       "dtype: int64"
      ]
     },
     "execution_count": 10,
     "metadata": {},
     "output_type": "execute_result"
    }
   ],
   "source": [
    "shoes_data.isnull().sum()"
   ]
  },
  {
   "cell_type": "markdown",
   "id": "b4ec9c4a-d3ac-462a-b1fe-fa5fabc7c83b",
   "metadata": {},
   "source": [
    "### Save the dataset to a csv "
   ]
  },
  {
   "cell_type": "code",
   "execution_count": 11,
   "id": "94186766-96df-4eee-badb-4c9d48b44de5",
   "metadata": {},
   "outputs": [],
   "source": [
    "shoes_data.to_csv('datasets/shoes_data.csv', index=False)"
   ]
  },
  {
   "cell_type": "code",
   "execution_count": null,
   "id": "615cd6c2-8c9d-47b2-a345-98694d504680",
   "metadata": {},
   "outputs": [],
   "source": []
  }
 ],
 "metadata": {
  "kernelspec": {
   "display_name": "Python 3",
   "language": "python",
   "name": "python3"
  },
  "language_info": {
   "codemirror_mode": {
    "name": "ipython",
    "version": 3
   },
   "file_extension": ".py",
   "mimetype": "text/x-python",
   "name": "python",
   "nbconvert_exporter": "python",
   "pygments_lexer": "ipython3",
   "version": "3.8.8"
  }
 },
 "nbformat": 4,
 "nbformat_minor": 5
}
