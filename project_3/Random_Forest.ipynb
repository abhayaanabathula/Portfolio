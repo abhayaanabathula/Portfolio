{
 "cells": [
  {
   "cell_type": "markdown",
   "id": "c5295fc6-bbf5-4341-83ff-802771d7522b",
   "metadata": {},
   "source": [
    "# Boosting with AdaBoost and Decision Tree Analysis"
   ]
  },
  {
   "cell_type": "code",
   "execution_count": 62,
   "id": "345073f2-8e9e-48e9-99a7-833fff8bfee2",
   "metadata": {},
   "outputs": [],
   "source": [
    "#imports\n",
    "\n",
    "import numpy as np\n",
    "import pandas as pd\n",
    "import matplotlib.pyplot as plt\n",
    "\n",
    "from sklearn.ensemble import AdaBoostClassifier\n",
    "from sklearn.feature_extraction.text import CountVectorizer\n",
    "from sklearn.model_selection import train_test_split\n",
    "from sklearn.tree import export_text, DecisionTreeClassifier, plot_tree\n",
    "from sklearn.pipeline import Pipeline\n",
    "from sklearn.metrics import confusion_matrix, plot_confusion_matrix\n",
    "from sklearn.metrics import classification_report\n"
   ]
  },
  {
   "cell_type": "code",
   "execution_count": 2,
   "id": "c897aea4-5e55-4f08-9cff-e0374a7f9875",
   "metadata": {},
   "outputs": [],
   "source": [
    "shoes = pd.read_csv('datasets/shoes_data.csv')"
   ]
  },
  {
   "cell_type": "code",
   "execution_count": 3,
   "id": "4d902e41-1dff-4848-80e1-bf40fe0ad3dc",
   "metadata": {},
   "outputs": [
    {
     "data": {
      "text/html": [
       "<div>\n",
       "<style scoped>\n",
       "    .dataframe tbody tr th:only-of-type {\n",
       "        vertical-align: middle;\n",
       "    }\n",
       "\n",
       "    .dataframe tbody tr th {\n",
       "        vertical-align: top;\n",
       "    }\n",
       "\n",
       "    .dataframe thead th {\n",
       "        text-align: right;\n",
       "    }\n",
       "</style>\n",
       "<table border=\"1\" class=\"dataframe\">\n",
       "  <thead>\n",
       "    <tr style=\"text-align: right;\">\n",
       "      <th></th>\n",
       "      <th>title_token</th>\n",
       "      <th>title_tokens_merged</th>\n",
       "      <th>subreddit</th>\n",
       "    </tr>\n",
       "  </thead>\n",
       "  <tbody>\n",
       "    <tr>\n",
       "      <th>0</th>\n",
       "      <td>['ordered', 'a', 'pair', 'of', 'these', 'my', ...</td>\n",
       "      <td>ordered a pair of these my first 327 s im in love</td>\n",
       "      <td>Newbalance</td>\n",
       "    </tr>\n",
       "    <tr>\n",
       "      <th>1</th>\n",
       "      <td>['started', 'grey', 'day', 'getting', 'a', 'li...</td>\n",
       "      <td>started grey day getting a lil hooked</td>\n",
       "      <td>Newbalance</td>\n",
       "    </tr>\n",
       "    <tr>\n",
       "      <th>2</th>\n",
       "      <td>['started', 'grey', 'day', 'getting', 'a', 'li...</td>\n",
       "      <td>started grey day getting a lil hooked</td>\n",
       "      <td>Newbalance</td>\n",
       "    </tr>\n",
       "    <tr>\n",
       "      <th>3</th>\n",
       "      <td>['started', 'on', 'grey', 'day', 'getting', 'a...</td>\n",
       "      <td>started on grey day getting a lil hooked</td>\n",
       "      <td>Newbalance</td>\n",
       "    </tr>\n",
       "    <tr>\n",
       "      <th>4</th>\n",
       "      <td>['when', 'will', 'these', 'drop', 'on', 'the',...</td>\n",
       "      <td>when will these drop on the nb website i have ...</td>\n",
       "      <td>Newbalance</td>\n",
       "    </tr>\n",
       "  </tbody>\n",
       "</table>\n",
       "</div>"
      ],
      "text/plain": [
       "                                         title_token  \\\n",
       "0  ['ordered', 'a', 'pair', 'of', 'these', 'my', ...   \n",
       "1  ['started', 'grey', 'day', 'getting', 'a', 'li...   \n",
       "2  ['started', 'grey', 'day', 'getting', 'a', 'li...   \n",
       "3  ['started', 'on', 'grey', 'day', 'getting', 'a...   \n",
       "4  ['when', 'will', 'these', 'drop', 'on', 'the',...   \n",
       "\n",
       "                                 title_tokens_merged   subreddit  \n",
       "0  ordered a pair of these my first 327 s im in love  Newbalance  \n",
       "1              started grey day getting a lil hooked  Newbalance  \n",
       "2              started grey day getting a lil hooked  Newbalance  \n",
       "3           started on grey day getting a lil hooked  Newbalance  \n",
       "4  when will these drop on the nb website i have ...  Newbalance  "
      ]
     },
     "execution_count": 3,
     "metadata": {},
     "output_type": "execute_result"
    }
   ],
   "source": [
    "shoes.head()"
   ]
  },
  {
   "cell_type": "code",
   "execution_count": 4,
   "id": "726b44e6-bd26-4191-8816-841d72fe6e50",
   "metadata": {},
   "outputs": [
    {
     "data": {
      "text/plain": [
       "title_token            0\n",
       "title_tokens_merged    0\n",
       "subreddit              0\n",
       "dtype: int64"
      ]
     },
     "execution_count": 4,
     "metadata": {},
     "output_type": "execute_result"
    }
   ],
   "source": [
    "shoes.isnull().sum()"
   ]
  },
  {
   "cell_type": "code",
   "execution_count": 5,
   "id": "a9ba59ba-78b3-4c87-9271-6d756e2e59cd",
   "metadata": {},
   "outputs": [],
   "source": [
    "shoes = shoes.dropna()"
   ]
  },
  {
   "cell_type": "markdown",
   "id": "22ecfeeb-017d-4c12-80f9-f6b8c2acdd22",
   "metadata": {},
   "source": [
    "### Define X and y"
   ]
  },
  {
   "cell_type": "code",
   "execution_count": 6,
   "id": "f9527750-b7e3-40d0-851f-f5284062bc12",
   "metadata": {},
   "outputs": [],
   "source": [
    "X = shoes['title_tokens_merged']\n",
    "y = shoes['subreddit']"
   ]
  },
  {
   "cell_type": "markdown",
   "id": "a0af7edf-262e-4259-8f71-54eb7fbcb7fe",
   "metadata": {},
   "source": [
    "## Baseline score (score to beat)"
   ]
  },
  {
   "cell_type": "code",
   "execution_count": 7,
   "id": "8057bffe-4b19-44b2-bfa4-002c5242eb0e",
   "metadata": {},
   "outputs": [
    {
     "data": {
      "text/plain": [
       "Newbalance    0.500251\n",
       "Nike          0.499749\n",
       "Name: subreddit, dtype: float64"
      ]
     },
     "execution_count": 7,
     "metadata": {},
     "output_type": "execute_result"
    }
   ],
   "source": [
    "y.value_counts(normalize=True)"
   ]
  },
  {
   "cell_type": "markdown",
   "id": "6ffbdf8b-f490-4702-8555-602bd1d400fd",
   "metadata": {},
   "source": [
    "### Split the data into train and test data "
   ]
  },
  {
   "cell_type": "code",
   "execution_count": 8,
   "id": "828b35d0-f977-4416-be10-033baea7cb1a",
   "metadata": {},
   "outputs": [],
   "source": [
    "# Split the data into the training and testing sets.\n",
    "X_train, X_test, y_train, y_test = train_test_split(X,\n",
    "                                                    y,\n",
    "                                                    test_size=0.33,\n",
    "                                                    stratify=y,\n",
    "                                                    random_state=42)"
   ]
  },
  {
   "cell_type": "markdown",
   "id": "c57f768b-c1ff-4f7c-9975-893fc5388ee1",
   "metadata": {},
   "source": [
    "### Instantiate the Count Vectorizer "
   ]
  },
  {
   "cell_type": "code",
   "execution_count": 9,
   "id": "d21d0c6a-1635-415f-94ef-4bbcd7479ee7",
   "metadata": {},
   "outputs": [],
   "source": [
    "# Instantiate a CountVectorizer.\n",
    "cv = CountVectorizer(stop_words='english')"
   ]
  },
  {
   "cell_type": "markdown",
   "id": "a2c41e24-5c36-4c39-9220-ac8219708857",
   "metadata": {},
   "source": [
    "### Fit the train data onto the Count Vectorizer (transformer)"
   ]
  },
  {
   "cell_type": "code",
   "execution_count": 10,
   "id": "17389740-ed40-45fa-b0fe-707ed307e7b7",
   "metadata": {},
   "outputs": [
    {
     "data": {
      "text/plain": [
       "CountVectorizer(stop_words='english')"
      ]
     },
     "execution_count": 10,
     "metadata": {},
     "output_type": "execute_result"
    }
   ],
   "source": [
    "cv.fit(X_train)"
   ]
  },
  {
   "cell_type": "markdown",
   "id": "646b2692-006b-4bba-ad5f-ce18cdaa2759",
   "metadata": {},
   "source": [
    "### Start analysis by transforming the corpus with the Count Vectorizer "
   ]
  },
  {
   "cell_type": "code",
   "execution_count": 11,
   "id": "55916a93-37a4-4028-af99-1163b3a38593",
   "metadata": {},
   "outputs": [],
   "source": [
    "# Transform the corpus.\n",
    "X_train = cv.transform(X_train)"
   ]
  },
  {
   "cell_type": "code",
   "execution_count": 12,
   "id": "e36d7d4d-78b7-4670-9514-d0da6bf9fbc8",
   "metadata": {},
   "outputs": [],
   "source": [
    "X_test = cv.transform(X_test)"
   ]
  },
  {
   "cell_type": "markdown",
   "id": "4523efd9-8333-42cb-b371-67e98aac90cc",
   "metadata": {},
   "source": [
    "### Instantiate the Decision Tree Classifier and fit the train data "
   ]
  },
  {
   "cell_type": "code",
   "execution_count": 13,
   "id": "4ded8509-4afb-4c69-993b-fa186de729d5",
   "metadata": {},
   "outputs": [
    {
     "data": {
      "text/plain": [
       "(DecisionTreeClassifier(), 0.7051671732522796)"
      ]
     },
     "execution_count": 13,
     "metadata": {},
     "output_type": "execute_result"
    }
   ],
   "source": [
    "dtc = DecisionTreeClassifier()\n",
    "\n",
    "dtc.fit(X_train, y_train), dtc.score(X_test, y_test)"
   ]
  },
  {
   "cell_type": "markdown",
   "id": "89baa652-18fa-44b2-a286-732dfe1f958a",
   "metadata": {},
   "source": [
    "### Instantiate the Ada Boost Classifier and fit "
   ]
  },
  {
   "cell_type": "code",
   "execution_count": 14,
   "id": "34180502-c293-404f-ade0-83410284b6bd",
   "metadata": {},
   "outputs": [
    {
     "data": {
      "text/plain": [
       "(0.9116104868913858, 0.7887537993920972)"
      ]
     },
     "execution_count": 14,
     "metadata": {},
     "output_type": "execute_result"
    }
   ],
   "source": [
    "abc = AdaBoostClassifier(random_state=42, n_estimators=150)\n",
    "\n",
    "abc.fit(X_train, y_train)\n",
    "\n",
    "abc.score(X_train, y_train), abc.score(X_test, y_test)"
   ]
  },
  {
   "cell_type": "code",
   "execution_count": 15,
   "id": "1d73297a-1890-4c35-9cd8-70444f505c34",
   "metadata": {},
   "outputs": [
    {
     "data": {
      "text/plain": [
       "array([0., 0., 0., ..., 0., 0., 0.])"
      ]
     },
     "execution_count": 15,
     "metadata": {},
     "output_type": "execute_result"
    }
   ],
   "source": [
    "abc.feature_importances_"
   ]
  },
  {
   "cell_type": "code",
   "execution_count": 16,
   "id": "b5e95e8e-0d23-4e6f-9b13-d7ae02b9bbcb",
   "metadata": {},
   "outputs": [
    {
     "data": {
      "text/plain": [
       "138"
      ]
     },
     "execution_count": 16,
     "metadata": {},
     "output_type": "execute_result"
    }
   ],
   "source": [
    "sum(abc.feature_importances_ != 0)"
   ]
  },
  {
   "cell_type": "code",
   "execution_count": 17,
   "id": "8e828b5c-d8c9-43b7-bf94-36b0edc771fb",
   "metadata": {},
   "outputs": [],
   "source": [
    "cv_feature_names = cv.get_feature_names()"
   ]
  },
  {
   "cell_type": "markdown",
   "id": "68db0daf-981e-4dfd-b93a-684d64cc2130",
   "metadata": {},
   "source": [
    "### Create dataframe with importance ratings of each word from Ada Boost Classifier"
   ]
  },
  {
   "cell_type": "code",
   "execution_count": 18,
   "id": "f70f921d-e8a2-4211-8cf9-8243b48695a2",
   "metadata": {},
   "outputs": [
    {
     "data": {
      "text/html": [
       "<div>\n",
       "<style scoped>\n",
       "    .dataframe tbody tr th:only-of-type {\n",
       "        vertical-align: middle;\n",
       "    }\n",
       "\n",
       "    .dataframe tbody tr th {\n",
       "        vertical-align: top;\n",
       "    }\n",
       "\n",
       "    .dataframe thead th {\n",
       "        text-align: right;\n",
       "    }\n",
       "</style>\n",
       "<table border=\"1\" class=\"dataframe\">\n",
       "  <thead>\n",
       "    <tr style=\"text-align: right;\">\n",
       "      <th></th>\n",
       "      <th>word</th>\n",
       "      <th>importance</th>\n",
       "    </tr>\n",
       "  </thead>\n",
       "  <tbody>\n",
       "    <tr>\n",
       "      <th>0</th>\n",
       "      <td>00</td>\n",
       "      <td>0.0</td>\n",
       "    </tr>\n",
       "    <tr>\n",
       "      <th>1</th>\n",
       "      <td>001</td>\n",
       "      <td>0.0</td>\n",
       "    </tr>\n",
       "    <tr>\n",
       "      <th>2</th>\n",
       "      <td>0011</td>\n",
       "      <td>0.0</td>\n",
       "    </tr>\n",
       "    <tr>\n",
       "      <th>3</th>\n",
       "      <td>00am</td>\n",
       "      <td>0.0</td>\n",
       "    </tr>\n",
       "    <tr>\n",
       "      <th>4</th>\n",
       "      <td>07</td>\n",
       "      <td>0.0</td>\n",
       "    </tr>\n",
       "    <tr>\n",
       "      <th>...</th>\n",
       "      <td>...</td>\n",
       "      <td>...</td>\n",
       "    </tr>\n",
       "    <tr>\n",
       "      <th>2177</th>\n",
       "      <td>zag</td>\n",
       "      <td>0.0</td>\n",
       "    </tr>\n",
       "    <tr>\n",
       "      <th>2178</th>\n",
       "      <td>zig</td>\n",
       "      <td>0.0</td>\n",
       "    </tr>\n",
       "    <tr>\n",
       "      <th>2179</th>\n",
       "      <td>zip</td>\n",
       "      <td>0.0</td>\n",
       "    </tr>\n",
       "    <tr>\n",
       "      <th>2180</th>\n",
       "      <td>zone</td>\n",
       "      <td>0.0</td>\n",
       "    </tr>\n",
       "    <tr>\n",
       "      <th>2181</th>\n",
       "      <td>zoom</td>\n",
       "      <td>0.0</td>\n",
       "    </tr>\n",
       "  </tbody>\n",
       "</table>\n",
       "<p>2182 rows × 2 columns</p>\n",
       "</div>"
      ],
      "text/plain": [
       "      word  importance\n",
       "0       00         0.0\n",
       "1      001         0.0\n",
       "2     0011         0.0\n",
       "3     00am         0.0\n",
       "4       07         0.0\n",
       "...    ...         ...\n",
       "2177   zag         0.0\n",
       "2178   zig         0.0\n",
       "2179   zip         0.0\n",
       "2180  zone         0.0\n",
       "2181  zoom         0.0\n",
       "\n",
       "[2182 rows x 2 columns]"
      ]
     },
     "execution_count": 18,
     "metadata": {},
     "output_type": "execute_result"
    }
   ],
   "source": [
    "ada_imps = pd.DataFrame({\n",
    "    'word': cv_feature_names,\n",
    "    'importance': abc.feature_importances_\n",
    "})\n",
    "ada_imps"
   ]
  },
  {
   "cell_type": "markdown",
   "id": "699b9802-b193-430f-90e4-faa1fe87eb7f",
   "metadata": {},
   "source": [
    "### Sort importance values from highest to lowest"
   ]
  },
  {
   "cell_type": "code",
   "execution_count": 19,
   "id": "f02aa63e-b040-4e9a-bdc0-d2e9fc07eace",
   "metadata": {},
   "outputs": [
    {
     "data": {
      "text/html": [
       "<div>\n",
       "<style scoped>\n",
       "    .dataframe tbody tr th:only-of-type {\n",
       "        vertical-align: middle;\n",
       "    }\n",
       "\n",
       "    .dataframe tbody tr th {\n",
       "        vertical-align: top;\n",
       "    }\n",
       "\n",
       "    .dataframe thead th {\n",
       "        text-align: right;\n",
       "    }\n",
       "</style>\n",
       "<table border=\"1\" class=\"dataframe\">\n",
       "  <thead>\n",
       "    <tr style=\"text-align: right;\">\n",
       "      <th></th>\n",
       "      <th>word</th>\n",
       "      <th>importance</th>\n",
       "    </tr>\n",
       "  </thead>\n",
       "  <tbody>\n",
       "    <tr>\n",
       "      <th>989</th>\n",
       "      <td>identify</td>\n",
       "      <td>0.013333</td>\n",
       "    </tr>\n",
       "    <tr>\n",
       "      <th>336</th>\n",
       "      <td>black</td>\n",
       "      <td>0.013333</td>\n",
       "    </tr>\n",
       "    <tr>\n",
       "      <th>1876</th>\n",
       "      <td>sure</td>\n",
       "      <td>0.013333</td>\n",
       "    </tr>\n",
       "    <tr>\n",
       "      <th>302</th>\n",
       "      <td>balance</td>\n",
       "      <td>0.013333</td>\n",
       "    </tr>\n",
       "    <tr>\n",
       "      <th>643</th>\n",
       "      <td>does</td>\n",
       "      <td>0.013333</td>\n",
       "    </tr>\n",
       "    <tr>\n",
       "      <th>1995</th>\n",
       "      <td>trying</td>\n",
       "      <td>0.013333</td>\n",
       "    </tr>\n",
       "    <tr>\n",
       "      <th>1953</th>\n",
       "      <td>today</td>\n",
       "      <td>0.013333</td>\n",
       "    </tr>\n",
       "    <tr>\n",
       "      <th>1348</th>\n",
       "      <td>nike</td>\n",
       "      <td>0.013333</td>\n",
       "    </tr>\n",
       "    <tr>\n",
       "      <th>1124</th>\n",
       "      <td>legit</td>\n",
       "      <td>0.013333</td>\n",
       "    </tr>\n",
       "    <tr>\n",
       "      <th>1164</th>\n",
       "      <td>look</td>\n",
       "      <td>0.013333</td>\n",
       "    </tr>\n",
       "    <tr>\n",
       "      <th>902</th>\n",
       "      <td>guys</td>\n",
       "      <td>0.013333</td>\n",
       "    </tr>\n",
       "    <tr>\n",
       "      <th>1290</th>\n",
       "      <td>model</td>\n",
       "      <td>0.013333</td>\n",
       "    </tr>\n",
       "    <tr>\n",
       "      <th>303</th>\n",
       "      <td>balances</td>\n",
       "      <td>0.006667</td>\n",
       "    </tr>\n",
       "    <tr>\n",
       "      <th>1325</th>\n",
       "      <td>nb</td>\n",
       "      <td>0.006667</td>\n",
       "    </tr>\n",
       "    <tr>\n",
       "      <th>251</th>\n",
       "      <td>anybody</td>\n",
       "      <td>0.006667</td>\n",
       "    </tr>\n",
       "  </tbody>\n",
       "</table>\n",
       "</div>"
      ],
      "text/plain": [
       "          word  importance\n",
       "989   identify    0.013333\n",
       "336      black    0.013333\n",
       "1876      sure    0.013333\n",
       "302    balance    0.013333\n",
       "643       does    0.013333\n",
       "1995    trying    0.013333\n",
       "1953     today    0.013333\n",
       "1348      nike    0.013333\n",
       "1124     legit    0.013333\n",
       "1164      look    0.013333\n",
       "902       guys    0.013333\n",
       "1290     model    0.013333\n",
       "303   balances    0.006667\n",
       "1325        nb    0.006667\n",
       "251    anybody    0.006667"
      ]
     },
     "execution_count": 19,
     "metadata": {},
     "output_type": "execute_result"
    }
   ],
   "source": [
    "ada_imps.sort_values(by='importance', ascending=False).head(15)"
   ]
  },
  {
   "cell_type": "markdown",
   "id": "8066d8ce-03de-468f-9217-db21b44c4c45",
   "metadata": {},
   "source": [
    "### Create dataframe of the predictions "
   ]
  },
  {
   "cell_type": "code",
   "execution_count": 20,
   "id": "b1b25df3-151c-4091-9725-d01fa0cd6891",
   "metadata": {},
   "outputs": [],
   "source": [
    "test_preds = abc.predict(X_test)"
   ]
  },
  {
   "cell_type": "code",
   "execution_count": 21,
   "id": "3bc022a7-8152-4187-9e5f-133fdce60b1e",
   "metadata": {},
   "outputs": [],
   "source": [
    "pred_df = pd.DataFrame(test_preds)"
   ]
  },
  {
   "cell_type": "code",
   "execution_count": 22,
   "id": "debfbd27-ffe5-44cd-a2fe-00aa8ef40390",
   "metadata": {},
   "outputs": [
    {
     "data": {
      "text/html": [
       "<div>\n",
       "<style scoped>\n",
       "    .dataframe tbody tr th:only-of-type {\n",
       "        vertical-align: middle;\n",
       "    }\n",
       "\n",
       "    .dataframe tbody tr th {\n",
       "        vertical-align: top;\n",
       "    }\n",
       "\n",
       "    .dataframe thead th {\n",
       "        text-align: right;\n",
       "    }\n",
       "</style>\n",
       "<table border=\"1\" class=\"dataframe\">\n",
       "  <thead>\n",
       "    <tr style=\"text-align: right;\">\n",
       "      <th></th>\n",
       "      <th>0</th>\n",
       "    </tr>\n",
       "  </thead>\n",
       "  <tbody>\n",
       "    <tr>\n",
       "      <th>0</th>\n",
       "      <td>Newbalance</td>\n",
       "    </tr>\n",
       "    <tr>\n",
       "      <th>1</th>\n",
       "      <td>Newbalance</td>\n",
       "    </tr>\n",
       "    <tr>\n",
       "      <th>2</th>\n",
       "      <td>Newbalance</td>\n",
       "    </tr>\n",
       "    <tr>\n",
       "      <th>3</th>\n",
       "      <td>Newbalance</td>\n",
       "    </tr>\n",
       "    <tr>\n",
       "      <th>4</th>\n",
       "      <td>Newbalance</td>\n",
       "    </tr>\n",
       "    <tr>\n",
       "      <th>...</th>\n",
       "      <td>...</td>\n",
       "    </tr>\n",
       "    <tr>\n",
       "      <th>653</th>\n",
       "      <td>Nike</td>\n",
       "    </tr>\n",
       "    <tr>\n",
       "      <th>654</th>\n",
       "      <td>Nike</td>\n",
       "    </tr>\n",
       "    <tr>\n",
       "      <th>655</th>\n",
       "      <td>Nike</td>\n",
       "    </tr>\n",
       "    <tr>\n",
       "      <th>656</th>\n",
       "      <td>Nike</td>\n",
       "    </tr>\n",
       "    <tr>\n",
       "      <th>657</th>\n",
       "      <td>Newbalance</td>\n",
       "    </tr>\n",
       "  </tbody>\n",
       "</table>\n",
       "<p>658 rows × 1 columns</p>\n",
       "</div>"
      ],
      "text/plain": [
       "              0\n",
       "0    Newbalance\n",
       "1    Newbalance\n",
       "2    Newbalance\n",
       "3    Newbalance\n",
       "4    Newbalance\n",
       "..          ...\n",
       "653        Nike\n",
       "654        Nike\n",
       "655        Nike\n",
       "656        Nike\n",
       "657  Newbalance\n",
       "\n",
       "[658 rows x 1 columns]"
      ]
     },
     "execution_count": 22,
     "metadata": {},
     "output_type": "execute_result"
    }
   ],
   "source": [
    "pred_df"
   ]
  },
  {
   "cell_type": "markdown",
   "id": "5f4330d3-91ba-4862-9a57-b067f926d3a3",
   "metadata": {},
   "source": [
    "### Plot the decision trees by each learner "
   ]
  },
  {
   "cell_type": "code",
   "execution_count": 65,
   "id": "bc97def7-b23c-47b6-9842-58f7e52d18db",
   "metadata": {},
   "outputs": [
    {
     "data": {
      "image/png": "[encoded data removed]",
      "text/plain": [
       "<Figure size 432x288 with 1 Axes>"
      ]
     },
     "metadata": {
      "needs_background": "light"
     },
     "output_type": "display_data"
    }
   ],
   "source": [
    "plot_tree(abc.estimators_[0], feature_names=cv_feature_names, class_names=['New Balance', 'Nike']);\n",
    "plt.savefig('visuals/forest_diagram.jpeg')"
   ]
  },
  {
   "cell_type": "code",
   "execution_count": 66,
   "id": "3f247113-9a55-421f-b7f1-f53f2e1cfcd4",
   "metadata": {
    "tags": []
   },
   "outputs": [
    {
     "data": {
      "image/png": "[encoded data removed]",
      "text/plain": [
       "<Figure size 432x288 with 1 Axes>"
      ]
     },
     "metadata": {
      "needs_background": "light"
     },
     "output_type": "display_data"
    }
   ],
   "source": [
    "plot_tree(abc.estimators_[1], feature_names=cv_feature_names, class_names=['New Balance', 'Nike']);"
   ]
  },
  {
   "cell_type": "markdown",
   "id": "b253d8d0-ff34-4e5a-afc8-7a0048e880f0",
   "metadata": {},
   "source": [
    "### Refine the training and test data "
   ]
  },
  {
   "cell_type": "code",
   "execution_count": 27,
   "id": "fdd4a13a-aacc-44b7-bf94-4d2adc8c3845",
   "metadata": {},
   "outputs": [],
   "source": [
    "# Redefine training and testing sets.\n",
    "X_train, X_test, y_train, y_test = train_test_split(X,\n",
    "                                                    y,\n",
    "                                                    test_size=0.33,\n",
    "                                                    stratify=y,\n",
    "                                                    random_state=42)"
   ]
  },
  {
   "cell_type": "markdown",
   "id": "0e2b85f1-8569-4597-a43e-252c0eea56b2",
   "metadata": {},
   "source": [
    "### Pipeline analysis of shoes dataset with Count Vectorizer and Ada Boost Classifier  "
   ]
  },
  {
   "cell_type": "code",
   "execution_count": 70,
   "id": "9a9dc70d-99d5-4efd-b675-95b6b6d476df",
   "metadata": {},
   "outputs": [],
   "source": [
    "# 1. CountVectorizer (transformer)\n",
    "# 2. Multinomial Naive Bayes (estimator)\n",
    "\n",
    "pipe = Pipeline([\n",
    "    ('cv', CountVectorizer(stop_words='english')), \n",
    "    ('abc', AdaBoostClassifier())\n",
    "    \n",
    "])"
   ]
  },
  {
   "cell_type": "code",
   "execution_count": 37,
   "id": "c2e04078-d331-49ab-b92f-646f2e5c550d",
   "metadata": {},
   "outputs": [
    {
     "data": {
      "text/plain": [
       "(0.8307116104868913, 0.7811550151975684)"
      ]
     },
     "execution_count": 37,
     "metadata": {},
     "output_type": "execute_result"
    }
   ],
   "source": [
    "pipe.fit(X_train, y_train)\n",
    "pipe.score(X_train, y_train), pipe.score(X_test, y_test)"
   ]
  },
  {
   "cell_type": "markdown",
   "id": "3cd2c300-d1e1-4cf3-867c-9b50607571ce",
   "metadata": {},
   "source": [
    "### Create dataframe of the predictions "
   ]
  },
  {
   "cell_type": "code",
   "execution_count": 38,
   "id": "fefcebe8-0f11-42df-b880-f9514fc5e125",
   "metadata": {},
   "outputs": [],
   "source": [
    "test_preds = pipe.predict(X_test)"
   ]
  },
  {
   "cell_type": "code",
   "execution_count": 39,
   "id": "873e76ed-0cd2-4e56-a290-e07c5745888d",
   "metadata": {},
   "outputs": [],
   "source": [
    "pred_df = pd.DataFrame({'test': X_test.values, 'true label':y_test.values, 'predicted label':test_preds})"
   ]
  },
  {
   "cell_type": "code",
   "execution_count": 40,
   "id": "bba6485b-a3bf-4190-bf3a-006463269768",
   "metadata": {},
   "outputs": [
    {
     "data": {
      "text/html": [
       "<div>\n",
       "<style scoped>\n",
       "    .dataframe tbody tr th:only-of-type {\n",
       "        vertical-align: middle;\n",
       "    }\n",
       "\n",
       "    .dataframe tbody tr th {\n",
       "        vertical-align: top;\n",
       "    }\n",
       "\n",
       "    .dataframe thead th {\n",
       "        text-align: right;\n",
       "    }\n",
       "</style>\n",
       "<table border=\"1\" class=\"dataframe\">\n",
       "  <thead>\n",
       "    <tr style=\"text-align: right;\">\n",
       "      <th></th>\n",
       "      <th>test</th>\n",
       "      <th>true label</th>\n",
       "      <th>predicted label</th>\n",
       "    </tr>\n",
       "  </thead>\n",
       "  <tbody>\n",
       "    <tr>\n",
       "      <th>0</th>\n",
       "      <td>beat the everliving shit out of these tending ...</td>\n",
       "      <td>Newbalance</td>\n",
       "      <td>Newbalance</td>\n",
       "    </tr>\n",
       "    <tr>\n",
       "      <th>1</th>\n",
       "      <td>wide footer question</td>\n",
       "      <td>Newbalance</td>\n",
       "      <td>Newbalance</td>\n",
       "    </tr>\n",
       "    <tr>\n",
       "      <th>2</th>\n",
       "      <td>m990ry v4 cameo because my dad came by with so...</td>\n",
       "      <td>Newbalance</td>\n",
       "      <td>Newbalance</td>\n",
       "    </tr>\n",
       "    <tr>\n",
       "      <th>3</th>\n",
       "      <td>f you new balance</td>\n",
       "      <td>Newbalance</td>\n",
       "      <td>Newbalance</td>\n",
       "    </tr>\n",
       "    <tr>\n",
       "      <th>4</th>\n",
       "      <td>couple dope 574 i picked up recently</td>\n",
       "      <td>Newbalance</td>\n",
       "      <td>Newbalance</td>\n",
       "    </tr>\n",
       "    <tr>\n",
       "      <th>...</th>\n",
       "      <td>...</td>\n",
       "      <td>...</td>\n",
       "      <td>...</td>\n",
       "    </tr>\n",
       "    <tr>\n",
       "      <th>653</th>\n",
       "      <td>hey guys i ve got a pair of nike dunk high rai...</td>\n",
       "      <td>Nike</td>\n",
       "      <td>Nike</td>\n",
       "    </tr>\n",
       "    <tr>\n",
       "      <th>654</th>\n",
       "      <td>can anyone id these for me</td>\n",
       "      <td>Newbalance</td>\n",
       "      <td>Newbalance</td>\n",
       "    </tr>\n",
       "    <tr>\n",
       "      <th>655</th>\n",
       "      <td>would you guys file a warranty return on this ...</td>\n",
       "      <td>Nike</td>\n",
       "      <td>Nike</td>\n",
       "    </tr>\n",
       "    <tr>\n",
       "      <th>656</th>\n",
       "      <td>how do you guys feel on the purple pulses i pi...</td>\n",
       "      <td>Nike</td>\n",
       "      <td>Nike</td>\n",
       "    </tr>\n",
       "    <tr>\n",
       "      <th>657</th>\n",
       "      <td>thoughts on the 57 40 personally i feel like t...</td>\n",
       "      <td>Newbalance</td>\n",
       "      <td>Newbalance</td>\n",
       "    </tr>\n",
       "  </tbody>\n",
       "</table>\n",
       "<p>658 rows × 3 columns</p>\n",
       "</div>"
      ],
      "text/plain": [
       "                                                  test  true label  \\\n",
       "0    beat the everliving shit out of these tending ...  Newbalance   \n",
       "1                                 wide footer question  Newbalance   \n",
       "2    m990ry v4 cameo because my dad came by with so...  Newbalance   \n",
       "3                                    f you new balance  Newbalance   \n",
       "4                 couple dope 574 i picked up recently  Newbalance   \n",
       "..                                                 ...         ...   \n",
       "653  hey guys i ve got a pair of nike dunk high rai...        Nike   \n",
       "654                         can anyone id these for me  Newbalance   \n",
       "655  would you guys file a warranty return on this ...        Nike   \n",
       "656  how do you guys feel on the purple pulses i pi...        Nike   \n",
       "657  thoughts on the 57 40 personally i feel like t...  Newbalance   \n",
       "\n",
       "    predicted label  \n",
       "0        Newbalance  \n",
       "1        Newbalance  \n",
       "2        Newbalance  \n",
       "3        Newbalance  \n",
       "4        Newbalance  \n",
       "..              ...  \n",
       "653            Nike  \n",
       "654      Newbalance  \n",
       "655            Nike  \n",
       "656            Nike  \n",
       "657      Newbalance  \n",
       "\n",
       "[658 rows x 3 columns]"
      ]
     },
     "execution_count": 40,
     "metadata": {},
     "output_type": "execute_result"
    }
   ],
   "source": [
    "pred_df"
   ]
  },
  {
   "cell_type": "markdown",
   "id": "388672ad-1f3b-4c93-ad9e-d8236e206dc2",
   "metadata": {},
   "source": [
    "### Create dataframe with only the incorrectly predicted values"
   ]
  },
  {
   "cell_type": "code",
   "execution_count": 41,
   "id": "4ac0837f-789c-4368-b077-1c8d2e5d5bc9",
   "metadata": {},
   "outputs": [
    {
     "data": {
      "text/html": [
       "<div>\n",
       "<style scoped>\n",
       "    .dataframe tbody tr th:only-of-type {\n",
       "        vertical-align: middle;\n",
       "    }\n",
       "\n",
       "    .dataframe tbody tr th {\n",
       "        vertical-align: top;\n",
       "    }\n",
       "\n",
       "    .dataframe thead th {\n",
       "        text-align: right;\n",
       "    }\n",
       "</style>\n",
       "<table border=\"1\" class=\"dataframe\">\n",
       "  <thead>\n",
       "    <tr style=\"text-align: right;\">\n",
       "      <th></th>\n",
       "      <th>test</th>\n",
       "      <th>true label</th>\n",
       "      <th>predicted label</th>\n",
       "    </tr>\n",
       "  </thead>\n",
       "  <tbody>\n",
       "    <tr>\n",
       "      <th>5</th>\n",
       "      <td>id on those pls</td>\n",
       "      <td>Nike</td>\n",
       "      <td>Newbalance</td>\n",
       "    </tr>\n",
       "    <tr>\n",
       "      <th>6</th>\n",
       "      <td>to those of you with the auralee 550s does you...</td>\n",
       "      <td>Newbalance</td>\n",
       "      <td>Nike</td>\n",
       "    </tr>\n",
       "    <tr>\n",
       "      <th>7</th>\n",
       "      <td>does anyone know what model this is</td>\n",
       "      <td>Newbalance</td>\n",
       "      <td>Nike</td>\n",
       "    </tr>\n",
       "    <tr>\n",
       "      <th>8</th>\n",
       "      <td>any idea what these might be worth</td>\n",
       "      <td>Nike</td>\n",
       "      <td>Newbalance</td>\n",
       "    </tr>\n",
       "    <tr>\n",
       "      <th>9</th>\n",
       "      <td>which model is this</td>\n",
       "      <td>Nike</td>\n",
       "      <td>Newbalance</td>\n",
       "    </tr>\n",
       "    <tr>\n",
       "      <th>11</th>\n",
       "      <td>fire 97 for only 100</td>\n",
       "      <td>Nike</td>\n",
       "      <td>Newbalance</td>\n",
       "    </tr>\n",
       "    <tr>\n",
       "      <th>21</th>\n",
       "      <td>is this okay</td>\n",
       "      <td>Nike</td>\n",
       "      <td>Newbalance</td>\n",
       "    </tr>\n",
       "    <tr>\n",
       "      <th>31</th>\n",
       "      <td>what are those sorry for the bad image quality...</td>\n",
       "      <td>Nike</td>\n",
       "      <td>Newbalance</td>\n",
       "    </tr>\n",
       "    <tr>\n",
       "      <th>33</th>\n",
       "      <td>need help</td>\n",
       "      <td>Newbalance</td>\n",
       "      <td>Nike</td>\n",
       "    </tr>\n",
       "    <tr>\n",
       "      <th>35</th>\n",
       "      <td>adidas is ten times better</td>\n",
       "      <td>Nike</td>\n",
       "      <td>Newbalance</td>\n",
       "    </tr>\n",
       "    <tr>\n",
       "      <th>38</th>\n",
       "      <td>yep there are some of them that are in the wild</td>\n",
       "      <td>Nike</td>\n",
       "      <td>Newbalance</td>\n",
       "    </tr>\n",
       "    <tr>\n",
       "      <th>41</th>\n",
       "      <td>put the hawaii s on today they came with both ...</td>\n",
       "      <td>Nike</td>\n",
       "      <td>Newbalance</td>\n",
       "    </tr>\n",
       "    <tr>\n",
       "      <th>42</th>\n",
       "      <td>daily poster challenge that i and my friend di...</td>\n",
       "      <td>Newbalance</td>\n",
       "      <td>Nike</td>\n",
       "    </tr>\n",
       "    <tr>\n",
       "      <th>49</th>\n",
       "      <td>airmax 95 s no sew</td>\n",
       "      <td>Nike</td>\n",
       "      <td>Newbalance</td>\n",
       "    </tr>\n",
       "    <tr>\n",
       "      <th>57</th>\n",
       "      <td>should i wear them or you think the price will...</td>\n",
       "      <td>Nike</td>\n",
       "      <td>Newbalance</td>\n",
       "    </tr>\n",
       "  </tbody>\n",
       "</table>\n",
       "</div>"
      ],
      "text/plain": [
       "                                                 test  true label  \\\n",
       "5                                     id on those pls        Nike   \n",
       "6   to those of you with the auralee 550s does you...  Newbalance   \n",
       "7                 does anyone know what model this is  Newbalance   \n",
       "8                  any idea what these might be worth        Nike   \n",
       "9                                 which model is this        Nike   \n",
       "11                               fire 97 for only 100        Nike   \n",
       "21                                       is this okay        Nike   \n",
       "31  what are those sorry for the bad image quality...        Nike   \n",
       "33                                          need help  Newbalance   \n",
       "35                         adidas is ten times better        Nike   \n",
       "38    yep there are some of them that are in the wild        Nike   \n",
       "41  put the hawaii s on today they came with both ...        Nike   \n",
       "42  daily poster challenge that i and my friend di...  Newbalance   \n",
       "49                                 airmax 95 s no sew        Nike   \n",
       "57  should i wear them or you think the price will...        Nike   \n",
       "\n",
       "   predicted label  \n",
       "5       Newbalance  \n",
       "6             Nike  \n",
       "7             Nike  \n",
       "8       Newbalance  \n",
       "9       Newbalance  \n",
       "11      Newbalance  \n",
       "21      Newbalance  \n",
       "31      Newbalance  \n",
       "33            Nike  \n",
       "35      Newbalance  \n",
       "38      Newbalance  \n",
       "41      Newbalance  \n",
       "42            Nike  \n",
       "49      Newbalance  \n",
       "57      Newbalance  "
      ]
     },
     "execution_count": 41,
     "metadata": {},
     "output_type": "execute_result"
    }
   ],
   "source": [
    "pred_df[pred_df['true label'] != pred_df['predicted label']].head(15)"
   ]
  },
  {
   "cell_type": "markdown",
   "id": "791b5850-ef74-4017-a86f-4c5ab7d334bb",
   "metadata": {},
   "source": [
    "### Plot the misclassifications with a confusion matrix "
   ]
  },
  {
   "cell_type": "code",
   "execution_count": 63,
   "id": "2a65132a-5a5e-4ebe-8903-5f7e90d5f733",
   "metadata": {},
   "outputs": [
    {
     "data": {
      "image/png": "[encoded data removed]",
      "text/plain": [
       "<Figure size 432x288 with 2 Axes>"
      ]
     },
     "metadata": {
      "needs_background": "light"
     },
     "output_type": "display_data"
    }
   ],
   "source": [
    "plot_confusion_matrix(pipe, X_test, y_test, cmap='Blues', values_format='d');\n",
    "plt.savefig('visuals/confusion_matrix_cv_ada.jpeg')"
   ]
  },
  {
   "cell_type": "markdown",
   "id": "42837f0b-56de-4b75-9cb6-6082b4caa587",
   "metadata": {},
   "source": [
    "### Get the report of the predictions including precision, accuracy, etc. "
   ]
  },
  {
   "cell_type": "code",
   "execution_count": 48,
   "id": "3cdacb03-69a0-49d5-9ae6-a5fa04065e4e",
   "metadata": {},
   "outputs": [
    {
     "name": "stdout",
     "output_type": "stream",
     "text": [
      "              precision    recall  f1-score   support\n",
      "\n",
      "  Newbalance       0.73      0.90      0.80       329\n",
      "        Nike       0.87      0.66      0.75       329\n",
      "\n",
      "    accuracy                           0.78       658\n",
      "   macro avg       0.80      0.78      0.78       658\n",
      "weighted avg       0.80      0.78      0.78       658\n",
      "\n"
     ]
    }
   ],
   "source": [
    "print(classification_report(y_test, test_preds))"
   ]
  },
  {
   "cell_type": "markdown",
   "id": "55b4becf-952c-417c-8b7d-964d41e3f06d",
   "metadata": {},
   "source": [
    "### Refine the training and test data "
   ]
  },
  {
   "cell_type": "code",
   "execution_count": 50,
   "id": "b08d57f5-f353-44ec-af30-387cc16ecc68",
   "metadata": {},
   "outputs": [],
   "source": [
    "# Redefine training and testing sets.\n",
    "X_train, X_test, y_train, y_test = train_test_split(X,\n",
    "                                                    y,\n",
    "                                                    test_size=0.33,\n",
    "                                                    stratify=y,\n",
    "                                                    random_state=42)"
   ]
  },
  {
   "cell_type": "markdown",
   "id": "1601c8c7-9182-48bd-a571-d99d819a53ab",
   "metadata": {},
   "source": [
    "### Pipeline analysis of shoes dataset with Count Vectorizer and Decision Tree Classifier  "
   ]
  },
  {
   "cell_type": "code",
   "execution_count": 53,
   "id": "5c287602-9c5d-48ae-b739-6ad21fa8f369",
   "metadata": {},
   "outputs": [],
   "source": [
    "# 1. CountVectorizer (transformer)\n",
    "# 2. Multinomial Naive Bayes (estimator)\n",
    "\n",
    "pipe = Pipeline([\n",
    "    ('cv', CountVectorizer(stop_words='english')), \n",
    "    ('dtc', DecisionTreeClassifier()),\n",
    "    \n",
    "])"
   ]
  },
  {
   "cell_type": "code",
   "execution_count": 54,
   "id": "9702ddb8-8172-43ec-87b8-1c08ca58cf2c",
   "metadata": {},
   "outputs": [
    {
     "data": {
      "text/plain": [
       "(0.9955056179775281, 0.7142857142857143)"
      ]
     },
     "execution_count": 54,
     "metadata": {},
     "output_type": "execute_result"
    }
   ],
   "source": [
    "pipe.fit(X_train, y_train)\n",
    "pipe.score(X_train, y_train), pipe.score(X_test, y_test)"
   ]
  },
  {
   "cell_type": "markdown",
   "id": "54ca2e30-32b9-4f9c-8fd2-edd308cb5f1a",
   "metadata": {},
   "source": [
    "### Create dataframe of the predictions "
   ]
  },
  {
   "cell_type": "code",
   "execution_count": 55,
   "id": "270b8a16-7150-449a-88e7-2f163a01782d",
   "metadata": {},
   "outputs": [],
   "source": [
    "test_preds = pipe.predict(X_test)"
   ]
  },
  {
   "cell_type": "code",
   "execution_count": 56,
   "id": "168afa0e-ee88-4727-9d9a-2c7a4ade50c9",
   "metadata": {},
   "outputs": [],
   "source": [
    "pred_df = pd.DataFrame({'test': X_test.values, 'true label':y_test.values, 'predicted label':test_preds})"
   ]
  },
  {
   "cell_type": "code",
   "execution_count": 57,
   "id": "d03301d0-0c96-47af-9a3f-ed9ca60f13ad",
   "metadata": {},
   "outputs": [
    {
     "data": {
      "text/html": [
       "<div>\n",
       "<style scoped>\n",
       "    .dataframe tbody tr th:only-of-type {\n",
       "        vertical-align: middle;\n",
       "    }\n",
       "\n",
       "    .dataframe tbody tr th {\n",
       "        vertical-align: top;\n",
       "    }\n",
       "\n",
       "    .dataframe thead th {\n",
       "        text-align: right;\n",
       "    }\n",
       "</style>\n",
       "<table border=\"1\" class=\"dataframe\">\n",
       "  <thead>\n",
       "    <tr style=\"text-align: right;\">\n",
       "      <th></th>\n",
       "      <th>test</th>\n",
       "      <th>true label</th>\n",
       "      <th>predicted label</th>\n",
       "    </tr>\n",
       "  </thead>\n",
       "  <tbody>\n",
       "    <tr>\n",
       "      <th>0</th>\n",
       "      <td>beat the everliving shit out of these tending ...</td>\n",
       "      <td>Newbalance</td>\n",
       "      <td>Nike</td>\n",
       "    </tr>\n",
       "    <tr>\n",
       "      <th>1</th>\n",
       "      <td>wide footer question</td>\n",
       "      <td>Newbalance</td>\n",
       "      <td>Newbalance</td>\n",
       "    </tr>\n",
       "    <tr>\n",
       "      <th>2</th>\n",
       "      <td>m990ry v4 cameo because my dad came by with so...</td>\n",
       "      <td>Newbalance</td>\n",
       "      <td>Newbalance</td>\n",
       "    </tr>\n",
       "    <tr>\n",
       "      <th>3</th>\n",
       "      <td>f you new balance</td>\n",
       "      <td>Newbalance</td>\n",
       "      <td>Newbalance</td>\n",
       "    </tr>\n",
       "    <tr>\n",
       "      <th>4</th>\n",
       "      <td>couple dope 574 i picked up recently</td>\n",
       "      <td>Newbalance</td>\n",
       "      <td>Newbalance</td>\n",
       "    </tr>\n",
       "    <tr>\n",
       "      <th>...</th>\n",
       "      <td>...</td>\n",
       "      <td>...</td>\n",
       "      <td>...</td>\n",
       "    </tr>\n",
       "    <tr>\n",
       "      <th>653</th>\n",
       "      <td>hey guys i ve got a pair of nike dunk high rai...</td>\n",
       "      <td>Nike</td>\n",
       "      <td>Nike</td>\n",
       "    </tr>\n",
       "    <tr>\n",
       "      <th>654</th>\n",
       "      <td>can anyone id these for me</td>\n",
       "      <td>Newbalance</td>\n",
       "      <td>Nike</td>\n",
       "    </tr>\n",
       "    <tr>\n",
       "      <th>655</th>\n",
       "      <td>would you guys file a warranty return on this ...</td>\n",
       "      <td>Nike</td>\n",
       "      <td>Newbalance</td>\n",
       "    </tr>\n",
       "    <tr>\n",
       "      <th>656</th>\n",
       "      <td>how do you guys feel on the purple pulses i pi...</td>\n",
       "      <td>Nike</td>\n",
       "      <td>Newbalance</td>\n",
       "    </tr>\n",
       "    <tr>\n",
       "      <th>657</th>\n",
       "      <td>thoughts on the 57 40 personally i feel like t...</td>\n",
       "      <td>Newbalance</td>\n",
       "      <td>Newbalance</td>\n",
       "    </tr>\n",
       "  </tbody>\n",
       "</table>\n",
       "<p>658 rows × 3 columns</p>\n",
       "</div>"
      ],
      "text/plain": [
       "                                                  test  true label  \\\n",
       "0    beat the everliving shit out of these tending ...  Newbalance   \n",
       "1                                 wide footer question  Newbalance   \n",
       "2    m990ry v4 cameo because my dad came by with so...  Newbalance   \n",
       "3                                    f you new balance  Newbalance   \n",
       "4                 couple dope 574 i picked up recently  Newbalance   \n",
       "..                                                 ...         ...   \n",
       "653  hey guys i ve got a pair of nike dunk high rai...        Nike   \n",
       "654                         can anyone id these for me  Newbalance   \n",
       "655  would you guys file a warranty return on this ...        Nike   \n",
       "656  how do you guys feel on the purple pulses i pi...        Nike   \n",
       "657  thoughts on the 57 40 personally i feel like t...  Newbalance   \n",
       "\n",
       "    predicted label  \n",
       "0              Nike  \n",
       "1        Newbalance  \n",
       "2        Newbalance  \n",
       "3        Newbalance  \n",
       "4        Newbalance  \n",
       "..              ...  \n",
       "653            Nike  \n",
       "654            Nike  \n",
       "655      Newbalance  \n",
       "656      Newbalance  \n",
       "657      Newbalance  \n",
       "\n",
       "[658 rows x 3 columns]"
      ]
     },
     "execution_count": 57,
     "metadata": {},
     "output_type": "execute_result"
    }
   ],
   "source": [
    "pred_df"
   ]
  },
  {
   "cell_type": "markdown",
   "id": "f5570452-94ab-4bd6-95ec-0879d5e8aa10",
   "metadata": {},
   "source": [
    "### Create dataframe with only the incorrectly predicted values"
   ]
  },
  {
   "cell_type": "code",
   "execution_count": 58,
   "id": "033a2ad8-9bf3-493d-896b-bc78e3c134e1",
   "metadata": {},
   "outputs": [
    {
     "data": {
      "text/html": [
       "<div>\n",
       "<style scoped>\n",
       "    .dataframe tbody tr th:only-of-type {\n",
       "        vertical-align: middle;\n",
       "    }\n",
       "\n",
       "    .dataframe tbody tr th {\n",
       "        vertical-align: top;\n",
       "    }\n",
       "\n",
       "    .dataframe thead th {\n",
       "        text-align: right;\n",
       "    }\n",
       "</style>\n",
       "<table border=\"1\" class=\"dataframe\">\n",
       "  <thead>\n",
       "    <tr style=\"text-align: right;\">\n",
       "      <th></th>\n",
       "      <th>test</th>\n",
       "      <th>true label</th>\n",
       "      <th>predicted label</th>\n",
       "    </tr>\n",
       "  </thead>\n",
       "  <tbody>\n",
       "    <tr>\n",
       "      <th>0</th>\n",
       "      <td>beat the everliving shit out of these tending ...</td>\n",
       "      <td>Newbalance</td>\n",
       "      <td>Nike</td>\n",
       "    </tr>\n",
       "    <tr>\n",
       "      <th>5</th>\n",
       "      <td>id on those pls</td>\n",
       "      <td>Nike</td>\n",
       "      <td>Newbalance</td>\n",
       "    </tr>\n",
       "    <tr>\n",
       "      <th>6</th>\n",
       "      <td>to those of you with the auralee 550s does you...</td>\n",
       "      <td>Newbalance</td>\n",
       "      <td>Nike</td>\n",
       "    </tr>\n",
       "    <tr>\n",
       "      <th>7</th>\n",
       "      <td>does anyone know what model this is</td>\n",
       "      <td>Newbalance</td>\n",
       "      <td>Nike</td>\n",
       "    </tr>\n",
       "    <tr>\n",
       "      <th>9</th>\n",
       "      <td>which model is this</td>\n",
       "      <td>Nike</td>\n",
       "      <td>Newbalance</td>\n",
       "    </tr>\n",
       "    <tr>\n",
       "      <th>17</th>\n",
       "      <td>headed home</td>\n",
       "      <td>Newbalance</td>\n",
       "      <td>Nike</td>\n",
       "    </tr>\n",
       "    <tr>\n",
       "      <th>18</th>\n",
       "      <td>i run in 840v4 and reorder them as needed for ...</td>\n",
       "      <td>Newbalance</td>\n",
       "      <td>Nike</td>\n",
       "    </tr>\n",
       "    <tr>\n",
       "      <th>25</th>\n",
       "      <td>question about unisex sizing</td>\n",
       "      <td>Newbalance</td>\n",
       "      <td>Nike</td>\n",
       "    </tr>\n",
       "    <tr>\n",
       "      <th>42</th>\n",
       "      <td>daily poster challenge that i and my friend di...</td>\n",
       "      <td>Newbalance</td>\n",
       "      <td>Nike</td>\n",
       "    </tr>\n",
       "    <tr>\n",
       "      <th>47</th>\n",
       "      <td>scored all 3</td>\n",
       "      <td>Newbalance</td>\n",
       "      <td>Nike</td>\n",
       "    </tr>\n",
       "    <tr>\n",
       "      <th>54</th>\n",
       "      <td>love this green</td>\n",
       "      <td>Newbalance</td>\n",
       "      <td>Nike</td>\n",
       "    </tr>\n",
       "    <tr>\n",
       "      <th>56</th>\n",
       "      <td>mail call</td>\n",
       "      <td>Newbalance</td>\n",
       "      <td>Nike</td>\n",
       "    </tr>\n",
       "    <tr>\n",
       "      <th>57</th>\n",
       "      <td>should i wear them or you think the price will...</td>\n",
       "      <td>Nike</td>\n",
       "      <td>Newbalance</td>\n",
       "    </tr>\n",
       "    <tr>\n",
       "      <th>65</th>\n",
       "      <td>experience with hibbet</td>\n",
       "      <td>Newbalance</td>\n",
       "      <td>Nike</td>\n",
       "    </tr>\n",
       "    <tr>\n",
       "      <th>66</th>\n",
       "      <td>what is wrong with the color on my metallic or...</td>\n",
       "      <td>Nike</td>\n",
       "      <td>Newbalance</td>\n",
       "    </tr>\n",
       "  </tbody>\n",
       "</table>\n",
       "</div>"
      ],
      "text/plain": [
       "                                                 test  true label  \\\n",
       "0   beat the everliving shit out of these tending ...  Newbalance   \n",
       "5                                     id on those pls        Nike   \n",
       "6   to those of you with the auralee 550s does you...  Newbalance   \n",
       "7                 does anyone know what model this is  Newbalance   \n",
       "9                                 which model is this        Nike   \n",
       "17                                        headed home  Newbalance   \n",
       "18  i run in 840v4 and reorder them as needed for ...  Newbalance   \n",
       "25                       question about unisex sizing  Newbalance   \n",
       "42  daily poster challenge that i and my friend di...  Newbalance   \n",
       "47                                       scored all 3  Newbalance   \n",
       "54                                    love this green  Newbalance   \n",
       "56                                          mail call  Newbalance   \n",
       "57  should i wear them or you think the price will...        Nike   \n",
       "65                             experience with hibbet  Newbalance   \n",
       "66  what is wrong with the color on my metallic or...        Nike   \n",
       "\n",
       "   predicted label  \n",
       "0             Nike  \n",
       "5       Newbalance  \n",
       "6             Nike  \n",
       "7             Nike  \n",
       "9       Newbalance  \n",
       "17            Nike  \n",
       "18            Nike  \n",
       "25            Nike  \n",
       "42            Nike  \n",
       "47            Nike  \n",
       "54            Nike  \n",
       "56            Nike  \n",
       "57      Newbalance  \n",
       "65            Nike  \n",
       "66      Newbalance  "
      ]
     },
     "execution_count": 58,
     "metadata": {},
     "output_type": "execute_result"
    }
   ],
   "source": [
    "pred_df[pred_df['true label'] != pred_df['predicted label']].head(15)"
   ]
  },
  {
   "cell_type": "markdown",
   "id": "6929d29d-a27e-4bc5-8de4-9ffc820f9a97",
   "metadata": {},
   "source": [
    "### Plot the misclassifications with a confusion matrix "
   ]
  },
  {
   "cell_type": "code",
   "execution_count": 64,
   "id": "92a8f917-811c-4c9f-8e6e-0d0bb2abc83d",
   "metadata": {},
   "outputs": [
    {
     "data": {
      "image/png": "[encoded data removed]",
      "text/plain": [
       "<Figure size 432x288 with 2 Axes>"
      ]
     },
     "metadata": {
      "needs_background": "light"
     },
     "output_type": "display_data"
    }
   ],
   "source": [
    "plot_confusion_matrix(pipe, X_test, y_test, cmap='Blues', values_format='d');\n",
    "plt.savefig('visuals/confusion_matrix_cv_forest.jpeg')"
   ]
  },
  {
   "cell_type": "code",
   "execution_count": 60,
   "id": "d764caf4-ed2f-4746-8c00-4be90b5e4edd",
   "metadata": {},
   "outputs": [
    {
     "name": "stdout",
     "output_type": "stream",
     "text": [
      "              precision    recall  f1-score   support\n",
      "\n",
      "  Newbalance       0.78      0.60      0.68       329\n",
      "        Nike       0.67      0.83      0.74       329\n",
      "\n",
      "    accuracy                           0.71       658\n",
      "   macro avg       0.73      0.71      0.71       658\n",
      "weighted avg       0.73      0.71      0.71       658\n",
      "\n"
     ]
    }
   ],
   "source": [
    "print(classification_report(y_test, test_preds))"
   ]
  },
  {
   "cell_type": "markdown",
   "id": "dbb46680-2bd1-45dd-a80a-0404bd92287d",
   "metadata": {},
   "source": [
    "### Get the report of the predictions including precision, accuracy, etc. "
   ]
  },
  {
   "cell_type": "code",
   "execution_count": null,
   "id": "327a02ec-15cc-4775-bab5-e808bfc8df49",
   "metadata": {},
   "outputs": [],
   "source": []
  }
 ],
 "metadata": {
  "kernelspec": {
   "display_name": "Python 3 (ipykernel)",
   "language": "python",
   "name": "python3"
  },
  "language_info": {
   "codemirror_mode": {
    "name": "ipython",
    "version": 3
   },
   "file_extension": ".py",
   "mimetype": "text/x-python",
   "name": "python",
   "nbconvert_exporter": "python",
   "pygments_lexer": "ipython3",
   "version": "3.9.7"
  }
 },
 "nbformat": 4,
 "nbformat_minor": 5
}
